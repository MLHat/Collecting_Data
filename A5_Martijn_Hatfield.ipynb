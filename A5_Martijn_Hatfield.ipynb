{
  "nbformat": 4,
  "nbformat_minor": 0,
  "metadata": {
    "colab": {
      "name": "A5_Martijn_Hatfield",
      "provenance": [],
      "collapsed_sections": [],
      "include_colab_link": true
    },
    "kernelspec": {
      "display_name": "Python 3",
      "language": "python",
      "name": "python3"
    },
    "language_info": {
      "codemirror_mode": {
        "name": "ipython",
        "version": 3
      },
      "file_extension": ".py",
      "mimetype": "text/x-python",
      "name": "python",
      "nbconvert_exporter": "python",
      "pygments_lexer": "ipython3",
      "version": "3.7.3"
    },
    "widgets": {
      "application/vnd.jupyter.widget-state+json": {
        "b5361324b94846c5aaa572527cfa6f1f": {
          "model_module": "@jupyter-widgets/controls",
          "model_name": "HBoxModel",
          "model_module_version": "1.5.0",
          "state": {
            "_view_name": "HBoxView",
            "_dom_classes": [],
            "_model_name": "HBoxModel",
            "_view_module": "@jupyter-widgets/controls",
            "_model_module_version": "1.5.0",
            "_view_count": null,
            "_view_module_version": "1.5.0",
            "box_style": "",
            "layout": "IPY_MODEL_d31c15594c5549bf9135d7f1b30bc9d8",
            "_model_module": "@jupyter-widgets/controls",
            "children": [
              "IPY_MODEL_d8ccf5a1aa354ce5af8767c4b073e5db",
              "IPY_MODEL_1ce5250dce994d53bea22fbf9d7daedf",
              "IPY_MODEL_9eddaf497ff9481ab00ac6183f99106a"
            ]
          }
        },
        "d31c15594c5549bf9135d7f1b30bc9d8": {
          "model_module": "@jupyter-widgets/base",
          "model_name": "LayoutModel",
          "model_module_version": "1.2.0",
          "state": {
            "_view_name": "LayoutView",
            "grid_template_rows": null,
            "right": null,
            "justify_content": null,
            "_view_module": "@jupyter-widgets/base",
            "overflow": null,
            "_model_module_version": "1.2.0",
            "_view_count": null,
            "flex_flow": null,
            "width": null,
            "min_width": null,
            "border": null,
            "align_items": null,
            "bottom": null,
            "_model_module": "@jupyter-widgets/base",
            "top": null,
            "grid_column": null,
            "overflow_y": null,
            "overflow_x": null,
            "grid_auto_flow": null,
            "grid_area": null,
            "grid_template_columns": null,
            "flex": null,
            "_model_name": "LayoutModel",
            "justify_items": null,
            "grid_row": null,
            "max_height": null,
            "align_content": null,
            "visibility": null,
            "align_self": null,
            "height": null,
            "min_height": null,
            "padding": null,
            "grid_auto_rows": null,
            "grid_gap": null,
            "max_width": null,
            "order": null,
            "_view_module_version": "1.2.0",
            "grid_template_areas": null,
            "object_position": null,
            "object_fit": null,
            "grid_auto_columns": null,
            "margin": null,
            "display": null,
            "left": null
          }
        },
        "d8ccf5a1aa354ce5af8767c4b073e5db": {
          "model_module": "@jupyter-widgets/controls",
          "model_name": "HTMLModel",
          "model_module_version": "1.5.0",
          "state": {
            "_view_name": "HTMLView",
            "style": "IPY_MODEL_d15e272ca8834155ac2f41551ba4c75e",
            "_dom_classes": [],
            "description": "",
            "_model_name": "HTMLModel",
            "placeholder": "​",
            "_view_module": "@jupyter-widgets/controls",
            "_model_module_version": "1.5.0",
            "value": "100%",
            "_view_count": null,
            "_view_module_version": "1.5.0",
            "description_tooltip": null,
            "_model_module": "@jupyter-widgets/controls",
            "layout": "IPY_MODEL_f490ec064d684a9db986967e5ce5a70a"
          }
        },
        "1ce5250dce994d53bea22fbf9d7daedf": {
          "model_module": "@jupyter-widgets/controls",
          "model_name": "FloatProgressModel",
          "model_module_version": "1.5.0",
          "state": {
            "_view_name": "ProgressView",
            "style": "IPY_MODEL_ed2c39f759d644c9a4a33ad769ba8193",
            "_dom_classes": [],
            "description": "",
            "_model_name": "FloatProgressModel",
            "bar_style": "success",
            "max": 3,
            "_view_module": "@jupyter-widgets/controls",
            "_model_module_version": "1.5.0",
            "value": 3,
            "_view_count": null,
            "_view_module_version": "1.5.0",
            "orientation": "horizontal",
            "min": 0,
            "description_tooltip": null,
            "_model_module": "@jupyter-widgets/controls",
            "layout": "IPY_MODEL_ee721128712f4e689d40908fec40b7b0"
          }
        },
        "9eddaf497ff9481ab00ac6183f99106a": {
          "model_module": "@jupyter-widgets/controls",
          "model_name": "HTMLModel",
          "model_module_version": "1.5.0",
          "state": {
            "_view_name": "HTMLView",
            "style": "IPY_MODEL_5e354efab75145b0b3b72e2734d315ab",
            "_dom_classes": [],
            "description": "",
            "_model_name": "HTMLModel",
            "placeholder": "​",
            "_view_module": "@jupyter-widgets/controls",
            "_model_module_version": "1.5.0",
            "value": " 3/3 [00:18&lt;00:00,  6.68s/it]",
            "_view_count": null,
            "_view_module_version": "1.5.0",
            "description_tooltip": null,
            "_model_module": "@jupyter-widgets/controls",
            "layout": "IPY_MODEL_d27a0786f30443e8bd5ed18b87e0f62a"
          }
        },
        "d15e272ca8834155ac2f41551ba4c75e": {
          "model_module": "@jupyter-widgets/controls",
          "model_name": "DescriptionStyleModel",
          "model_module_version": "1.5.0",
          "state": {
            "_view_name": "StyleView",
            "_model_name": "DescriptionStyleModel",
            "description_width": "",
            "_view_module": "@jupyter-widgets/base",
            "_model_module_version": "1.5.0",
            "_view_count": null,
            "_view_module_version": "1.2.0",
            "_model_module": "@jupyter-widgets/controls"
          }
        },
        "f490ec064d684a9db986967e5ce5a70a": {
          "model_module": "@jupyter-widgets/base",
          "model_name": "LayoutModel",
          "model_module_version": "1.2.0",
          "state": {
            "_view_name": "LayoutView",
            "grid_template_rows": null,
            "right": null,
            "justify_content": null,
            "_view_module": "@jupyter-widgets/base",
            "overflow": null,
            "_model_module_version": "1.2.0",
            "_view_count": null,
            "flex_flow": null,
            "width": null,
            "min_width": null,
            "border": null,
            "align_items": null,
            "bottom": null,
            "_model_module": "@jupyter-widgets/base",
            "top": null,
            "grid_column": null,
            "overflow_y": null,
            "overflow_x": null,
            "grid_auto_flow": null,
            "grid_area": null,
            "grid_template_columns": null,
            "flex": null,
            "_model_name": "LayoutModel",
            "justify_items": null,
            "grid_row": null,
            "max_height": null,
            "align_content": null,
            "visibility": null,
            "align_self": null,
            "height": null,
            "min_height": null,
            "padding": null,
            "grid_auto_rows": null,
            "grid_gap": null,
            "max_width": null,
            "order": null,
            "_view_module_version": "1.2.0",
            "grid_template_areas": null,
            "object_position": null,
            "object_fit": null,
            "grid_auto_columns": null,
            "margin": null,
            "display": null,
            "left": null
          }
        },
        "ed2c39f759d644c9a4a33ad769ba8193": {
          "model_module": "@jupyter-widgets/controls",
          "model_name": "ProgressStyleModel",
          "model_module_version": "1.5.0",
          "state": {
            "_view_name": "StyleView",
            "_model_name": "ProgressStyleModel",
            "description_width": "",
            "_view_module": "@jupyter-widgets/base",
            "_model_module_version": "1.5.0",
            "_view_count": null,
            "_view_module_version": "1.2.0",
            "bar_color": null,
            "_model_module": "@jupyter-widgets/controls"
          }
        },
        "ee721128712f4e689d40908fec40b7b0": {
          "model_module": "@jupyter-widgets/base",
          "model_name": "LayoutModel",
          "model_module_version": "1.2.0",
          "state": {
            "_view_name": "LayoutView",
            "grid_template_rows": null,
            "right": null,
            "justify_content": null,
            "_view_module": "@jupyter-widgets/base",
            "overflow": null,
            "_model_module_version": "1.2.0",
            "_view_count": null,
            "flex_flow": null,
            "width": null,
            "min_width": null,
            "border": null,
            "align_items": null,
            "bottom": null,
            "_model_module": "@jupyter-widgets/base",
            "top": null,
            "grid_column": null,
            "overflow_y": null,
            "overflow_x": null,
            "grid_auto_flow": null,
            "grid_area": null,
            "grid_template_columns": null,
            "flex": null,
            "_model_name": "LayoutModel",
            "justify_items": null,
            "grid_row": null,
            "max_height": null,
            "align_content": null,
            "visibility": null,
            "align_self": null,
            "height": null,
            "min_height": null,
            "padding": null,
            "grid_auto_rows": null,
            "grid_gap": null,
            "max_width": null,
            "order": null,
            "_view_module_version": "1.2.0",
            "grid_template_areas": null,
            "object_position": null,
            "object_fit": null,
            "grid_auto_columns": null,
            "margin": null,
            "display": null,
            "left": null
          }
        },
        "5e354efab75145b0b3b72e2734d315ab": {
          "model_module": "@jupyter-widgets/controls",
          "model_name": "DescriptionStyleModel",
          "model_module_version": "1.5.0",
          "state": {
            "_view_name": "StyleView",
            "_model_name": "DescriptionStyleModel",
            "description_width": "",
            "_view_module": "@jupyter-widgets/base",
            "_model_module_version": "1.5.0",
            "_view_count": null,
            "_view_module_version": "1.2.0",
            "_model_module": "@jupyter-widgets/controls"
          }
        },
        "d27a0786f30443e8bd5ed18b87e0f62a": {
          "model_module": "@jupyter-widgets/base",
          "model_name": "LayoutModel",
          "model_module_version": "1.2.0",
          "state": {
            "_view_name": "LayoutView",
            "grid_template_rows": null,
            "right": null,
            "justify_content": null,
            "_view_module": "@jupyter-widgets/base",
            "overflow": null,
            "_model_module_version": "1.2.0",
            "_view_count": null,
            "flex_flow": null,
            "width": null,
            "min_width": null,
            "border": null,
            "align_items": null,
            "bottom": null,
            "_model_module": "@jupyter-widgets/base",
            "top": null,
            "grid_column": null,
            "overflow_y": null,
            "overflow_x": null,
            "grid_auto_flow": null,
            "grid_area": null,
            "grid_template_columns": null,
            "flex": null,
            "_model_name": "LayoutModel",
            "justify_items": null,
            "grid_row": null,
            "max_height": null,
            "align_content": null,
            "visibility": null,
            "align_self": null,
            "height": null,
            "min_height": null,
            "padding": null,
            "grid_auto_rows": null,
            "grid_gap": null,
            "max_width": null,
            "order": null,
            "_view_module_version": "1.2.0",
            "grid_template_areas": null,
            "object_position": null,
            "object_fit": null,
            "grid_auto_columns": null,
            "margin": null,
            "display": null,
            "left": null
          }
        },
        "8ea57f239f334e49bbf8c44b6bbf579e": {
          "model_module": "@jupyter-widgets/controls",
          "model_name": "HBoxModel",
          "model_module_version": "1.5.0",
          "state": {
            "_view_name": "HBoxView",
            "_dom_classes": [],
            "_model_name": "HBoxModel",
            "_view_module": "@jupyter-widgets/controls",
            "_model_module_version": "1.5.0",
            "_view_count": null,
            "_view_module_version": "1.5.0",
            "box_style": "",
            "layout": "IPY_MODEL_7b0fefd97bc545c881f3634519a5dd67",
            "_model_module": "@jupyter-widgets/controls",
            "children": [
              "IPY_MODEL_594cec36d50042c483f7da154cab8f3e",
              "IPY_MODEL_6a8c2bf680e74c8aa03a4b7e3a6acaf0",
              "IPY_MODEL_87ca2254c2c44cb3ab8abd77d68d500c"
            ]
          }
        },
        "7b0fefd97bc545c881f3634519a5dd67": {
          "model_module": "@jupyter-widgets/base",
          "model_name": "LayoutModel",
          "model_module_version": "1.2.0",
          "state": {
            "_view_name": "LayoutView",
            "grid_template_rows": null,
            "right": null,
            "justify_content": null,
            "_view_module": "@jupyter-widgets/base",
            "overflow": null,
            "_model_module_version": "1.2.0",
            "_view_count": null,
            "flex_flow": null,
            "width": null,
            "min_width": null,
            "border": null,
            "align_items": null,
            "bottom": null,
            "_model_module": "@jupyter-widgets/base",
            "top": null,
            "grid_column": null,
            "overflow_y": null,
            "overflow_x": null,
            "grid_auto_flow": null,
            "grid_area": null,
            "grid_template_columns": null,
            "flex": null,
            "_model_name": "LayoutModel",
            "justify_items": null,
            "grid_row": null,
            "max_height": null,
            "align_content": null,
            "visibility": null,
            "align_self": null,
            "height": null,
            "min_height": null,
            "padding": null,
            "grid_auto_rows": null,
            "grid_gap": null,
            "max_width": null,
            "order": null,
            "_view_module_version": "1.2.0",
            "grid_template_areas": null,
            "object_position": null,
            "object_fit": null,
            "grid_auto_columns": null,
            "margin": null,
            "display": null,
            "left": null
          }
        },
        "594cec36d50042c483f7da154cab8f3e": {
          "model_module": "@jupyter-widgets/controls",
          "model_name": "HTMLModel",
          "model_module_version": "1.5.0",
          "state": {
            "_view_name": "HTMLView",
            "style": "IPY_MODEL_4ca8837182bf40b8aa9163e7713bbde0",
            "_dom_classes": [],
            "description": "",
            "_model_name": "HTMLModel",
            "placeholder": "​",
            "_view_module": "@jupyter-widgets/controls",
            "_model_module_version": "1.5.0",
            "value": "100%",
            "_view_count": null,
            "_view_module_version": "1.5.0",
            "description_tooltip": null,
            "_model_module": "@jupyter-widgets/controls",
            "layout": "IPY_MODEL_4949d88c567e4e2f82eb27c31b343a93"
          }
        },
        "6a8c2bf680e74c8aa03a4b7e3a6acaf0": {
          "model_module": "@jupyter-widgets/controls",
          "model_name": "FloatProgressModel",
          "model_module_version": "1.5.0",
          "state": {
            "_view_name": "ProgressView",
            "style": "IPY_MODEL_f8597a7b9d5a45b680bb4a508fc5c785",
            "_dom_classes": [],
            "description": "",
            "_model_name": "FloatProgressModel",
            "bar_style": "success",
            "max": 202,
            "_view_module": "@jupyter-widgets/controls",
            "_model_module_version": "1.5.0",
            "value": 202,
            "_view_count": null,
            "_view_module_version": "1.5.0",
            "orientation": "horizontal",
            "min": 0,
            "description_tooltip": null,
            "_model_module": "@jupyter-widgets/controls",
            "layout": "IPY_MODEL_cbc27527c4884a16833108387758c132"
          }
        },
        "87ca2254c2c44cb3ab8abd77d68d500c": {
          "model_module": "@jupyter-widgets/controls",
          "model_name": "HTMLModel",
          "model_module_version": "1.5.0",
          "state": {
            "_view_name": "HTMLView",
            "style": "IPY_MODEL_f0def76e709a462aa0486477d669ee17",
            "_dom_classes": [],
            "description": "",
            "_model_name": "HTMLModel",
            "placeholder": "​",
            "_view_module": "@jupyter-widgets/controls",
            "_model_module_version": "1.5.0",
            "value": " 202/202 [00:03&lt;00:00, 58.42it/s]",
            "_view_count": null,
            "_view_module_version": "1.5.0",
            "description_tooltip": null,
            "_model_module": "@jupyter-widgets/controls",
            "layout": "IPY_MODEL_92b104d36d6f4fee85cd4e75da4e9567"
          }
        },
        "4ca8837182bf40b8aa9163e7713bbde0": {
          "model_module": "@jupyter-widgets/controls",
          "model_name": "DescriptionStyleModel",
          "model_module_version": "1.5.0",
          "state": {
            "_view_name": "StyleView",
            "_model_name": "DescriptionStyleModel",
            "description_width": "",
            "_view_module": "@jupyter-widgets/base",
            "_model_module_version": "1.5.0",
            "_view_count": null,
            "_view_module_version": "1.2.0",
            "_model_module": "@jupyter-widgets/controls"
          }
        },
        "4949d88c567e4e2f82eb27c31b343a93": {
          "model_module": "@jupyter-widgets/base",
          "model_name": "LayoutModel",
          "model_module_version": "1.2.0",
          "state": {
            "_view_name": "LayoutView",
            "grid_template_rows": null,
            "right": null,
            "justify_content": null,
            "_view_module": "@jupyter-widgets/base",
            "overflow": null,
            "_model_module_version": "1.2.0",
            "_view_count": null,
            "flex_flow": null,
            "width": null,
            "min_width": null,
            "border": null,
            "align_items": null,
            "bottom": null,
            "_model_module": "@jupyter-widgets/base",
            "top": null,
            "grid_column": null,
            "overflow_y": null,
            "overflow_x": null,
            "grid_auto_flow": null,
            "grid_area": null,
            "grid_template_columns": null,
            "flex": null,
            "_model_name": "LayoutModel",
            "justify_items": null,
            "grid_row": null,
            "max_height": null,
            "align_content": null,
            "visibility": null,
            "align_self": null,
            "height": null,
            "min_height": null,
            "padding": null,
            "grid_auto_rows": null,
            "grid_gap": null,
            "max_width": null,
            "order": null,
            "_view_module_version": "1.2.0",
            "grid_template_areas": null,
            "object_position": null,
            "object_fit": null,
            "grid_auto_columns": null,
            "margin": null,
            "display": null,
            "left": null
          }
        },
        "f8597a7b9d5a45b680bb4a508fc5c785": {
          "model_module": "@jupyter-widgets/controls",
          "model_name": "ProgressStyleModel",
          "model_module_version": "1.5.0",
          "state": {
            "_view_name": "StyleView",
            "_model_name": "ProgressStyleModel",
            "description_width": "",
            "_view_module": "@jupyter-widgets/base",
            "_model_module_version": "1.5.0",
            "_view_count": null,
            "_view_module_version": "1.2.0",
            "bar_color": null,
            "_model_module": "@jupyter-widgets/controls"
          }
        },
        "cbc27527c4884a16833108387758c132": {
          "model_module": "@jupyter-widgets/base",
          "model_name": "LayoutModel",
          "model_module_version": "1.2.0",
          "state": {
            "_view_name": "LayoutView",
            "grid_template_rows": null,
            "right": null,
            "justify_content": null,
            "_view_module": "@jupyter-widgets/base",
            "overflow": null,
            "_model_module_version": "1.2.0",
            "_view_count": null,
            "flex_flow": null,
            "width": null,
            "min_width": null,
            "border": null,
            "align_items": null,
            "bottom": null,
            "_model_module": "@jupyter-widgets/base",
            "top": null,
            "grid_column": null,
            "overflow_y": null,
            "overflow_x": null,
            "grid_auto_flow": null,
            "grid_area": null,
            "grid_template_columns": null,
            "flex": null,
            "_model_name": "LayoutModel",
            "justify_items": null,
            "grid_row": null,
            "max_height": null,
            "align_content": null,
            "visibility": null,
            "align_self": null,
            "height": null,
            "min_height": null,
            "padding": null,
            "grid_auto_rows": null,
            "grid_gap": null,
            "max_width": null,
            "order": null,
            "_view_module_version": "1.2.0",
            "grid_template_areas": null,
            "object_position": null,
            "object_fit": null,
            "grid_auto_columns": null,
            "margin": null,
            "display": null,
            "left": null
          }
        },
        "f0def76e709a462aa0486477d669ee17": {
          "model_module": "@jupyter-widgets/controls",
          "model_name": "DescriptionStyleModel",
          "model_module_version": "1.5.0",
          "state": {
            "_view_name": "StyleView",
            "_model_name": "DescriptionStyleModel",
            "description_width": "",
            "_view_module": "@jupyter-widgets/base",
            "_model_module_version": "1.5.0",
            "_view_count": null,
            "_view_module_version": "1.2.0",
            "_model_module": "@jupyter-widgets/controls"
          }
        },
        "92b104d36d6f4fee85cd4e75da4e9567": {
          "model_module": "@jupyter-widgets/base",
          "model_name": "LayoutModel",
          "model_module_version": "1.2.0",
          "state": {
            "_view_name": "LayoutView",
            "grid_template_rows": null,
            "right": null,
            "justify_content": null,
            "_view_module": "@jupyter-widgets/base",
            "overflow": null,
            "_model_module_version": "1.2.0",
            "_view_count": null,
            "flex_flow": null,
            "width": null,
            "min_width": null,
            "border": null,
            "align_items": null,
            "bottom": null,
            "_model_module": "@jupyter-widgets/base",
            "top": null,
            "grid_column": null,
            "overflow_y": null,
            "overflow_x": null,
            "grid_auto_flow": null,
            "grid_area": null,
            "grid_template_columns": null,
            "flex": null,
            "_model_name": "LayoutModel",
            "justify_items": null,
            "grid_row": null,
            "max_height": null,
            "align_content": null,
            "visibility": null,
            "align_self": null,
            "height": null,
            "min_height": null,
            "padding": null,
            "grid_auto_rows": null,
            "grid_gap": null,
            "max_width": null,
            "order": null,
            "_view_module_version": "1.2.0",
            "grid_template_areas": null,
            "object_position": null,
            "object_fit": null,
            "grid_auto_columns": null,
            "margin": null,
            "display": null,
            "left": null
          }
        },
        "7379550c2be34ef4a576e25b64769fc1": {
          "model_module": "@jupyter-widgets/controls",
          "model_name": "HBoxModel",
          "model_module_version": "1.5.0",
          "state": {
            "_view_name": "HBoxView",
            "_dom_classes": [],
            "_model_name": "HBoxModel",
            "_view_module": "@jupyter-widgets/controls",
            "_model_module_version": "1.5.0",
            "_view_count": null,
            "_view_module_version": "1.5.0",
            "box_style": "",
            "layout": "IPY_MODEL_af4ec6044e4c493aa344c30877561a73",
            "_model_module": "@jupyter-widgets/controls",
            "children": [
              "IPY_MODEL_0012bcbc3f8e4532ab50f3a5550ae7cc",
              "IPY_MODEL_74939d73c3404a9e8bdbcf4c6a06e1e5",
              "IPY_MODEL_66096c17affa40f69bccc12eaa5a57da"
            ]
          }
        },
        "af4ec6044e4c493aa344c30877561a73": {
          "model_module": "@jupyter-widgets/base",
          "model_name": "LayoutModel",
          "model_module_version": "1.2.0",
          "state": {
            "_view_name": "LayoutView",
            "grid_template_rows": null,
            "right": null,
            "justify_content": null,
            "_view_module": "@jupyter-widgets/base",
            "overflow": null,
            "_model_module_version": "1.2.0",
            "_view_count": null,
            "flex_flow": null,
            "width": null,
            "min_width": null,
            "border": null,
            "align_items": null,
            "bottom": null,
            "_model_module": "@jupyter-widgets/base",
            "top": null,
            "grid_column": null,
            "overflow_y": null,
            "overflow_x": null,
            "grid_auto_flow": null,
            "grid_area": null,
            "grid_template_columns": null,
            "flex": null,
            "_model_name": "LayoutModel",
            "justify_items": null,
            "grid_row": null,
            "max_height": null,
            "align_content": null,
            "visibility": null,
            "align_self": null,
            "height": null,
            "min_height": null,
            "padding": null,
            "grid_auto_rows": null,
            "grid_gap": null,
            "max_width": null,
            "order": null,
            "_view_module_version": "1.2.0",
            "grid_template_areas": null,
            "object_position": null,
            "object_fit": null,
            "grid_auto_columns": null,
            "margin": null,
            "display": null,
            "left": null
          }
        },
        "0012bcbc3f8e4532ab50f3a5550ae7cc": {
          "model_module": "@jupyter-widgets/controls",
          "model_name": "HTMLModel",
          "model_module_version": "1.5.0",
          "state": {
            "_view_name": "HTMLView",
            "style": "IPY_MODEL_953da1de177e499dab91f353fad74e03",
            "_dom_classes": [],
            "description": "",
            "_model_name": "HTMLModel",
            "placeholder": "​",
            "_view_module": "@jupyter-widgets/controls",
            "_model_module_version": "1.5.0",
            "value": "100%",
            "_view_count": null,
            "_view_module_version": "1.5.0",
            "description_tooltip": null,
            "_model_module": "@jupyter-widgets/controls",
            "layout": "IPY_MODEL_af8779f056f64692a3a32c6a622e8c5b"
          }
        },
        "74939d73c3404a9e8bdbcf4c6a06e1e5": {
          "model_module": "@jupyter-widgets/controls",
          "model_name": "FloatProgressModel",
          "model_module_version": "1.5.0",
          "state": {
            "_view_name": "ProgressView",
            "style": "IPY_MODEL_f367f1a2ce5544a1af0fedc9e0ac90a8",
            "_dom_classes": [],
            "description": "",
            "_model_name": "FloatProgressModel",
            "bar_style": "success",
            "max": 200,
            "_view_module": "@jupyter-widgets/controls",
            "_model_module_version": "1.5.0",
            "value": 200,
            "_view_count": null,
            "_view_module_version": "1.5.0",
            "orientation": "horizontal",
            "min": 0,
            "description_tooltip": null,
            "_model_module": "@jupyter-widgets/controls",
            "layout": "IPY_MODEL_be4dc7ee0c924723a2b82eaf71d11b34"
          }
        },
        "66096c17affa40f69bccc12eaa5a57da": {
          "model_module": "@jupyter-widgets/controls",
          "model_name": "HTMLModel",
          "model_module_version": "1.5.0",
          "state": {
            "_view_name": "HTMLView",
            "style": "IPY_MODEL_c282a15306b844c98a2b3a80179cf3e5",
            "_dom_classes": [],
            "description": "",
            "_model_name": "HTMLModel",
            "placeholder": "​",
            "_view_module": "@jupyter-widgets/controls",
            "_model_module_version": "1.5.0",
            "value": " 200/200 [00:04&lt;00:00, 52.11it/s]",
            "_view_count": null,
            "_view_module_version": "1.5.0",
            "description_tooltip": null,
            "_model_module": "@jupyter-widgets/controls",
            "layout": "IPY_MODEL_64f695959cb24a2f8d4ccb1e746135d1"
          }
        },
        "953da1de177e499dab91f353fad74e03": {
          "model_module": "@jupyter-widgets/controls",
          "model_name": "DescriptionStyleModel",
          "model_module_version": "1.5.0",
          "state": {
            "_view_name": "StyleView",
            "_model_name": "DescriptionStyleModel",
            "description_width": "",
            "_view_module": "@jupyter-widgets/base",
            "_model_module_version": "1.5.0",
            "_view_count": null,
            "_view_module_version": "1.2.0",
            "_model_module": "@jupyter-widgets/controls"
          }
        },
        "af8779f056f64692a3a32c6a622e8c5b": {
          "model_module": "@jupyter-widgets/base",
          "model_name": "LayoutModel",
          "model_module_version": "1.2.0",
          "state": {
            "_view_name": "LayoutView",
            "grid_template_rows": null,
            "right": null,
            "justify_content": null,
            "_view_module": "@jupyter-widgets/base",
            "overflow": null,
            "_model_module_version": "1.2.0",
            "_view_count": null,
            "flex_flow": null,
            "width": null,
            "min_width": null,
            "border": null,
            "align_items": null,
            "bottom": null,
            "_model_module": "@jupyter-widgets/base",
            "top": null,
            "grid_column": null,
            "overflow_y": null,
            "overflow_x": null,
            "grid_auto_flow": null,
            "grid_area": null,
            "grid_template_columns": null,
            "flex": null,
            "_model_name": "LayoutModel",
            "justify_items": null,
            "grid_row": null,
            "max_height": null,
            "align_content": null,
            "visibility": null,
            "align_self": null,
            "height": null,
            "min_height": null,
            "padding": null,
            "grid_auto_rows": null,
            "grid_gap": null,
            "max_width": null,
            "order": null,
            "_view_module_version": "1.2.0",
            "grid_template_areas": null,
            "object_position": null,
            "object_fit": null,
            "grid_auto_columns": null,
            "margin": null,
            "display": null,
            "left": null
          }
        },
        "f367f1a2ce5544a1af0fedc9e0ac90a8": {
          "model_module": "@jupyter-widgets/controls",
          "model_name": "ProgressStyleModel",
          "model_module_version": "1.5.0",
          "state": {
            "_view_name": "StyleView",
            "_model_name": "ProgressStyleModel",
            "description_width": "",
            "_view_module": "@jupyter-widgets/base",
            "_model_module_version": "1.5.0",
            "_view_count": null,
            "_view_module_version": "1.2.0",
            "bar_color": null,
            "_model_module": "@jupyter-widgets/controls"
          }
        },
        "be4dc7ee0c924723a2b82eaf71d11b34": {
          "model_module": "@jupyter-widgets/base",
          "model_name": "LayoutModel",
          "model_module_version": "1.2.0",
          "state": {
            "_view_name": "LayoutView",
            "grid_template_rows": null,
            "right": null,
            "justify_content": null,
            "_view_module": "@jupyter-widgets/base",
            "overflow": null,
            "_model_module_version": "1.2.0",
            "_view_count": null,
            "flex_flow": null,
            "width": null,
            "min_width": null,
            "border": null,
            "align_items": null,
            "bottom": null,
            "_model_module": "@jupyter-widgets/base",
            "top": null,
            "grid_column": null,
            "overflow_y": null,
            "overflow_x": null,
            "grid_auto_flow": null,
            "grid_area": null,
            "grid_template_columns": null,
            "flex": null,
            "_model_name": "LayoutModel",
            "justify_items": null,
            "grid_row": null,
            "max_height": null,
            "align_content": null,
            "visibility": null,
            "align_self": null,
            "height": null,
            "min_height": null,
            "padding": null,
            "grid_auto_rows": null,
            "grid_gap": null,
            "max_width": null,
            "order": null,
            "_view_module_version": "1.2.0",
            "grid_template_areas": null,
            "object_position": null,
            "object_fit": null,
            "grid_auto_columns": null,
            "margin": null,
            "display": null,
            "left": null
          }
        },
        "c282a15306b844c98a2b3a80179cf3e5": {
          "model_module": "@jupyter-widgets/controls",
          "model_name": "DescriptionStyleModel",
          "model_module_version": "1.5.0",
          "state": {
            "_view_name": "StyleView",
            "_model_name": "DescriptionStyleModel",
            "description_width": "",
            "_view_module": "@jupyter-widgets/base",
            "_model_module_version": "1.5.0",
            "_view_count": null,
            "_view_module_version": "1.2.0",
            "_model_module": "@jupyter-widgets/controls"
          }
        },
        "64f695959cb24a2f8d4ccb1e746135d1": {
          "model_module": "@jupyter-widgets/base",
          "model_name": "LayoutModel",
          "model_module_version": "1.2.0",
          "state": {
            "_view_name": "LayoutView",
            "grid_template_rows": null,
            "right": null,
            "justify_content": null,
            "_view_module": "@jupyter-widgets/base",
            "overflow": null,
            "_model_module_version": "1.2.0",
            "_view_count": null,
            "flex_flow": null,
            "width": null,
            "min_width": null,
            "border": null,
            "align_items": null,
            "bottom": null,
            "_model_module": "@jupyter-widgets/base",
            "top": null,
            "grid_column": null,
            "overflow_y": null,
            "overflow_x": null,
            "grid_auto_flow": null,
            "grid_area": null,
            "grid_template_columns": null,
            "flex": null,
            "_model_name": "LayoutModel",
            "justify_items": null,
            "grid_row": null,
            "max_height": null,
            "align_content": null,
            "visibility": null,
            "align_self": null,
            "height": null,
            "min_height": null,
            "padding": null,
            "grid_auto_rows": null,
            "grid_gap": null,
            "max_width": null,
            "order": null,
            "_view_module_version": "1.2.0",
            "grid_template_areas": null,
            "object_position": null,
            "object_fit": null,
            "grid_auto_columns": null,
            "margin": null,
            "display": null,
            "left": null
          }
        },
        "78ff891a9ad442b0bd603f28d765c58a": {
          "model_module": "@jupyter-widgets/controls",
          "model_name": "HBoxModel",
          "model_module_version": "1.5.0",
          "state": {
            "_view_name": "HBoxView",
            "_dom_classes": [],
            "_model_name": "HBoxModel",
            "_view_module": "@jupyter-widgets/controls",
            "_model_module_version": "1.5.0",
            "_view_count": null,
            "_view_module_version": "1.5.0",
            "box_style": "",
            "layout": "IPY_MODEL_fc270ef78f904f009c41ab8b52581375",
            "_model_module": "@jupyter-widgets/controls",
            "children": [
              "IPY_MODEL_b4c2d88764e94caa83ef5aa2c8402af0",
              "IPY_MODEL_7ba72f074a5c478ba4ada811233fcafb",
              "IPY_MODEL_bb17158f41cc4586b6f9794c9c043159"
            ]
          }
        },
        "fc270ef78f904f009c41ab8b52581375": {
          "model_module": "@jupyter-widgets/base",
          "model_name": "LayoutModel",
          "model_module_version": "1.2.0",
          "state": {
            "_view_name": "LayoutView",
            "grid_template_rows": null,
            "right": null,
            "justify_content": null,
            "_view_module": "@jupyter-widgets/base",
            "overflow": null,
            "_model_module_version": "1.2.0",
            "_view_count": null,
            "flex_flow": null,
            "width": null,
            "min_width": null,
            "border": null,
            "align_items": null,
            "bottom": null,
            "_model_module": "@jupyter-widgets/base",
            "top": null,
            "grid_column": null,
            "overflow_y": null,
            "overflow_x": null,
            "grid_auto_flow": null,
            "grid_area": null,
            "grid_template_columns": null,
            "flex": null,
            "_model_name": "LayoutModel",
            "justify_items": null,
            "grid_row": null,
            "max_height": null,
            "align_content": null,
            "visibility": null,
            "align_self": null,
            "height": null,
            "min_height": null,
            "padding": null,
            "grid_auto_rows": null,
            "grid_gap": null,
            "max_width": null,
            "order": null,
            "_view_module_version": "1.2.0",
            "grid_template_areas": null,
            "object_position": null,
            "object_fit": null,
            "grid_auto_columns": null,
            "margin": null,
            "display": null,
            "left": null
          }
        },
        "b4c2d88764e94caa83ef5aa2c8402af0": {
          "model_module": "@jupyter-widgets/controls",
          "model_name": "HTMLModel",
          "model_module_version": "1.5.0",
          "state": {
            "_view_name": "HTMLView",
            "style": "IPY_MODEL_1e837a3e260943128a0e16a30bb83b0f",
            "_dom_classes": [],
            "description": "",
            "_model_name": "HTMLModel",
            "placeholder": "​",
            "_view_module": "@jupyter-widgets/controls",
            "_model_module_version": "1.5.0",
            "value": "100%",
            "_view_count": null,
            "_view_module_version": "1.5.0",
            "description_tooltip": null,
            "_model_module": "@jupyter-widgets/controls",
            "layout": "IPY_MODEL_e28a5d1857bb4bcdbfa073556d8f7fd4"
          }
        },
        "7ba72f074a5c478ba4ada811233fcafb": {
          "model_module": "@jupyter-widgets/controls",
          "model_name": "FloatProgressModel",
          "model_module_version": "1.5.0",
          "state": {
            "_view_name": "ProgressView",
            "style": "IPY_MODEL_46e41bf6b6a14c879a0983e62e8005eb",
            "_dom_classes": [],
            "description": "",
            "_model_name": "FloatProgressModel",
            "bar_style": "success",
            "max": 344,
            "_view_module": "@jupyter-widgets/controls",
            "_model_module_version": "1.5.0",
            "value": 344,
            "_view_count": null,
            "_view_module_version": "1.5.0",
            "orientation": "horizontal",
            "min": 0,
            "description_tooltip": null,
            "_model_module": "@jupyter-widgets/controls",
            "layout": "IPY_MODEL_4fd5c80a30e24483abb4d381c73c8748"
          }
        },
        "bb17158f41cc4586b6f9794c9c043159": {
          "model_module": "@jupyter-widgets/controls",
          "model_name": "HTMLModel",
          "model_module_version": "1.5.0",
          "state": {
            "_view_name": "HTMLView",
            "style": "IPY_MODEL_aec280c60af64ed4983c7151c6cf0e6d",
            "_dom_classes": [],
            "description": "",
            "_model_name": "HTMLModel",
            "placeholder": "​",
            "_view_module": "@jupyter-widgets/controls",
            "_model_module_version": "1.5.0",
            "value": " 344/344 [00:06&lt;00:00, 52.18it/s]",
            "_view_count": null,
            "_view_module_version": "1.5.0",
            "description_tooltip": null,
            "_model_module": "@jupyter-widgets/controls",
            "layout": "IPY_MODEL_53ad0d0cd0744db7a6db079f924099cf"
          }
        },
        "1e837a3e260943128a0e16a30bb83b0f": {
          "model_module": "@jupyter-widgets/controls",
          "model_name": "DescriptionStyleModel",
          "model_module_version": "1.5.0",
          "state": {
            "_view_name": "StyleView",
            "_model_name": "DescriptionStyleModel",
            "description_width": "",
            "_view_module": "@jupyter-widgets/base",
            "_model_module_version": "1.5.0",
            "_view_count": null,
            "_view_module_version": "1.2.0",
            "_model_module": "@jupyter-widgets/controls"
          }
        },
        "e28a5d1857bb4bcdbfa073556d8f7fd4": {
          "model_module": "@jupyter-widgets/base",
          "model_name": "LayoutModel",
          "model_module_version": "1.2.0",
          "state": {
            "_view_name": "LayoutView",
            "grid_template_rows": null,
            "right": null,
            "justify_content": null,
            "_view_module": "@jupyter-widgets/base",
            "overflow": null,
            "_model_module_version": "1.2.0",
            "_view_count": null,
            "flex_flow": null,
            "width": null,
            "min_width": null,
            "border": null,
            "align_items": null,
            "bottom": null,
            "_model_module": "@jupyter-widgets/base",
            "top": null,
            "grid_column": null,
            "overflow_y": null,
            "overflow_x": null,
            "grid_auto_flow": null,
            "grid_area": null,
            "grid_template_columns": null,
            "flex": null,
            "_model_name": "LayoutModel",
            "justify_items": null,
            "grid_row": null,
            "max_height": null,
            "align_content": null,
            "visibility": null,
            "align_self": null,
            "height": null,
            "min_height": null,
            "padding": null,
            "grid_auto_rows": null,
            "grid_gap": null,
            "max_width": null,
            "order": null,
            "_view_module_version": "1.2.0",
            "grid_template_areas": null,
            "object_position": null,
            "object_fit": null,
            "grid_auto_columns": null,
            "margin": null,
            "display": null,
            "left": null
          }
        },
        "46e41bf6b6a14c879a0983e62e8005eb": {
          "model_module": "@jupyter-widgets/controls",
          "model_name": "ProgressStyleModel",
          "model_module_version": "1.5.0",
          "state": {
            "_view_name": "StyleView",
            "_model_name": "ProgressStyleModel",
            "description_width": "",
            "_view_module": "@jupyter-widgets/base",
            "_model_module_version": "1.5.0",
            "_view_count": null,
            "_view_module_version": "1.2.0",
            "bar_color": null,
            "_model_module": "@jupyter-widgets/controls"
          }
        },
        "4fd5c80a30e24483abb4d381c73c8748": {
          "model_module": "@jupyter-widgets/base",
          "model_name": "LayoutModel",
          "model_module_version": "1.2.0",
          "state": {
            "_view_name": "LayoutView",
            "grid_template_rows": null,
            "right": null,
            "justify_content": null,
            "_view_module": "@jupyter-widgets/base",
            "overflow": null,
            "_model_module_version": "1.2.0",
            "_view_count": null,
            "flex_flow": null,
            "width": null,
            "min_width": null,
            "border": null,
            "align_items": null,
            "bottom": null,
            "_model_module": "@jupyter-widgets/base",
            "top": null,
            "grid_column": null,
            "overflow_y": null,
            "overflow_x": null,
            "grid_auto_flow": null,
            "grid_area": null,
            "grid_template_columns": null,
            "flex": null,
            "_model_name": "LayoutModel",
            "justify_items": null,
            "grid_row": null,
            "max_height": null,
            "align_content": null,
            "visibility": null,
            "align_self": null,
            "height": null,
            "min_height": null,
            "padding": null,
            "grid_auto_rows": null,
            "grid_gap": null,
            "max_width": null,
            "order": null,
            "_view_module_version": "1.2.0",
            "grid_template_areas": null,
            "object_position": null,
            "object_fit": null,
            "grid_auto_columns": null,
            "margin": null,
            "display": null,
            "left": null
          }
        },
        "aec280c60af64ed4983c7151c6cf0e6d": {
          "model_module": "@jupyter-widgets/controls",
          "model_name": "DescriptionStyleModel",
          "model_module_version": "1.5.0",
          "state": {
            "_view_name": "StyleView",
            "_model_name": "DescriptionStyleModel",
            "description_width": "",
            "_view_module": "@jupyter-widgets/base",
            "_model_module_version": "1.5.0",
            "_view_count": null,
            "_view_module_version": "1.2.0",
            "_model_module": "@jupyter-widgets/controls"
          }
        },
        "53ad0d0cd0744db7a6db079f924099cf": {
          "model_module": "@jupyter-widgets/base",
          "model_name": "LayoutModel",
          "model_module_version": "1.2.0",
          "state": {
            "_view_name": "LayoutView",
            "grid_template_rows": null,
            "right": null,
            "justify_content": null,
            "_view_module": "@jupyter-widgets/base",
            "overflow": null,
            "_model_module_version": "1.2.0",
            "_view_count": null,
            "flex_flow": null,
            "width": null,
            "min_width": null,
            "border": null,
            "align_items": null,
            "bottom": null,
            "_model_module": "@jupyter-widgets/base",
            "top": null,
            "grid_column": null,
            "overflow_y": null,
            "overflow_x": null,
            "grid_auto_flow": null,
            "grid_area": null,
            "grid_template_columns": null,
            "flex": null,
            "_model_name": "LayoutModel",
            "justify_items": null,
            "grid_row": null,
            "max_height": null,
            "align_content": null,
            "visibility": null,
            "align_self": null,
            "height": null,
            "min_height": null,
            "padding": null,
            "grid_auto_rows": null,
            "grid_gap": null,
            "max_width": null,
            "order": null,
            "_view_module_version": "1.2.0",
            "grid_template_areas": null,
            "object_position": null,
            "object_fit": null,
            "grid_auto_columns": null,
            "margin": null,
            "display": null,
            "left": null
          }
        }
      }
    }
  },
  "cells": [
    {
      "cell_type": "markdown",
      "metadata": {
        "id": "view-in-github",
        "colab_type": "text"
      },
      "source": [
        "<a href=\"https://colab.research.google.com/github/MLHat/Collecting_Data/blob/main/A5_Martijn_Hatfield.ipynb\" target=\"_parent\"><img src=\"https://colab.research.google.com/assets/colab-badge.svg\" alt=\"Open In Colab\"/></a>"
      ]
    },
    {
      "cell_type": "markdown",
      "metadata": {
        "id": "e-AnFtjt4f_E"
      },
      "source": [
        "# Using Extracted Features to topic model with HTRC FeatureReader and Gensim\n",
        "This notebook will introduce [HTRC Extracted Features](https://wiki.htrc.illinois.edu/x/kYC2B) files, the [HTRC FeatureReader](https://github.com/htrc/htrc-feature-reader) Python library, and demo how EF files can be used to topic model a workset (collection) of volumes using [Gensim](https://radimrehurek.com/gensim/). This can be helpful both as exploratory data analysis, since anyone can download EF files whenever they'd like, as well as more robust analysis, as Gensim is a powerful topic modeling/machine learning library. This notebook will introduce a few new functions to reformat EF files to a format that can be fed directly into a topic modeling library, such as Gensim or MALLET, as well as some very entry-level visualization of our generated topics using [pyLDAvis](https://github.com/bmabey/pyLDAvis)."
      ]
    },
    {
      "cell_type": "markdown",
      "metadata": {
        "id": "jUSKwBoT4f_H"
      },
      "source": [
        "Google Colaboratory (Colab) comes with a number of Python libraries built-in, but there are a few it doesn't have. These we will install directly on our Google server that runs this notebook, using `pip` a command line Python package manager. \n",
        "\n",
        "**NOTE: There will be a warning after running this cell that produces a \"restart runtime\" button. Do not worry about the warning, however, you will need to click on the button for the rest of the code in the notebook to work.**"
      ]
    },
    {
      "cell_type": "code",
      "metadata": {
        "id": "Pxi2ss-k7ZW8",
        "colab": {
          "base_uri": "https://localhost:8080/"
        },
        "outputId": "e8a5c825-9990-4a25-8517-ab7f0ca49e94"
      },
      "source": [
        "!pip install htrc-feature-reader\n",
        "!pip install pyLDAvis"
      ],
      "execution_count": 1,
      "outputs": [
        {
          "output_type": "stream",
          "name": "stdout",
          "text": [
            "Requirement already satisfied: htrc-feature-reader in /usr/local/lib/python3.7/dist-packages (2.0.7)\n",
            "Requirement already satisfied: pandas>=0.24 in /usr/local/lib/python3.7/dist-packages (from htrc-feature-reader) (1.3.5)\n",
            "Requirement already satisfied: pymarc in /usr/local/lib/python3.7/dist-packages (from htrc-feature-reader) (4.1.2)\n",
            "Requirement already satisfied: requests in /usr/local/lib/python3.7/dist-packages (from htrc-feature-reader) (2.23.0)\n",
            "Requirement already satisfied: python-rapidjson in /usr/local/lib/python3.7/dist-packages (from htrc-feature-reader) (1.5)\n",
            "Requirement already satisfied: six in /usr/local/lib/python3.7/dist-packages (from htrc-feature-reader) (1.15.0)\n",
            "Requirement already satisfied: numpy>=1.17.3 in /usr/local/lib/python3.7/dist-packages (from pandas>=0.24->htrc-feature-reader) (1.21.4)\n",
            "Requirement already satisfied: pytz>=2017.3 in /usr/local/lib/python3.7/dist-packages (from pandas>=0.24->htrc-feature-reader) (2018.9)\n",
            "Requirement already satisfied: python-dateutil>=2.7.3 in /usr/local/lib/python3.7/dist-packages (from pandas>=0.24->htrc-feature-reader) (2.8.2)\n",
            "Requirement already satisfied: chardet<4,>=3.0.2 in /usr/local/lib/python3.7/dist-packages (from requests->htrc-feature-reader) (3.0.4)\n",
            "Requirement already satisfied: idna<3,>=2.5 in /usr/local/lib/python3.7/dist-packages (from requests->htrc-feature-reader) (2.10)\n",
            "Requirement already satisfied: urllib3!=1.25.0,!=1.25.1,<1.26,>=1.21.1 in /usr/local/lib/python3.7/dist-packages (from requests->htrc-feature-reader) (1.24.3)\n",
            "Requirement already satisfied: certifi>=2017.4.17 in /usr/local/lib/python3.7/dist-packages (from requests->htrc-feature-reader) (2021.10.8)\n",
            "Requirement already satisfied: pyLDAvis in /usr/local/lib/python3.7/dist-packages (3.3.1)\n",
            "Requirement already satisfied: sklearn in /usr/local/lib/python3.7/dist-packages (from pyLDAvis) (0.0)\n",
            "Requirement already satisfied: funcy in /usr/local/lib/python3.7/dist-packages (from pyLDAvis) (1.16)\n",
            "Requirement already satisfied: gensim in /usr/local/lib/python3.7/dist-packages (from pyLDAvis) (3.6.0)\n",
            "Requirement already satisfied: pandas>=1.2.0 in /usr/local/lib/python3.7/dist-packages (from pyLDAvis) (1.3.5)\n",
            "Requirement already satisfied: numexpr in /usr/local/lib/python3.7/dist-packages (from pyLDAvis) (2.7.3)\n",
            "Requirement already satisfied: numpy>=1.20.0 in /usr/local/lib/python3.7/dist-packages (from pyLDAvis) (1.21.4)\n",
            "Requirement already satisfied: scikit-learn in /usr/local/lib/python3.7/dist-packages (from pyLDAvis) (1.0.1)\n",
            "Requirement already satisfied: joblib in /usr/local/lib/python3.7/dist-packages (from pyLDAvis) (1.1.0)\n",
            "Requirement already satisfied: future in /usr/local/lib/python3.7/dist-packages (from pyLDAvis) (0.16.0)\n",
            "Requirement already satisfied: jinja2 in /usr/local/lib/python3.7/dist-packages (from pyLDAvis) (2.11.3)\n",
            "Requirement already satisfied: setuptools in /usr/local/lib/python3.7/dist-packages (from pyLDAvis) (57.4.0)\n",
            "Requirement already satisfied: scipy in /usr/local/lib/python3.7/dist-packages (from pyLDAvis) (1.4.1)\n",
            "Requirement already satisfied: pytz>=2017.3 in /usr/local/lib/python3.7/dist-packages (from pandas>=1.2.0->pyLDAvis) (2018.9)\n",
            "Requirement already satisfied: python-dateutil>=2.7.3 in /usr/local/lib/python3.7/dist-packages (from pandas>=1.2.0->pyLDAvis) (2.8.2)\n",
            "Requirement already satisfied: six>=1.5 in /usr/local/lib/python3.7/dist-packages (from python-dateutil>=2.7.3->pandas>=1.2.0->pyLDAvis) (1.15.0)\n",
            "Requirement already satisfied: smart-open>=1.2.1 in /usr/local/lib/python3.7/dist-packages (from gensim->pyLDAvis) (5.2.1)\n",
            "Requirement already satisfied: MarkupSafe>=0.23 in /usr/local/lib/python3.7/dist-packages (from jinja2->pyLDAvis) (2.0.1)\n",
            "Requirement already satisfied: threadpoolctl>=2.0.0 in /usr/local/lib/python3.7/dist-packages (from scikit-learn->pyLDAvis) (3.0.0)\n"
          ]
        }
      ]
    },
    {
      "cell_type": "markdown",
      "metadata": {
        "id": "3N5R7W30FJkY"
      },
      "source": [
        "First, as almost always with a Jupyter notebook, we'll import the libraries that we'll be using. We need to do this in order to tell Python which libraries have the commands/methods we'll be using:"
      ]
    },
    {
      "cell_type": "code",
      "metadata": {
        "id": "iTsqyQ0Z4f_K"
      },
      "source": [
        "import pandas as pd\n",
        "from htrc_features import FeatureReader, Volume\n",
        "from tqdm.notebook import trange, tqdm\n",
        "import os\n",
        "import shutil\n",
        "import nltk\n",
        "import gensim\n",
        "\n",
        "# Because some of our libraries will throw many, many warnings for future changes to their code:\n",
        "import warnings\n",
        "warnings.filterwarnings(\"ignore\", category=DeprecationWarning)"
      ],
      "execution_count": 2,
      "outputs": []
    },
    {
      "cell_type": "markdown",
      "metadata": {
        "id": "MRMIKz4e4f_N"
      },
      "source": [
        "We've imported:\n",
        "- [Pandas](https://pandas.pydata.org/) a common library for working with large data, especially text data, while doing data science-y things.\n",
        "- the HTRC FeatureReader, a specialty Python library for working with EF files.\n",
        "- [TQDM](https://pypi.org/project/tqdm/) a library that allows for quick and easy progress bars for longer computational tasks.\n",
        "- `NLTK`, the [Natural Language Toolkit](https://www.nltk.org/)\n",
        "- Two built-in Python libraries, `shutil` and `os` which help us deal with files and file systems\n",
        "\n",
        "You can think of importing libraries as basically getting our tools into our workspace, because we know that for some tasks we'll need a screwdriver and for others we may need some duct tape or a drill.\n"
      ]
    },
    {
      "cell_type": "markdown",
      "metadata": {
        "id": "un4Neu5w4f_O"
      },
      "source": [
        "## Working with Volumes"
      ]
    },
    {
      "cell_type": "markdown",
      "metadata": {
        "id": "4P5mo9yY4f_P"
      },
      "source": [
        "We'll first use the FeatureReader to quickly take a look at EF data. The HTRC FeatureReader is a Python library that was written to make working with the EF files, especially for exploratory analysis, easier. The FeatureReader library aggregates information at a collection and volume level, and also has functions/methods at both levels. For this notebook, we'll be using the EF data at the volume level, though iterating through multiple volumes.\n",
        "\n",
        "When using the FeatureReader, the first step is usually to create a `Volume` object out of one EF file. We're going to do this by giving the method `Volume()` a HathiTrust ID (HTID), but, if we had a lot of volumes we wanted to look at EF data for, we could also give it a file path to an EF file we already downloaded to our own computer:"
      ]
    },
    {
      "cell_type": "code",
      "metadata": {
        "id": "ZPoouYJB4f_Q",
        "colab": {
          "base_uri": "https://localhost:8080/"
        },
        "outputId": "a600d67a-6835-417a-a438-8d72f49d71eb"
      },
      "source": [
        "test_vol = Volume('mdp.39015066088678')\n",
        "print(f\"{test_vol.title}, by {test_vol.author}, {test_vol.pub_date}, {test_vol.id}\")"
      ],
      "execution_count": 4,
      "outputs": [
        {
          "output_type": "stream",
          "name": "stdout",
          "text": [
            "The outsiders /, by ['Hinton, S. E.'], 1967, mdp.39015066088678\n"
          ]
        }
      ]
    },
    {
      "cell_type": "markdown",
      "metadata": {
        "id": "2ugAC5Zq4f_S"
      },
      "source": [
        "Above we see that we created a FeatureReader `Volume` and we use a few built-in methods for a `Volume` to return metadata about the book--author, title, pub date, and HTID. This metadata is bibliographic, and was assigned by a librarian or cataloger at the institution that submitted the item to HathiTrust. This is handy because it can be used as ground truth for machine learning tasks as well as used during the text analysis pipe line, such as for de-duplicating volumes. There are more metadata fields available than above, and you can see all the options by typing `test_vol.` below then hitting `Tab`, which will trigger a pop-up menu listing the possible methods available. See some samples and explore other fields below:"
      ]
    },
    {
      "cell_type": "code",
      "metadata": {
        "id": "ndCu_FVY4f_T",
        "colab": {
          "base_uri": "https://localhost:8080/"
        },
        "outputId": "8629371a-033c-45f8-c95e-919b7f4506e2"
      },
      "source": [
        "# returns HT record number (which can help with de-duplicating)\n",
        "print(test_vol.oclc)\n",
        "\n",
        "# returns publisher information for the volume\n",
        "print(test_vol.publisher)\n",
        " \n",
        "# returns a code for the institution that submitted the item to HathiTrust\n",
        "print(test_vol.source_institution)\n",
        "\n",
        "# EXPLORE OTHER AVAILABLE METHODS/FIELDS\n",
        "print(test_vol.date_created)\n",
        "print(test_vol.genre)"
      ],
      "execution_count": 5,
      "outputs": [
        {
          "output_type": "stream",
          "name": "stdout",
          "text": [
            "299855\n",
            "Viking Press\n",
            "MIU\n",
            "20200209\n",
            "['document (computer)', 'fiction']\n"
          ]
        }
      ]
    },
    {
      "cell_type": "markdown",
      "metadata": {
        "id": "r0_OgqPl4f_V"
      },
      "source": [
        "Some of the methods that pop-up in the above cell are more complex than just returning metadata fields in the file. Some of the methods will instead return new Pandas DataFrames (basically big, interactive tables of data that we'll be using a lot today) with information. For example, we can use `test_vol.begin_line_chars()` to return a DataFrame of the characters that start each line on a given page. Explore some of the other options in the cell below by commenting or un-commenting the code lines (by adding/removing a `#` in front of the line):"
      ]
    },
    {
      "cell_type": "code",
      "metadata": {
        "id": "tyVNSP-Y4f_V",
        "colab": {
          "base_uri": "https://localhost:8080/"
        },
        "outputId": "d1ccb492-f235-47a2-e5a9-31a4aa4f79a8"
      },
      "source": [
        "# returns a DataFrame (DF) with begin-line characters for each page\n",
        "#test_vol.begin_line_chars()\n",
        "\n",
        "# returns a DF with line counts for each page\n",
        "#test_vol.line_counts()\n",
        "\n",
        "# returns a DF with empty line counts for each page\n",
        "test_vol.empty_line_counts()\n",
        "\n",
        "# EXPLORE OTHER METHODS!\n",
        "\n",
        "\n"
      ],
      "execution_count": 10,
      "outputs": [
        {
          "output_type": "execute_result",
          "data": {
            "text/plain": [
              "page\n",
              "7      0\n",
              "9      2\n",
              "10     0\n",
              "11     0\n",
              "15     0\n",
              "      ..\n",
              "193    0\n",
              "194    0\n",
              "197    0\n",
              "200    0\n",
              "201    3\n",
              "Name: emptyLineCount, Length: 187, dtype: int64"
            ]
          },
          "metadata": {},
          "execution_count": 10
        }
      ]
    },
    {
      "cell_type": "markdown",
      "metadata": {
        "id": "Fr2IbuF04f_X"
      },
      "source": [
        "Beyond just generating these DataFrames, we can also plot many of them very quickly, which helps us better visualize a large amount of data. For instance, if we wondered about the textual structure of our volume, we may use `.tokens_per_page()` to visualize how many words are on each page of our volume, and see if there is anything interesting:"
      ]
    },
    {
      "cell_type": "code",
      "metadata": {
        "id": "TWAQMoUl4f_X",
        "colab": {
          "base_uri": "https://localhost:8080/",
          "height": 573
        },
        "outputId": "5f367cb9-920e-4a1f-db7a-8b0aeaf283c2"
      },
      "source": [
        "tkns_df = test_vol.tokens_per_page()\n",
        "tkns_df.plot(figsize=(22,10))\n",
        "\n",
        "# if you want to compare to another volume, here is code for looking at Mrs. Dalloway by Virginia Woolf:\n",
        "# md_vol = Volume('mdp.39015002299421')\n",
        "# md_tkns = md_vol.tokens_per_page()\n",
        "# md_tkns.plot(figsize=(22,10))"
      ],
      "execution_count": 11,
      "outputs": [
        {
          "output_type": "execute_result",
          "data": {
            "text/plain": [
              "<matplotlib.axes._subplots.AxesSubplot at 0x7f5f0b4aefd0>"
            ]
          },
          "metadata": {},
          "execution_count": 11
        },
        {
          "output_type": "display_data",
          "data": {
            "image/png": "[encoded data removed]",
            "text/plain": [
              "<Figure size 1584x720 with 1 Axes>"
            ]
          },
          "metadata": {
            "needs_background": "light"
          }
        }
      ]
    },
    {
      "cell_type": "markdown",
      "metadata": {
        "id": "cZfGD5di4f_Y"
      },
      "source": [
        "Anything interesting here?"
      ]
    },
    {
      "cell_type": "markdown",
      "metadata": {
        "id": "spg7eNXe4f_Z"
      },
      "source": [
        "Similarly, we can use the FeatureReader for more complex exploratory analysis. Maybe we suspect that parts of our volume contained poetry, we may wish to see if there are any perceivable increases or decrease of capitalized begin line characters in our volume. We could check this with the FeatureReader and a handful of lines of code:"
      ]
    },
    {
      "cell_type": "code",
      "metadata": {
        "id": "6TJitsZ94f_Z",
        "colab": {
          "base_uri": "https://localhost:8080/",
          "height": 695
        },
        "outputId": "71f086de-576b-478f-a94d-68a807bc16a1"
      },
      "source": [
        "# Create a new Volume from one anthology of Harper's Weekly, a publication known to publish both prose and poetry:\n",
        "blc_test_vol = Volume('coo.31924054824473')\n",
        "\n",
        "# create a DF with begin line characters only:\n",
        "blc_df = blc_test_vol.begin_line_chars()\n",
        "# blc_df.head(10)\n",
        "\n",
        "# print the shape of our blc DF\n",
        "print(f\"blc_df has {blc_df.shape[0]} rows and {blc_df.shape[1]} columns\")\n",
        "\n",
        "# make a new DF with only capitalized alphabetic begin line characters, by page:\n",
        "caps_blc_df = blc_df.loc[(slice(None), slice(None), slice(None), ['A','B','C','D','E','F','G','H','I','J','K','L','M','N','O','P','Q','R','S','T','U','V','W','X','Y','Z'],)]\n",
        "\n",
        "# plot the above df!\n",
        "caps_blc_df.plot(figsize=(20,10))"
      ],
      "execution_count": 12,
      "outputs": [
        {
          "output_type": "stream",
          "name": "stdout",
          "text": [
            "blc_df has 27456 rows and 1 columns\n"
          ]
        },
        {
          "output_type": "stream",
          "name": "stderr",
          "text": [
            "/usr/local/lib/python3.7/dist-packages/htrc_features/parsers.py:428: FutureWarning: In a future version of pandas all arguments of DataFrame.sort_index will be keyword-only\n",
            "  df.sort_index(0, inplace=True)\n"
          ]
        },
        {
          "output_type": "execute_result",
          "data": {
            "text/plain": [
              "<matplotlib.axes._subplots.AxesSubplot at 0x7f5f02758910>"
            ]
          },
          "metadata": {},
          "execution_count": 12
        },
        {
          "output_type": "display_data",
          "data": {
            "image/png": "[encoded data removed]",
            "text/plain": [
              "<Figure size 1440x720 with 1 Axes>"
            ]
          },
          "metadata": {
            "needs_background": "light"
          }
        }
      ]
    },
    {
      "cell_type": "markdown",
      "metadata": {
        "id": "SZ2iFqJ54f_a"
      },
      "source": [
        "This plot is showing us the counts of capitalized begin line characters per page, and shows spikes around page 240-300, and then later in the volume. This shows where we are likely to have poetry in this volume, and happens to line up with more rigorous poetry-identifying work we've done in [another EF use case](https://wiki.htrc.illinois.edu/x/IQKGAQ)."
      ]
    },
    {
      "cell_type": "markdown",
      "metadata": {
        "id": "mB43QDm74f_b"
      },
      "source": [
        "## Topic Modeling with Token Lists"
      ]
    },
    {
      "cell_type": "markdown",
      "metadata": {
        "id": "nMFBUZGm4f_c"
      },
      "source": [
        "At this point, you're probably wondering when we'll get to topic modeling using the tokens (words) themselves. Let's not delay any longer and dive in. \n",
        "\n",
        "Before we topic model, let's look a bit at how we can see and interact with tokens. The most flexible way to do this is to create a token list DataFrame (DF) using the method `vol.token_list()`. This method can be given extra options to get different versions of the data back, and these are called \"parameters.\" Let's take a look at the possible parameters first (maybe learning a handy trick), and then explore a token list. To see the possible parameters for a given function or method, you can type its name as if you were going to run it, but with a `?` instead of parentheses `()`:"
      ]
    },
    {
      "cell_type": "code",
      "metadata": {
        "id": "OvvTzbpV4f_d",
        "colab": {
          "base_uri": "https://localhost:8080/",
          "height": 865
        },
        "outputId": "59481651-3688-45b3-aa94-f24f093c6d04"
      },
      "source": [
        "# test_vol.tokenlist?\n",
        "\n",
        "tv_pf = test_vol.page_features()\n",
        "tv_pf.head(25) "
      ],
      "execution_count": 13,
      "outputs": [
        {
          "output_type": "execute_result",
          "data": {
            "text/html": [
              "\n",
              "  <div id=\"df-a866af84-7c63-41b1-9969-57056f7bbc04\">\n",
              "    <div class=\"colab-df-container\">\n",
              "      <div>\n",
              "<style scoped>\n",
              "    .dataframe tbody tr th:only-of-type {\n",
              "        vertical-align: middle;\n",
              "    }\n",
              "\n",
              "    .dataframe tbody tr th {\n",
              "        vertical-align: top;\n",
              "    }\n",
              "\n",
              "    .dataframe thead th {\n",
              "        text-align: right;\n",
              "    }\n",
              "</style>\n",
              "<table border=\"1\" class=\"dataframe\">\n",
              "  <thead>\n",
              "    <tr style=\"text-align: right;\">\n",
              "      <th></th>\n",
              "      <th>version</th>\n",
              "      <th>calculatedLanguage</th>\n",
              "    </tr>\n",
              "    <tr>\n",
              "      <th>page</th>\n",
              "      <th></th>\n",
              "      <th></th>\n",
              "    </tr>\n",
              "  </thead>\n",
              "  <tbody>\n",
              "    <tr>\n",
              "      <th>1</th>\n",
              "      <td>68b329da9893e34099c7d8ad5cb9c940</td>\n",
              "      <td>None</td>\n",
              "    </tr>\n",
              "    <tr>\n",
              "      <th>2</th>\n",
              "      <td>e1c06d85ae7b8b032bef47e42e4c08f9</td>\n",
              "      <td>None</td>\n",
              "    </tr>\n",
              "    <tr>\n",
              "      <th>3</th>\n",
              "      <td>d41d8cd98f00b204e9800998ecf8427e</td>\n",
              "      <td>None</td>\n",
              "    </tr>\n",
              "    <tr>\n",
              "      <th>4</th>\n",
              "      <td>d41d8cd98f00b204e9800998ecf8427e</td>\n",
              "      <td>None</td>\n",
              "    </tr>\n",
              "    <tr>\n",
              "      <th>5</th>\n",
              "      <td>d41d8cd98f00b204e9800998ecf8427e</td>\n",
              "      <td>None</td>\n",
              "    </tr>\n",
              "    <tr>\n",
              "      <th>6</th>\n",
              "      <td>d41d8cd98f00b204e9800998ecf8427e</td>\n",
              "      <td>None</td>\n",
              "    </tr>\n",
              "    <tr>\n",
              "      <th>7</th>\n",
              "      <td>d78bd3bf58d8e286c1191d2cdea41019</td>\n",
              "      <td>en</td>\n",
              "    </tr>\n",
              "    <tr>\n",
              "      <th>8</th>\n",
              "      <td>d41d8cd98f00b204e9800998ecf8427e</td>\n",
              "      <td>None</td>\n",
              "    </tr>\n",
              "    <tr>\n",
              "      <th>9</th>\n",
              "      <td>64fd0508c434a2a4906d816a2f05cb80</td>\n",
              "      <td>en</td>\n",
              "    </tr>\n",
              "    <tr>\n",
              "      <th>10</th>\n",
              "      <td>c6a17099c6aa5101f560e717fb970760</td>\n",
              "      <td>en</td>\n",
              "    </tr>\n",
              "    <tr>\n",
              "      <th>11</th>\n",
              "      <td>a3d14f8c3f4cf9064edca387ba9163d1</td>\n",
              "      <td>en</td>\n",
              "    </tr>\n",
              "    <tr>\n",
              "      <th>12</th>\n",
              "      <td>d41d8cd98f00b204e9800998ecf8427e</td>\n",
              "      <td>None</td>\n",
              "    </tr>\n",
              "    <tr>\n",
              "      <th>13</th>\n",
              "      <td>998f9069851495b65b47bad61e8e1ef0</td>\n",
              "      <td>de</td>\n",
              "    </tr>\n",
              "    <tr>\n",
              "      <th>14</th>\n",
              "      <td>d41d8cd98f00b204e9800998ecf8427e</td>\n",
              "      <td>None</td>\n",
              "    </tr>\n",
              "    <tr>\n",
              "      <th>15</th>\n",
              "      <td>96d45286052bc4fdabe62dd93e31c788</td>\n",
              "      <td>en</td>\n",
              "    </tr>\n",
              "    <tr>\n",
              "      <th>16</th>\n",
              "      <td>ab4b54f43f63df9980a67e68404121c6</td>\n",
              "      <td>en</td>\n",
              "    </tr>\n",
              "    <tr>\n",
              "      <th>17</th>\n",
              "      <td>cc794b7104d032173dfc3b8eecbda543</td>\n",
              "      <td>en</td>\n",
              "    </tr>\n",
              "    <tr>\n",
              "      <th>18</th>\n",
              "      <td>aa17ae7495b0dc41a25b42604ba1ba5b</td>\n",
              "      <td>en</td>\n",
              "    </tr>\n",
              "    <tr>\n",
              "      <th>19</th>\n",
              "      <td>b62bc332a717dd0b6edd54486866f045</td>\n",
              "      <td>en</td>\n",
              "    </tr>\n",
              "    <tr>\n",
              "      <th>20</th>\n",
              "      <td>7fb84a6413d52b288b32d68f5cd13616</td>\n",
              "      <td>en</td>\n",
              "    </tr>\n",
              "    <tr>\n",
              "      <th>21</th>\n",
              "      <td>e029606b789ab4055dec8784dfb6bd7c</td>\n",
              "      <td>en</td>\n",
              "    </tr>\n",
              "    <tr>\n",
              "      <th>22</th>\n",
              "      <td>9ee969815a393e0d034b6df0a90a257f</td>\n",
              "      <td>en</td>\n",
              "    </tr>\n",
              "    <tr>\n",
              "      <th>23</th>\n",
              "      <td>9982b6c489b98de3ac3c9dbc83611f1b</td>\n",
              "      <td>en</td>\n",
              "    </tr>\n",
              "    <tr>\n",
              "      <th>24</th>\n",
              "      <td>ab519f034b215fd5a119d23688568f96</td>\n",
              "      <td>en</td>\n",
              "    </tr>\n",
              "    <tr>\n",
              "      <th>25</th>\n",
              "      <td>14338bcb60e24d0e25798b4e5b5a4d41</td>\n",
              "      <td>en</td>\n",
              "    </tr>\n",
              "  </tbody>\n",
              "</table>\n",
              "</div>\n",
              "      <button class=\"colab-df-convert\" onclick=\"convertToInteractive('df-a866af84-7c63-41b1-9969-57056f7bbc04')\"\n",
              "              title=\"Convert this dataframe to an interactive table.\"\n",
              "              style=\"display:none;\">\n",
              "        \n",
              "  <svg xmlns=\"http://www.w3.org/2000/svg\" height=\"24px\"viewBox=\"0 0 24 24\"\n",
              "       width=\"24px\">\n",
              "    <path d=\"M0 0h24v24H0V0z\" fill=\"none\"/>\n",
              "    <path d=\"M18.56 5.44l.94 2.06.94-2.06 2.06-.94-2.06-.94-.94-2.06-.94 2.06-2.06.94zm-11 1L8.5 8.5l.94-2.06 2.06-.94-2.06-.94L8.5 2.5l-.94 2.06-2.06.94zm10 10l.94 2.06.94-2.06 2.06-.94-2.06-.94-.94-2.06-.94 2.06-2.06.94z\"/><path d=\"M17.41 7.96l-1.37-1.37c-.4-.4-.92-.59-1.43-.59-.52 0-1.04.2-1.43.59L10.3 9.45l-7.72 7.72c-.78.78-.78 2.05 0 2.83L4 21.41c.39.39.9.59 1.41.59.51 0 1.02-.2 1.41-.59l7.78-7.78 2.81-2.81c.8-.78.8-2.07 0-2.86zM5.41 20L4 18.59l7.72-7.72 1.47 1.35L5.41 20z\"/>\n",
              "  </svg>\n",
              "      </button>\n",
              "      \n",
              "  <style>\n",
              "    .colab-df-container {\n",
              "      display:flex;\n",
              "      flex-wrap:wrap;\n",
              "      gap: 12px;\n",
              "    }\n",
              "\n",
              "    .colab-df-convert {\n",
              "      background-color: #E8F0FE;\n",
              "      border: none;\n",
              "      border-radius: 50%;\n",
              "      cursor: pointer;\n",
              "      display: none;\n",
              "      fill: #1967D2;\n",
              "      height: 32px;\n",
              "      padding: 0 0 0 0;\n",
              "      width: 32px;\n",
              "    }\n",
              "\n",
              "    .colab-df-convert:hover {\n",
              "      background-color: #E2EBFA;\n",
              "      box-shadow: 0px 1px 2px rgba(60, 64, 67, 0.3), 0px 1px 3px 1px rgba(60, 64, 67, 0.15);\n",
              "      fill: #174EA6;\n",
              "    }\n",
              "\n",
              "    [theme=dark] .colab-df-convert {\n",
              "      background-color: #3B4455;\n",
              "      fill: #D2E3FC;\n",
              "    }\n",
              "\n",
              "    [theme=dark] .colab-df-convert:hover {\n",
              "      background-color: #434B5C;\n",
              "      box-shadow: 0px 1px 3px 1px rgba(0, 0, 0, 0.15);\n",
              "      filter: drop-shadow(0px 1px 2px rgba(0, 0, 0, 0.3));\n",
              "      fill: #FFFFFF;\n",
              "    }\n",
              "  </style>\n",
              "\n",
              "      <script>\n",
              "        const buttonEl =\n",
              "          document.querySelector('#df-a866af84-7c63-41b1-9969-57056f7bbc04 button.colab-df-convert');\n",
              "        buttonEl.style.display =\n",
              "          google.colab.kernel.accessAllowed ? 'block' : 'none';\n",
              "\n",
              "        async function convertToInteractive(key) {\n",
              "          const element = document.querySelector('#df-a866af84-7c63-41b1-9969-57056f7bbc04');\n",
              "          const dataTable =\n",
              "            await google.colab.kernel.invokeFunction('convertToInteractive',\n",
              "                                                     [key], {});\n",
              "          if (!dataTable) return;\n",
              "\n",
              "          const docLinkHtml = 'Like what you see? Visit the ' +\n",
              "            '<a target=\"_blank\" href=https://colab.research.google.com/notebooks/data_table.ipynb>data table notebook</a>'\n",
              "            + ' to learn more about interactive tables.';\n",
              "          element.innerHTML = '';\n",
              "          dataTable['output_type'] = 'display_data';\n",
              "          await google.colab.output.renderOutput(dataTable, element);\n",
              "          const docLink = document.createElement('div');\n",
              "          docLink.innerHTML = docLinkHtml;\n",
              "          element.appendChild(docLink);\n",
              "        }\n",
              "      </script>\n",
              "    </div>\n",
              "  </div>\n",
              "  "
            ],
            "text/plain": [
              "                               version calculatedLanguage\n",
              "page                                                     \n",
              "1     68b329da9893e34099c7d8ad5cb9c940               None\n",
              "2     e1c06d85ae7b8b032bef47e42e4c08f9               None\n",
              "3     d41d8cd98f00b204e9800998ecf8427e               None\n",
              "4     d41d8cd98f00b204e9800998ecf8427e               None\n",
              "5     d41d8cd98f00b204e9800998ecf8427e               None\n",
              "6     d41d8cd98f00b204e9800998ecf8427e               None\n",
              "7     d78bd3bf58d8e286c1191d2cdea41019                 en\n",
              "8     d41d8cd98f00b204e9800998ecf8427e               None\n",
              "9     64fd0508c434a2a4906d816a2f05cb80                 en\n",
              "10    c6a17099c6aa5101f560e717fb970760                 en\n",
              "11    a3d14f8c3f4cf9064edca387ba9163d1                 en\n",
              "12    d41d8cd98f00b204e9800998ecf8427e               None\n",
              "13    998f9069851495b65b47bad61e8e1ef0                 de\n",
              "14    d41d8cd98f00b204e9800998ecf8427e               None\n",
              "15    96d45286052bc4fdabe62dd93e31c788                 en\n",
              "16    ab4b54f43f63df9980a67e68404121c6                 en\n",
              "17    cc794b7104d032173dfc3b8eecbda543                 en\n",
              "18    aa17ae7495b0dc41a25b42604ba1ba5b                 en\n",
              "19    b62bc332a717dd0b6edd54486866f045                 en\n",
              "20    7fb84a6413d52b288b32d68f5cd13616                 en\n",
              "21    e029606b789ab4055dec8784dfb6bd7c                 en\n",
              "22    9ee969815a393e0d034b6df0a90a257f                 en\n",
              "23    9982b6c489b98de3ac3c9dbc83611f1b                 en\n",
              "24    ab519f034b215fd5a119d23688568f96                 en\n",
              "25    14338bcb60e24d0e25798b4e5b5a4d41                 en"
            ]
          },
          "metadata": {},
          "execution_count": 13
        }
      ]
    },
    {
      "cell_type": "markdown",
      "metadata": {
        "id": "ggs6km5x4f_d"
      },
      "source": [
        "The above code will not only show us the parameters, but will return the entire Docstring help text for the function, which should not only tell you possible parameters, but also their default values, the data types the function and each parameter takes, the output of the function and even examples of how to use it and what it will return. One thing to keep in mind, though, is that this info is submitted by the author of the library, so how thorough or helpful this help text is can vary wildly between libraries!\n",
        "\n",
        "Ok, with a new trick under our belts, let's create our first token list to see what info is available. While we do this, we'll also assign the output of `.tokenlist()` to a variable and use `.head()` to look at the first 5 rows of data, since we know the output of `.tokenlist()` is a DataFrame:"
      ]
    },
    {
      "cell_type": "code",
      "metadata": {
        "id": "ZI9DKF9k4f_e",
        "colab": {
          "base_uri": "https://localhost:8080/",
          "height": 237
        },
        "outputId": "998c36c7-a554-4dae-eaaa-b26da49a8dc0"
      },
      "source": [
        "test_df = test_vol.tokenlist()\n",
        "test_df.head()"
      ],
      "execution_count": 14,
      "outputs": [
        {
          "output_type": "execute_result",
          "data": {
            "text/html": [
              "\n",
              "  <div id=\"df-d90dcc5f-3a31-4f66-9b79-d75a3de1cdfc\">\n",
              "    <div class=\"colab-df-container\">\n",
              "      <div>\n",
              "<style scoped>\n",
              "    .dataframe tbody tr th:only-of-type {\n",
              "        vertical-align: middle;\n",
              "    }\n",
              "\n",
              "    .dataframe tbody tr th {\n",
              "        vertical-align: top;\n",
              "    }\n",
              "\n",
              "    .dataframe thead th {\n",
              "        text-align: right;\n",
              "    }\n",
              "</style>\n",
              "<table border=\"1\" class=\"dataframe\">\n",
              "  <thead>\n",
              "    <tr style=\"text-align: right;\">\n",
              "      <th></th>\n",
              "      <th></th>\n",
              "      <th></th>\n",
              "      <th></th>\n",
              "      <th>count</th>\n",
              "    </tr>\n",
              "    <tr>\n",
              "      <th>page</th>\n",
              "      <th>section</th>\n",
              "      <th>token</th>\n",
              "      <th>pos</th>\n",
              "      <th></th>\n",
              "    </tr>\n",
              "  </thead>\n",
              "  <tbody>\n",
              "    <tr>\n",
              "      <th rowspan=\"2\" valign=\"top\">7</th>\n",
              "      <th rowspan=\"2\" valign=\"top\">body</th>\n",
              "      <th>Outsiders</th>\n",
              "      <th>NNS</th>\n",
              "      <td>1</td>\n",
              "    </tr>\n",
              "    <tr>\n",
              "      <th>The</th>\n",
              "      <th>DT</th>\n",
              "      <td>1</td>\n",
              "    </tr>\n",
              "    <tr>\n",
              "      <th rowspan=\"3\" valign=\"top\">9</th>\n",
              "      <th rowspan=\"3\" valign=\"top\">body</th>\n",
              "      <th>E.</th>\n",
              "      <th>NNP</th>\n",
              "      <td>1</td>\n",
              "    </tr>\n",
              "    <tr>\n",
              "      <th>Flic</th>\n",
              "      <th>NNP</th>\n",
              "      <td>1</td>\n",
              "    </tr>\n",
              "    <tr>\n",
              "      <th>Hinton</th>\n",
              "      <th>NNP</th>\n",
              "      <td>1</td>\n",
              "    </tr>\n",
              "  </tbody>\n",
              "</table>\n",
              "</div>\n",
              "      <button class=\"colab-df-convert\" onclick=\"convertToInteractive('df-d90dcc5f-3a31-4f66-9b79-d75a3de1cdfc')\"\n",
              "              title=\"Convert this dataframe to an interactive table.\"\n",
              "              style=\"display:none;\">\n",
              "        \n",
              "  <svg xmlns=\"http://www.w3.org/2000/svg\" height=\"24px\"viewBox=\"0 0 24 24\"\n",
              "       width=\"24px\">\n",
              "    <path d=\"M0 0h24v24H0V0z\" fill=\"none\"/>\n",
              "    <path d=\"M18.56 5.44l.94 2.06.94-2.06 2.06-.94-2.06-.94-.94-2.06-.94 2.06-2.06.94zm-11 1L8.5 8.5l.94-2.06 2.06-.94-2.06-.94L8.5 2.5l-.94 2.06-2.06.94zm10 10l.94 2.06.94-2.06 2.06-.94-2.06-.94-.94-2.06-.94 2.06-2.06.94z\"/><path d=\"M17.41 7.96l-1.37-1.37c-.4-.4-.92-.59-1.43-.59-.52 0-1.04.2-1.43.59L10.3 9.45l-7.72 7.72c-.78.78-.78 2.05 0 2.83L4 21.41c.39.39.9.59 1.41.59.51 0 1.02-.2 1.41-.59l7.78-7.78 2.81-2.81c.8-.78.8-2.07 0-2.86zM5.41 20L4 18.59l7.72-7.72 1.47 1.35L5.41 20z\"/>\n",
              "  </svg>\n",
              "      </button>\n",
              "      \n",
              "  <style>\n",
              "    .colab-df-container {\n",
              "      display:flex;\n",
              "      flex-wrap:wrap;\n",
              "      gap: 12px;\n",
              "    }\n",
              "\n",
              "    .colab-df-convert {\n",
              "      background-color: #E8F0FE;\n",
              "      border: none;\n",
              "      border-radius: 50%;\n",
              "      cursor: pointer;\n",
              "      display: none;\n",
              "      fill: #1967D2;\n",
              "      height: 32px;\n",
              "      padding: 0 0 0 0;\n",
              "      width: 32px;\n",
              "    }\n",
              "\n",
              "    .colab-df-convert:hover {\n",
              "      background-color: #E2EBFA;\n",
              "      box-shadow: 0px 1px 2px rgba(60, 64, 67, 0.3), 0px 1px 3px 1px rgba(60, 64, 67, 0.15);\n",
              "      fill: #174EA6;\n",
              "    }\n",
              "\n",
              "    [theme=dark] .colab-df-convert {\n",
              "      background-color: #3B4455;\n",
              "      fill: #D2E3FC;\n",
              "    }\n",
              "\n",
              "    [theme=dark] .colab-df-convert:hover {\n",
              "      background-color: #434B5C;\n",
              "      box-shadow: 0px 1px 3px 1px rgba(0, 0, 0, 0.15);\n",
              "      filter: drop-shadow(0px 1px 2px rgba(0, 0, 0, 0.3));\n",
              "      fill: #FFFFFF;\n",
              "    }\n",
              "  </style>\n",
              "\n",
              "      <script>\n",
              "        const buttonEl =\n",
              "          document.querySelector('#df-d90dcc5f-3a31-4f66-9b79-d75a3de1cdfc button.colab-df-convert');\n",
              "        buttonEl.style.display =\n",
              "          google.colab.kernel.accessAllowed ? 'block' : 'none';\n",
              "\n",
              "        async function convertToInteractive(key) {\n",
              "          const element = document.querySelector('#df-d90dcc5f-3a31-4f66-9b79-d75a3de1cdfc');\n",
              "          const dataTable =\n",
              "            await google.colab.kernel.invokeFunction('convertToInteractive',\n",
              "                                                     [key], {});\n",
              "          if (!dataTable) return;\n",
              "\n",
              "          const docLinkHtml = 'Like what you see? Visit the ' +\n",
              "            '<a target=\"_blank\" href=https://colab.research.google.com/notebooks/data_table.ipynb>data table notebook</a>'\n",
              "            + ' to learn more about interactive tables.';\n",
              "          element.innerHTML = '';\n",
              "          dataTable['output_type'] = 'display_data';\n",
              "          await google.colab.output.renderOutput(dataTable, element);\n",
              "          const docLink = document.createElement('div');\n",
              "          docLink.innerHTML = docLinkHtml;\n",
              "          element.appendChild(docLink);\n",
              "        }\n",
              "      </script>\n",
              "    </div>\n",
              "  </div>\n",
              "  "
            ],
            "text/plain": [
              "                            count\n",
              "page section token     pos       \n",
              "7    body    Outsiders NNS      1\n",
              "             The       DT       1\n",
              "9    body    E.        NNP      1\n",
              "             Flic      NNP      1\n",
              "             Hinton    NNP      1"
            ]
          },
          "metadata": {},
          "execution_count": 14
        }
      ]
    },
    {
      "cell_type": "markdown",
      "metadata": {
        "id": "0XWcJDgk4f_f"
      },
      "source": [
        "Since we looked at an EF file, this data should look familiar, but the structure has been flattened a bit to fit into a DataFrame, which can make it easier to read to our human (hopefully!) eyes. Another interesting thing to note is that the DataFrame returned by `.tokenlist()` has a multi-index. This means that more columns than just a hidden numerical index are treated like an index--that is, you can easily search those levels of data for certain values.This is why we could use `.loc` to quickly find certain letters in our capitalized begin line character example above. This is a powerful way to find certain tokens or parts-of-speech or to do so on specific pages or sections of a volume, though we won't demo that here.\n",
        "\n",
        "Instead, let's turn directly to using Extracted Features files to topic model our data. Right now, we can get the tokens for each page in a given HathiTrust volume in a highly structured format, a token list. Most topic modeling tools simply want the tokens for each volume/document/page in bag-of-words format. You can think of the bag-of-words format exactly as it sounds:\n",
        "\n",
        "![](https://drive.google.com/uc?export=view&id=1LHus0vtaiKxKIBIyimtSJOjvqaH4O6Oi)\n",
        "\n",
        "We take each word from a passage of text, drop it in a \"bag\" where it loses its original order but still represents the explicit pieces of the original text. Topic modeling is based on co-occurrence between words and word occurrence at the document and topic level, which is why the original semantic structure of the text is irrelevant.\n",
        "\n",
        "In order to convert EF files to bag-of-words text, we need to write a bit of custom code. We'll define a new function that will parse EF files, grab the tokens for each page and volume and add them to a large DataFrame that will have bag-of-words tokens as one of its columns, along with HTID and page number and a few others. We call this function `ef_vol_to_bow_df` and it takes a FeatureReader `Volume` as an input as well as an optional parameter to save the DataFrame to a TSV. Since this function takes one volume as an input, we'll need to wrap it in some iteration code in order to reformat multiple volumes. Here is the function:"
      ]
    },
    {
      "cell_type": "code",
      "metadata": {
        "id": "W_ogwkAe4f_g"
      },
      "source": [
        "def ef_vol_to_bow_df(volume, save_to_tsv=False):\n",
        "    from htrc_features import FeatureReader, Volume\n",
        "    import pandas as pd\n",
        "    from tqdm.notebook import trange, tqdm\n",
        "    import os\n",
        "    notebook_path = os.getcwd()\n",
        "    htid = volume.id\n",
        "    # creating an empty Dataframe to which we'll add clean tokens, instead of a text file\n",
        "    vol_df = pd.DataFrame(columns=['htid', 'page_number', 'page_tokens'])\n",
        "    outfile_name = htid+'.tsv' # saving our volume-level token DataFrame to a TSV\n",
        "    for page in tqdm(volume.pages(), total=volume.page_count):\n",
        "        page_num = str(page).split(' ')[1]\n",
        "        page_df = page.tokenlist(section='body', case=False, pos=False)\n",
        "        tkn_list = []\n",
        "        \n",
        "        for i, r in page_df.iterrows():\n",
        "            tkn = i[2]\n",
        "            clean_tkn = tkn.strip()\n",
        "            count = r[0]\n",
        "            tkns = ([f'{clean_tkn}'] * count)\n",
        "            clean_tkn_list = [word for word in tkns if word.isalpha()]\n",
        "            clean_tkn_list = [word for word in clean_tkn_list if word not in en_stop]\n",
        "            tkn_list.extend(clean_tkn_list)\n",
        "        '''\n",
        "        Instead of writing to text files, we are adding the page-level clean tokens to our\n",
        "        DataFrame, with one each page of tokens constituting one row in the DataFrame.\n",
        "        '''\n",
        "        vol_df = vol_df.append({'htid': htid, 'page_number':  page_num, 'page_tokens':tkn_list}, ignore_index=True)\n",
        "    '''\n",
        "    Lastly, we save our volume-level DataFrame as a tab-separated file, and return the volume \n",
        "    DataFrame so that we can better aggregate each volume's tokens into a single DataFrame (you'll \n",
        "    see this code in the wrapper we write to iterate through multiple volumes)\n",
        "    '''\n",
        "    if save_to_tsv==True:\n",
        "        vol_df.to_csv(outfile_name, sep='\\t', index=False)\n",
        "        print(f'Saved {volume.title} to TSV named {outfile_name}')\n",
        "    \n",
        "    print(f'Reformatted \"{volume.title}\" ({htid}) to bag-of-words')\n",
        "    return vol_df"
      ],
      "execution_count": 16,
      "outputs": []
    },
    {
      "cell_type": "markdown",
      "metadata": {
        "id": "ZCjhUGar4f_h"
      },
      "source": [
        "Before we run this function to test it out, we will download a standard set of stop words--the words we want to remove from the text before analysis--and decide if we want to add any additional words to this list. For this workshop, we've built removing stop words into the function that readies EF files for topic modeling. We'll use the standard English stop words from the Natural Language Toolkit (`nltk`) to start with. We have cheated (by running this already) to find that we should make some additions, which we'll do using `.add()` the syntax for adding items to a `Set` (a `Set` is basically a list, but where every item in it is unique and with some extra properties):"
      ]
    },
    {
      "cell_type": "code",
      "metadata": {
        "id": "kEJhkYae4f_h",
        "colab": {
          "base_uri": "https://localhost:8080/"
        },
        "outputId": "3550672c-4da1-468c-bd06-ad3c7f3ffb00"
      },
      "source": [
        "nltk.download('stopwords')\n",
        "en_stop = set(nltk.corpus.stopwords.words('english'))\n",
        "\n",
        "en_stop.add(\"'\")\n",
        "en_stop.add('\"')\n",
        "en_stop.add(' ')\n",
        "en_stop.add('would')\n",
        "en_stop.add('could')\n",
        "en_stop.add('should')\n",
        "en_stop.add('said')\n",
        "en_stop.add('also')\n",
        "\n",
        "# If we wanted to be a bit more clever, we could use a simple loop to add these words to our stop list with less typing:\n",
        "\n",
        "# stop_words_to_add = [\"'\",'\"',' ','would','could','should','also', 'said']\n",
        "\n",
        "# for word in stop_words_to_add:\n",
        "#     en_stop.add(word)"
      ],
      "execution_count": 17,
      "outputs": [
        {
          "output_type": "stream",
          "name": "stdout",
          "text": [
            "[nltk_data] Downloading package stopwords to /root/nltk_data...\n",
            "[nltk_data]   Unzipping corpora/stopwords.zip.\n"
          ]
        }
      ]
    },
    {
      "cell_type": "markdown",
      "metadata": {
        "id": "57qtuoWi4f_h"
      },
      "source": [
        "With a list of stop words defined, we can write a few lines of code to iteratively deploy it and test the results. We'll first use three HTIDs for test volumes (the first three books of George RR Martin's *A Song of Ice and Fire* series) and then create a `for` loop to run our `ef_vol_to_bow_pages` function over all three volumes:"
      ]
    },
    {
      "cell_type": "code",
      "metadata": {
        "id": "A5sgqxvK4f_i",
        "colab": {
          "base_uri": "https://localhost:8080/",
          "height": 267,
          "referenced_widgets": [
            "b5361324b94846c5aaa572527cfa6f1f",
            "d31c15594c5549bf9135d7f1b30bc9d8",
            "d8ccf5a1aa354ce5af8767c4b073e5db",
            "1ce5250dce994d53bea22fbf9d7daedf",
            "9eddaf497ff9481ab00ac6183f99106a",
            "d15e272ca8834155ac2f41551ba4c75e",
            "f490ec064d684a9db986967e5ce5a70a",
            "ed2c39f759d644c9a4a33ad769ba8193",
            "ee721128712f4e689d40908fec40b7b0",
            "5e354efab75145b0b3b72e2734d315ab",
            "d27a0786f30443e8bd5ed18b87e0f62a",
            "8ea57f239f334e49bbf8c44b6bbf579e",
            "7b0fefd97bc545c881f3634519a5dd67",
            "594cec36d50042c483f7da154cab8f3e",
            "6a8c2bf680e74c8aa03a4b7e3a6acaf0",
            "87ca2254c2c44cb3ab8abd77d68d500c",
            "4ca8837182bf40b8aa9163e7713bbde0",
            "4949d88c567e4e2f82eb27c31b343a93",
            "f8597a7b9d5a45b680bb4a508fc5c785",
            "cbc27527c4884a16833108387758c132",
            "f0def76e709a462aa0486477d669ee17",
            "92b104d36d6f4fee85cd4e75da4e9567",
            "7379550c2be34ef4a576e25b64769fc1",
            "af4ec6044e4c493aa344c30877561a73",
            "0012bcbc3f8e4532ab50f3a5550ae7cc",
            "74939d73c3404a9e8bdbcf4c6a06e1e5",
            "66096c17affa40f69bccc12eaa5a57da",
            "953da1de177e499dab91f353fad74e03",
            "af8779f056f64692a3a32c6a622e8c5b",
            "f367f1a2ce5544a1af0fedc9e0ac90a8",
            "be4dc7ee0c924723a2b82eaf71d11b34",
            "c282a15306b844c98a2b3a80179cf3e5",
            "64f695959cb24a2f8d4ccb1e746135d1",
            "78ff891a9ad442b0bd603f28d765c58a",
            "fc270ef78f904f009c41ab8b52581375",
            "b4c2d88764e94caa83ef5aa2c8402af0",
            "7ba72f074a5c478ba4ada811233fcafb",
            "bb17158f41cc4586b6f9794c9c043159",
            "1e837a3e260943128a0e16a30bb83b0f",
            "e28a5d1857bb4bcdbfa073556d8f7fd4",
            "46e41bf6b6a14c879a0983e62e8005eb",
            "4fd5c80a30e24483abb4d381c73c8748",
            "aec280c60af64ed4983c7151c6cf0e6d",
            "53ad0d0cd0744db7a6db079f924099cf"
          ]
        },
        "outputId": "5f16a8ff-9c67-4da1-c19e-c7fae6a25300"
      },
      "source": [
        "# YOU COULD SUBSTITUTE ANY VOLUMES YOU'D LIKE HERE, JUST REPLACE THE BELOW HTIDs!\n",
        "volume_list = ['mdp.39015066088678','mdp.39015020645456','mdp.39015063676970']\n",
        "\n",
        "workset_page_df = pd.DataFrame(columns=['htid','page_number','page_tokens'])\n",
        "\n",
        "for book in tqdm(volume_list):\n",
        "    fr_vol = Volume(book)\n",
        "    book_df = ef_vol_to_bow_df(fr_vol, save_to_tsv=True)\n",
        "    workset_page_df = workset_page_df.append(book_df)\n",
        "    \n",
        "print(f\"Reformatted {len(volume_list)} volumes to bag-of-words pages.\")"
      ],
      "execution_count": 19,
      "outputs": [
        {
          "output_type": "display_data",
          "data": {
            "application/vnd.jupyter.widget-view+json": {
              "model_id": "b5361324b94846c5aaa572527cfa6f1f",
              "version_minor": 0,
              "version_major": 2
            },
            "text/plain": [
              "  0%|          | 0/3 [00:00<?, ?it/s]"
            ]
          },
          "metadata": {}
        },
        {
          "output_type": "display_data",
          "data": {
            "application/vnd.jupyter.widget-view+json": {
              "model_id": "8ea57f239f334e49bbf8c44b6bbf579e",
              "version_minor": 0,
              "version_major": 2
            },
            "text/plain": [
              "  0%|          | 0/202 [00:00<?, ?it/s]"
            ]
          },
          "metadata": {}
        },
        {
          "output_type": "stream",
          "name": "stdout",
          "text": [
            "Saved The outsiders / to TSV named mdp.39015066088678.tsv\n",
            "Reformatted \"The outsiders /\" (mdp.39015066088678) to bag-of-words\n"
          ]
        },
        {
          "output_type": "display_data",
          "data": {
            "application/vnd.jupyter.widget-view+json": {
              "model_id": "7379550c2be34ef4a576e25b64769fc1",
              "version_minor": 0,
              "version_major": 2
            },
            "text/plain": [
              "  0%|          | 0/200 [00:00<?, ?it/s]"
            ]
          },
          "metadata": {}
        },
        {
          "output_type": "stream",
          "name": "stdout",
          "text": [
            "Saved Fahrenheit 451. to TSV named mdp.39015020645456.tsv\n",
            "Reformatted \"Fahrenheit 451.\" (mdp.39015020645456) to bag-of-words\n"
          ]
        },
        {
          "output_type": "display_data",
          "data": {
            "application/vnd.jupyter.widget-view+json": {
              "model_id": "78ff891a9ad442b0bd603f28d765c58a",
              "version_minor": 0,
              "version_major": 2
            },
            "text/plain": [
              "  0%|          | 0/344 [00:00<?, ?it/s]"
            ]
          },
          "metadata": {}
        },
        {
          "output_type": "stream",
          "name": "stdout",
          "text": [
            "Saved Star wars : dark lord : the rise of Darth Vader / to TSV named mdp.39015063676970.tsv\n",
            "Reformatted \"Star wars : dark lord : the rise of Darth Vader /\" (mdp.39015063676970) to bag-of-words\n",
            "Reformatted 3 volumes to bag-of-words pages.\n"
          ]
        }
      ]
    },
    {
      "cell_type": "markdown",
      "metadata": {
        "id": "rAdWYcyy4f_i"
      },
      "source": [
        "Things look to have run successfully (hopefully!). Let's check the dimensions (rows, columns) and look at the output DataFrame to verify:"
      ]
    },
    {
      "cell_type": "code",
      "metadata": {
        "id": "bw3Dai2d4f_i",
        "colab": {
          "base_uri": "https://localhost:8080/",
          "height": 380
        },
        "outputId": "7c2c3874-7b4b-4d42-b723-cfb7bdfe6033"
      },
      "source": [
        "print(workset_page_df.shape)\n",
        "workset_page_df.head(10)"
      ],
      "execution_count": 20,
      "outputs": [
        {
          "output_type": "stream",
          "name": "stdout",
          "text": [
            "(746, 3)\n"
          ]
        },
        {
          "output_type": "execute_result",
          "data": {
            "text/html": [
              "\n",
              "  <div id=\"df-0eff1d3a-c5f6-4639-a799-8cb00b358f6f\">\n",
              "    <div class=\"colab-df-container\">\n",
              "      <div>\n",
              "<style scoped>\n",
              "    .dataframe tbody tr th:only-of-type {\n",
              "        vertical-align: middle;\n",
              "    }\n",
              "\n",
              "    .dataframe tbody tr th {\n",
              "        vertical-align: top;\n",
              "    }\n",
              "\n",
              "    .dataframe thead th {\n",
              "        text-align: right;\n",
              "    }\n",
              "</style>\n",
              "<table border=\"1\" class=\"dataframe\">\n",
              "  <thead>\n",
              "    <tr style=\"text-align: right;\">\n",
              "      <th></th>\n",
              "      <th>htid</th>\n",
              "      <th>page_number</th>\n",
              "      <th>page_tokens</th>\n",
              "    </tr>\n",
              "  </thead>\n",
              "  <tbody>\n",
              "    <tr>\n",
              "      <th>0</th>\n",
              "      <td>mdp.39015066088678</td>\n",
              "      <td>1</td>\n",
              "      <td>[]</td>\n",
              "    </tr>\n",
              "    <tr>\n",
              "      <th>1</th>\n",
              "      <td>mdp.39015066088678</td>\n",
              "      <td>2</td>\n",
              "      <td>[]</td>\n",
              "    </tr>\n",
              "    <tr>\n",
              "      <th>2</th>\n",
              "      <td>mdp.39015066088678</td>\n",
              "      <td>3</td>\n",
              "      <td>[]</td>\n",
              "    </tr>\n",
              "    <tr>\n",
              "      <th>3</th>\n",
              "      <td>mdp.39015066088678</td>\n",
              "      <td>4</td>\n",
              "      <td>[]</td>\n",
              "    </tr>\n",
              "    <tr>\n",
              "      <th>4</th>\n",
              "      <td>mdp.39015066088678</td>\n",
              "      <td>5</td>\n",
              "      <td>[]</td>\n",
              "    </tr>\n",
              "    <tr>\n",
              "      <th>5</th>\n",
              "      <td>mdp.39015066088678</td>\n",
              "      <td>6</td>\n",
              "      <td>[]</td>\n",
              "    </tr>\n",
              "    <tr>\n",
              "      <th>6</th>\n",
              "      <td>mdp.39015066088678</td>\n",
              "      <td>7</td>\n",
              "      <td>[outsiders]</td>\n",
              "    </tr>\n",
              "    <tr>\n",
              "      <th>7</th>\n",
              "      <td>mdp.39015066088678</td>\n",
              "      <td>8</td>\n",
              "      <td>[]</td>\n",
              "    </tr>\n",
              "    <tr>\n",
              "      <th>8</th>\n",
              "      <td>mdp.39015066088678</td>\n",
              "      <td>9</td>\n",
              "      <td>[flic, hinton, new, oiitsiilci, press, viking,...</td>\n",
              "    </tr>\n",
              "    <tr>\n",
              "      <th>9</th>\n",
              "      <td>mdp.39015066088678</td>\n",
              "      <td>10</td>\n",
              "      <td>[avenue, book, canada, canada, card, catalog, ...</td>\n",
              "    </tr>\n",
              "  </tbody>\n",
              "</table>\n",
              "</div>\n",
              "      <button class=\"colab-df-convert\" onclick=\"convertToInteractive('df-0eff1d3a-c5f6-4639-a799-8cb00b358f6f')\"\n",
              "              title=\"Convert this dataframe to an interactive table.\"\n",
              "              style=\"display:none;\">\n",
              "        \n",
              "  <svg xmlns=\"http://www.w3.org/2000/svg\" height=\"24px\"viewBox=\"0 0 24 24\"\n",
              "       width=\"24px\">\n",
              "    <path d=\"M0 0h24v24H0V0z\" fill=\"none\"/>\n",
              "    <path d=\"M18.56 5.44l.94 2.06.94-2.06 2.06-.94-2.06-.94-.94-2.06-.94 2.06-2.06.94zm-11 1L8.5 8.5l.94-2.06 2.06-.94-2.06-.94L8.5 2.5l-.94 2.06-2.06.94zm10 10l.94 2.06.94-2.06 2.06-.94-2.06-.94-.94-2.06-.94 2.06-2.06.94z\"/><path d=\"M17.41 7.96l-1.37-1.37c-.4-.4-.92-.59-1.43-.59-.52 0-1.04.2-1.43.59L10.3 9.45l-7.72 7.72c-.78.78-.78 2.05 0 2.83L4 21.41c.39.39.9.59 1.41.59.51 0 1.02-.2 1.41-.59l7.78-7.78 2.81-2.81c.8-.78.8-2.07 0-2.86zM5.41 20L4 18.59l7.72-7.72 1.47 1.35L5.41 20z\"/>\n",
              "  </svg>\n",
              "      </button>\n",
              "      \n",
              "  <style>\n",
              "    .colab-df-container {\n",
              "      display:flex;\n",
              "      flex-wrap:wrap;\n",
              "      gap: 12px;\n",
              "    }\n",
              "\n",
              "    .colab-df-convert {\n",
              "      background-color: #E8F0FE;\n",
              "      border: none;\n",
              "      border-radius: 50%;\n",
              "      cursor: pointer;\n",
              "      display: none;\n",
              "      fill: #1967D2;\n",
              "      height: 32px;\n",
              "      padding: 0 0 0 0;\n",
              "      width: 32px;\n",
              "    }\n",
              "\n",
              "    .colab-df-convert:hover {\n",
              "      background-color: #E2EBFA;\n",
              "      box-shadow: 0px 1px 2px rgba(60, 64, 67, 0.3), 0px 1px 3px 1px rgba(60, 64, 67, 0.15);\n",
              "      fill: #174EA6;\n",
              "    }\n",
              "\n",
              "    [theme=dark] .colab-df-convert {\n",
              "      background-color: #3B4455;\n",
              "      fill: #D2E3FC;\n",
              "    }\n",
              "\n",
              "    [theme=dark] .colab-df-convert:hover {\n",
              "      background-color: #434B5C;\n",
              "      box-shadow: 0px 1px 3px 1px rgba(0, 0, 0, 0.15);\n",
              "      filter: drop-shadow(0px 1px 2px rgba(0, 0, 0, 0.3));\n",
              "      fill: #FFFFFF;\n",
              "    }\n",
              "  </style>\n",
              "\n",
              "      <script>\n",
              "        const buttonEl =\n",
              "          document.querySelector('#df-0eff1d3a-c5f6-4639-a799-8cb00b358f6f button.colab-df-convert');\n",
              "        buttonEl.style.display =\n",
              "          google.colab.kernel.accessAllowed ? 'block' : 'none';\n",
              "\n",
              "        async function convertToInteractive(key) {\n",
              "          const element = document.querySelector('#df-0eff1d3a-c5f6-4639-a799-8cb00b358f6f');\n",
              "          const dataTable =\n",
              "            await google.colab.kernel.invokeFunction('convertToInteractive',\n",
              "                                                     [key], {});\n",
              "          if (!dataTable) return;\n",
              "\n",
              "          const docLinkHtml = 'Like what you see? Visit the ' +\n",
              "            '<a target=\"_blank\" href=https://colab.research.google.com/notebooks/data_table.ipynb>data table notebook</a>'\n",
              "            + ' to learn more about interactive tables.';\n",
              "          element.innerHTML = '';\n",
              "          dataTable['output_type'] = 'display_data';\n",
              "          await google.colab.output.renderOutput(dataTable, element);\n",
              "          const docLink = document.createElement('div');\n",
              "          docLink.innerHTML = docLinkHtml;\n",
              "          element.appendChild(docLink);\n",
              "        }\n",
              "      </script>\n",
              "    </div>\n",
              "  </div>\n",
              "  "
            ],
            "text/plain": [
              "                 htid  ...                                        page_tokens\n",
              "0  mdp.39015066088678  ...                                                 []\n",
              "1  mdp.39015066088678  ...                                                 []\n",
              "2  mdp.39015066088678  ...                                                 []\n",
              "3  mdp.39015066088678  ...                                                 []\n",
              "4  mdp.39015066088678  ...                                                 []\n",
              "5  mdp.39015066088678  ...                                                 []\n",
              "6  mdp.39015066088678  ...                                        [outsiders]\n",
              "7  mdp.39015066088678  ...                                                 []\n",
              "8  mdp.39015066088678  ...  [flic, hinton, new, oiitsiilci, press, viking,...\n",
              "9  mdp.39015066088678  ...  [avenue, book, canada, canada, card, catalog, ...\n",
              "\n",
              "[10 rows x 3 columns]"
            ]
          },
          "metadata": {},
          "execution_count": 20
        }
      ]
    },
    {
      "cell_type": "markdown",
      "metadata": {
        "id": "CksqTLKx4f_j"
      },
      "source": [
        "The dimensions look right, as does the data in `workset_page_df`. \n",
        "\n",
        "We can now shift to grabbing the bag-of-words text in the `page_tokens` column and readying it for Gensim. We're using a straightforward, no frills version of topic modeling where we aren't tracking the documents in our collection, and are instead just topic modeling the words. For this, Gensim wants one big list of the tokens, and we'll generate this using another `for` loop:"
      ]
    },
    {
      "cell_type": "code",
      "metadata": {
        "id": "kWiAEJy64f_j",
        "colab": {
          "base_uri": "https://localhost:8080/"
        },
        "outputId": "927534c8-940f-497c-a0e5-f25d79d135d8"
      },
      "source": [
        "bow_text_lists = []\n",
        "bow_text = []\n",
        "\n",
        "for i,r in workset_page_df.iterrows():\n",
        "    words = r.page_tokens\n",
        "    bow_text_lists.append(words)\n",
        "    for word in words:\n",
        "        bow_text.append(word)\n",
        "\n",
        "print(f\"Added {len(bow_text)} words to list.\")"
      ],
      "execution_count": 21,
      "outputs": [
        {
          "output_type": "stream",
          "name": "stdout",
          "text": [
            "Added 91019 words to list.\n"
          ]
        }
      ]
    },
    {
      "cell_type": "markdown",
      "metadata": {
        "id": "VdP2pbYJ4f_k"
      },
      "source": [
        "Gensim takes \"dictionary\" and \"corpus\" objects to train an LDA model. For Gensim, a \"dictionary\" is a list of the unique tokens in your corpus, assigned to a numerical ID, and a \"corpus\" is your complete bag-of-words data--the list of words we just created, `bow_text`--but represented by the numerical ID from the \"dictionary\" and its count. This is a bit confusing, so let's generate both and take a look at them directly. Here is the code to create the dictionary and corpus, pulled from Gensim documentation:"
      ]
    },
    {
      "cell_type": "code",
      "metadata": {
        "id": "5JgpVydM4f_k"
      },
      "source": [
        "# importing libraries from Gensim to create corpus and dictionary\n",
        "from gensim import corpora\n",
        "\n",
        "# creating our dictionary and corpus\n",
        "dictionary = corpora.Dictionary(bow_text_lists)\n",
        "corpus = [dictionary.doc2bow(text) for text in bow_text_lists]\n",
        "\n",
        "# importing pickle, a library which lets us save our corpus and dictionary for later use\n",
        "import pickle\n",
        "pickle.dump(corpus, open('corpus.pkl', 'wb'))\n",
        "dictionary.save('dictionary.gensim')"
      ],
      "execution_count": 30,
      "outputs": []
    },
    {
      "cell_type": "markdown",
      "metadata": {
        "id": "DpNoKVRj4f_l"
      },
      "source": [
        "Here is a look at the first 15 items in our Gensim `dictionary`:"
      ]
    },
    {
      "cell_type": "code",
      "metadata": {
        "id": "p-mArBkY4f_l",
        "colab": {
          "base_uri": "https://localhost:8080/"
        },
        "outputId": "8315a7d5-10ea-47cb-8a12-9c13d3838a76"
      },
      "source": [
        "n = 0\n",
        "\n",
        "for k,v in dictionary.items():\n",
        "    if n <= 15:\n",
        "        print(f\"{k} : {v}\")\n",
        "        n += 1"
      ],
      "execution_count": 31,
      "outputs": [
        {
          "output_type": "stream",
          "name": "stdout",
          "text": [
            "0 : outsiders\n",
            "1 : flic\n",
            "2 : hinton\n",
            "3 : new\n",
            "4 : oiitsiilci\n",
            "5 : press\n",
            "6 : viking\n",
            "7 : york\n",
            "8 : avenue\n",
            "9 : book\n",
            "10 : canada\n",
            "11 : card\n",
            "12 : catalog\n",
            "13 : company\n",
            "14 : complete\n",
            "15 : congress\n"
          ]
        }
      ]
    },
    {
      "cell_type": "markdown",
      "metadata": {
        "id": "y5ZyYK4r4f_l"
      },
      "source": [
        "And here is one page of bag-of-words data (represented numerically as `(word ID, count)` pairs or tuples) in our Gensim `corpus`:"
      ]
    },
    {
      "cell_type": "code",
      "metadata": {
        "id": "c8lEQFk34f_m",
        "scrolled": true,
        "colab": {
          "base_uri": "https://localhost:8080/"
        },
        "outputId": "d6ddadd9-8544-464d-b14f-36d640eb6c65"
      },
      "source": [
        "# return item 5 in our corpus:\n",
        "corpus[5]"
      ],
      "execution_count": 33,
      "outputs": [
        {
          "output_type": "execute_result",
          "data": {
            "text/plain": [
              "[]"
            ]
          },
          "metadata": {},
          "execution_count": 33
        }
      ]
    },
    {
      "cell_type": "markdown",
      "metadata": {
        "id": "qhXkHYds4f_m"
      },
      "source": [
        "With these two inputs created, we can now train and run our topic model, saving the model along the way (again, pulling code from Gensim documentation--you don't have to know how to do this off the top of your head!):"
      ]
    },
    {
      "cell_type": "code",
      "metadata": {
        "id": "LWWbJHDy4f_m"
      },
      "source": [
        "import warnings\n",
        "warnings.filterwarnings(\"ignore\", category=DeprecationWarning)\n",
        "\n",
        "# THIS CODE WILL TAKE A FEW MINUTES OR SO TO RUN!\n",
        "number_of_topics = 10\n",
        "ldamodel = gensim.models.ldamodel.LdaModel(corpus, num_topics = number_of_topics, id2word=dictionary, passes=50, random_state=42)\n",
        "ldamodel.save('model10.gensim')"
      ],
      "execution_count": 34,
      "outputs": []
    },
    {
      "cell_type": "markdown",
      "metadata": {
        "id": "bG_oI6zG4f_m"
      },
      "source": [
        "Three major inputs are adjustable: the number of topics we want to generate, the number of passes we want to do when training our model, and the random state or seed. The number of topics is custom for each set of volumes/documents and is often something that you should test out. Do your results make more or less sense with more or fewer topics? The number of passes will effect the \"accuracy\" of your topic models. The algorithm is training the topics as many times as you input passes, and then taking an aggregated average of the results. Since there is a random element to topic modeling, results are different for every pass. The more passes we do, the more we can reduce the randomness of the results. Here, we're doing 50 passes, since our data is not too big, but you may find more or less is suitable based on testing out results. Another way to minimize the randomness is to set the seed, or in Gensim the `random_state`. By setting the \"seed\" or the `random_state` we are saying to eliminate the randomness and always go with the number option we indicate. You can play with this number as well and see how the results change. We have started with 42 because it is the answer to eveything.\n",
        "\n",
        "Ok, back to results!\n",
        "\n",
        "Nothing is explicitly returned from the code above, as the model is created and saved, but we can see the topics that were generated using `show_topics()` which also lets us decide how many of the top words for each topic we want to see:"
      ]
    },
    {
      "cell_type": "code",
      "metadata": {
        "id": "lRICJeyF4f_n",
        "scrolled": true,
        "colab": {
          "base_uri": "https://localhost:8080/"
        },
        "outputId": "ea0fdcfe-5716-4e2f-e100-d07e07d592bb"
      },
      "source": [
        "topics = ldamodel.show_topics(num_words=10, formatted=False)\n",
        "for topic in topics:\n",
        "    print(f\"{topic} + '\\n'\")\n",
        "\n",
        "# doc_topics = ldamodel.get_doc_topics"
      ],
      "execution_count": 35,
      "outputs": [
        {
          "output_type": "stream",
          "name": "stdout",
          "text": [
            "(0, [('vader', 0.027254019), ('jedi', 0.016719393), ('shryne', 0.01205169), ('palpatine', 0.0076688468), ('sidious', 0.006794068), ('one', 0.006369199), ('bail', 0.0061004823), ('lord', 0.005753233), ('force', 0.0055495207), ('starstone', 0.0047366098)]) + '\n",
            "'\n",
            "(1, [('cudgel', 0.011247659), ('starstone', 0.007669002), ('filli', 0.0061941296), ('chewbacca', 0.004973599), ('wookiees', 0.0043572607), ('droids', 0.0034725121), ('kashyyyk', 0.0028394267), ('tarfful', 0.002606386), ('kachirho', 0.0024250033), ('side', 0.0023420379)]) + '\n",
            "'\n",
            "(2, [('montag', 0.020408941), ('like', 0.009457672), ('one', 0.007387464), ('back', 0.006928328), ('man', 0.0066679106), ('beatty', 0.005611611), ('know', 0.0051163435), ('night', 0.0050687226), ('books', 0.0048089866), ('go', 0.0047772755)]) + '\n",
            "'\n",
            "(3, [('montag', 0.0052689123), ('thought', 0.0040017916), ('running', 0.0038168745), ('face', 0.0037564947), ('like', 0.003472511), ('hand', 0.0033924873), ('hands', 0.0031232224), ('house', 0.0030469284), ('hound', 0.0030449368), ('man', 0.002847961)]) + '\n",
            "'\n",
            "(4, [('time', 0.0073277466), ('boy', 0.0071676606), ('playground', 0.0071448805), ('jim', 0.0064953556), ('underhill', 0.0058918684), ('like', 0.004623662), ('one', 0.004435162), ('right', 0.0042406563), ('children', 0.0037075805), ('know', 0.003651559)]) + '\n",
            "'\n",
            "(5, [('shryne', 0.018781144), ('salvo', 0.010589624), ('commander', 0.009871105), ('starstone', 0.006324116), ('climber', 0.00618758), ('murkhana', 0.0060876664), ('chatak', 0.005983209), ('troopers', 0.0054816375), ('jedi', 0.0052370154), ('landing', 0.0035925359)]) + '\n",
            "'\n",
            "(6, [('like', 0.0054884604), ('man', 0.0053478614), ('two', 0.0051642978), ('last', 0.0042345976), ('montag', 0.0040235515), ('one', 0.0039012544), ('know', 0.003750982), ('back', 0.003679659), ('uncle', 0.0035584092), ('long', 0.0034968916)]) + '\n",
            "'\n",
            "(7, [('starstone', 0.007703608), ('wookiees', 0.007422336), ('ship', 0.006830203), ('one', 0.0042186347), ('kachirho', 0.0038449094), ('gunships', 0.0036736769), ('troopers', 0.0036705448), ('filli', 0.0036428054), ('ships', 0.0035018243), ('landing', 0.0034278296)]) + '\n",
            "'\n",
            "(8, [('johnny', 0.016971456), ('like', 0.01358731), ('darry', 0.011935842), ('dally', 0.01058236), ('soda', 0.010032139), ('get', 0.009899554), ('us', 0.009154117), ('got', 0.008280934), ('one', 0.00775339), ('looked', 0.006324823)]) + '\n",
            "'\n",
            "(9, [('shryne', 0.021005196), ('jula', 0.010040402), ('starstone', 0.007447045), ('climber', 0.0071278736), ('one', 0.006833773), ('filli', 0.0059138634), ('skeck', 0.005662815), ('archyr', 0.004756875), ('us', 0.0045907917), ('jedi', 0.004456365)]) + '\n",
            "'\n"
          ]
        }
      ]
    },
    {
      "cell_type": "markdown",
      "metadata": {
        "id": "R8cTOkII4VzB"
      },
      "source": [
        "\n",
        "We can also get all the documents for which a term has an association in our model using Gensim's `get_term_topics` method, which takes a term and a minimum probability and returns each topic for which that term meets the minimum probability of appearing in. We can see all topics for a given term simply by passing `0` to the parameter `minimum_probability`:\n",
        "\n"
      ]
    },
    {
      "cell_type": "code",
      "metadata": {
        "id": "Dud9dUauIocf",
        "colab": {
          "base_uri": "https://localhost:8080/"
        },
        "outputId": "b8938523-7086-45dd-8ff6-19717c604e19"
      },
      "source": [
        "ldamodel.get_term_topics('brave', minimum_probability=0)\n"
      ],
      "execution_count": 36,
      "outputs": [
        {
          "output_type": "execute_result",
          "data": {
            "text/plain": [
              "[(2, 4.1984706e-05), (9, 0.00027346626)]"
            ]
          },
          "metadata": {},
          "execution_count": 36
        }
      ]
    },
    {
      "cell_type": "markdown",
      "metadata": {
        "id": "KxoEgYmF4xQp"
      },
      "source": [
        "While it's very useful to see our topics, the top N terms associated with them, and be able to check topic association for a given term, we may also want to see how each of our documents associates with our topics. We can use Gensim's `get_document_topics` method for this (and remember that a 'document' for us is a page of a HathiTrust volume):"
      ]
    },
    {
      "cell_type": "code",
      "metadata": {
        "id": "3f41fkJgIqmd",
        "colab": {
          "base_uri": "https://localhost:8080/"
        },
        "outputId": "7596974e-9c25-44ec-dc53-ef9eea345cf7"
      },
      "source": [
        "all_topics = ldamodel.get_document_topics(corpus, per_word_topics=True)\n",
        "n = 0\n",
        "\n",
        "for doc_topics, word_topics, phi_values in all_topics[20:25]:\n",
        "    print(f\"Document {n}\\n\")\n",
        "    print('Document topics (what topics this document is associated with):')\n",
        "    print(f\"{doc_topics}\\n\")\n",
        "    print('Word topics (what topics words in this document are associated with):')\n",
        "    print(f\"{word_topics}\\n\")\n",
        "    print('Phi values (probability of a word in this document being associated with a given topic):')\n",
        "    print(f\"{phi_values}\\n\")\n",
        "    print('-------------- \\n')\n",
        "    n += 1"
      ],
      "execution_count": 37,
      "outputs": [
        {
          "output_type": "stream",
          "name": "stdout",
          "text": [
            "Document 0\n",
            "\n",
            "Document topics (what topics this document is associated with):\n",
            "[(2, 0.27562374), (8, 0.7174788)]\n",
            "\n",
            "Word topics (what topics words in this document are associated with):\n",
            "[(48, [8, 2]), (49, [8, 2]), (59, [8, 2]), (63, [8]), (68, [8]), (72, [8, 2]), (76, [8, 2]), (77, [8, 2]), (78, [8, 2]), (93, [8]), (97, [8, 2]), (107, [8, 2]), (118, [8]), (132, [8]), (139, [8, 2]), (147, [8, 2]), (148, [8, 2]), (172, [8, 2]), (176, [8]), (177, [8]), (190, [8, 2]), (192, [8, 2]), (234, [8, 2]), (235, [8, 2]), (255, [8, 2]), (260, [8, 2]), (289, [8]), (301, [8, 2]), (306, [8, 2]), (318, [8, 2]), (325, [8, 2]), (333, [8, 2]), (336, [8, 2]), (345, [8]), (362, [8, 2]), (367, [8, 2]), (369, [8, 2]), (401, [8, 2]), (407, [8, 2]), (412, [8, 2]), (416, [8]), (428, [8, 2]), (454, [8]), (457, [8, 2]), (466, [8]), (472, [8]), (479, [8, 2]), (484, [8, 2]), (492, [2]), (493, [2]), (494, [2]), (495, [2]), (496, [8, 2]), (497, [8]), (498, [8, 2]), (499, [8, 2]), (500, [2]), (501, [8, 2]), (502, [8, 2]), (503, [8, 2]), (504, [8]), (505, [8, 2]), (506, [8]), (507, [2]), (508, [8]), (509, [8, 2]), (510, [2, 8]), (511, [8]), (512, [2]), (513, [8]), (514, [8, 2]), (515, [8]), (516, [2]), (517, [2]), (518, [2, 8]), (519, [8, 2]), (520, [8, 2]), (521, [8, 2]), (522, [2]), (523, [8, 2]), (524, [8, 2]), (525, [8]), (526, [8, 2]), (527, [2]), (528, [2]), (529, [8, 2]), (530, [8]), (531, [8, 2]), (532, [8, 2]), (533, [2]), (534, [8, 2]), (535, [8]), (536, [2]), (537, [8, 2]), (538, [8, 2]), (539, [8]), (540, [8, 2]), (541, [2]), (542, [8, 2]), (543, [2]), (544, [8, 2]), (545, [8, 2]), (546, [8])]\n",
            "\n",
            "Phi values (probability of a word in this document being associated with a given topic):\n",
            "[(48, [(2, 0.29613963), (8, 0.7038597)]), (49, [(2, 0.073009074), (8, 0.92699033)]), (59, [(2, 0.24237604), (8, 0.7576232)]), (63, [(8, 0.9999996)]), (68, [(8, 0.99999875)]), (72, [(2, 0.41840115), (8, 1.5815982)]), (76, [(2, 0.21436334), (8, 0.78563595)]), (77, [(2, 0.129854), (8, 0.8701455)]), (78, [(2, 0.14759403), (8, 0.8524054)]), (93, [(8, 0.9999995)]), (97, [(2, 0.34905308), (8, 0.6509467)]), (107, [(2, 0.087608494), (8, 0.91239107)]), (118, [(8, 3.9999998)]), (132, [(8, 0.9999997)]), (139, [(2, 0.0315022), (8, 0.9684975)]), (147, [(2, 0.2489794), (8, 1.7510204)]), (148, [(2, 0.2377388), (8, 0.7622605)]), (172, [(2, 0.122157104), (8, 0.87783974)]), (176, [(8, 1.9999998)]), (177, [(8, 0.9999998)]), (190, [(2, 0.43272555), (8, 0.567274)]), (192, [(2, 0.43729222), (8, 0.56270605)]), (234, [(2, 0.36409622), (8, 0.63590324)]), (235, [(2, 0.09739583), (8, 0.902604)]), (255, [(2, 0.48070467), (8, 0.5192944)]), (260, [(2, 0.033449672), (8, 0.96654993)]), (289, [(8, 0.9999968)]), (301, [(2, 0.3087372), (8, 0.69126254)]), (306, [(2, 0.08524388), (8, 0.91475576)]), (318, [(2, 0.54412097), (8, 2.4558759)]), (325, [(2, 0.29650533), (8, 1.703494)]), (333, [(2, 0.20397703), (8, 0.79602283)]), (336, [(2, 0.15257661), (8, 0.84742314)]), (345, [(8, 0.999999)]), (362, [(2, 0.11689218), (8, 0.8831076)]), (367, [(2, 0.09793496), (8, 1.9020617)]), (369, [(2, 0.4251332), (8, 0.57486385)]), (401, [(2, 0.43432295), (8, 0.5656755)]), (407, [(2, 0.2620904), (8, 0.7379087)]), (412, [(2, 0.34112945), (8, 0.65887)]), (416, [(8, 0.99999493)]), (428, [(2, 0.18470939), (8, 0.81529015)]), (454, [(8, 1.9999882)]), (457, [(2, 0.29965776), (8, 0.7003415)]), (466, [(8, 0.99999976)]), (472, [(8, 0.99999976)]), (479, [(2, 0.11764935), (8, 0.88235044)]), (484, [(2, 0.39884585), (8, 0.6011539)]), (492, [(2, 0.999897)]), (493, [(2, 0.999897)]), (494, [(2, 0.999897)]), (495, [(2, 0.9998944)]), (496, [(2, 0.29794684), (8, 0.7020527)]), (497, [(8, 0.9999973)]), (498, [(2, 0.27203164), (8, 0.7279677)]), (499, [(2, 0.12023946), (8, 0.87976044)]), (500, [(2, 0.9999786)]), (501, [(2, 0.05491658), (8, 0.9450827)]), (502, [(2, 0.32775474), (8, 0.6722449)]), (503, [(2, 0.367727), (8, 0.6322704)]), (504, [(8, 0.99999124)]), (505, [(2, 0.11158447), (8, 0.88841116)]), (506, [(8, 0.9999984)]), (507, [(2, 0.999898)]), (508, [(8, 0.99999595)]), (509, [(2, 0.494113), (8, 0.5058863)]), (510, [(2, 0.8449062), (8, 0.15509155)]), (511, [(8, 1.9999969)]), (512, [(2, 0.999897)]), (513, [(8, 0.99999833)]), (514, [(2, 0.068906106), (8, 0.9310938)]), (515, [(8, 0.99999493)]), (516, [(2, 0.999897)]), (517, [(2, 0.9999657)]), (518, [(2, 0.5725885), (8, 0.4274103)]), (519, [(2, 0.07884248), (8, 0.92115736)]), (520, [(2, 0.28328165), (8, 0.71671766)]), (521, [(2, 0.05875141), (8, 0.9412476)]), (522, [(2, 0.999897)]), (523, [(2, 0.04259329), (8, 0.95740634)]), (524, [(2, 0.33066154), (8, 0.6693384)]), (525, [(8, 0.99089545)]), (526, [(2, 0.2078965), (8, 0.79210275)]), (527, [(2, 0.9999733)]), (528, [(2, 0.9998909)]), (529, [(2, 0.07607175), (8, 0.92392737)]), (530, [(8, 0.9999981)]), (531, [(2, 0.388765), (8, 0.61123437)]), (532, [(2, 0.46042725), (8, 0.5395699)]), (533, [(2, 0.999897)]), (534, [(2, 0.48389086), (8, 0.51610744)]), (535, [(8, 0.9999949)]), (536, [(2, 0.99994665)]), (537, [(2, 0.23100793), (8, 0.76899135)]), (538, [(2, 0.22447363), (8, 0.7755257)]), (539, [(8, 0.99999875)]), (540, [(2, 0.056094695), (8, 0.9439035)]), (541, [(2, 0.9999722)]), (542, [(2, 0.14704145), (8, 0.8529579)]), (543, [(2, 0.99989426)]), (544, [(2, 0.21666889), (8, 0.7833309)]), (545, [(2, 0.3330007), (8, 0.6669993)]), (546, [(8, 0.9999997)])]\n",
            "\n",
            "-------------- \n",
            "\n",
            "Document 1\n",
            "\n",
            "Document topics (what topics this document is associated with):\n",
            "[(4, 0.29538742), (8, 0.6992426)]\n",
            "\n",
            "Word topics (what topics words in this document are associated with):\n",
            "[(48, [8, 4]), (59, [8, 4]), (60, [8, 4]), (61, [8, 4]), (65, [8, 4]), (67, [8, 4]), (72, [8, 4]), (74, [8, 4]), (77, [8, 4]), (79, [8, 4]), (80, [8, 4]), (82, [8]), (105, [8]), (116, [8]), (118, [8]), (125, [8, 4]), (129, [8, 4]), (135, [8]), (141, [4, 8]), (147, [8]), (148, [8, 4]), (155, [8, 4]), (159, [8, 4]), (160, [8, 4]), (163, [8, 4]), (171, [8]), (176, [8]), (187, [8, 4]), (193, [4]), (220, [4, 8]), (235, [8, 4]), (252, [8, 4]), (275, [8, 4]), (281, [8, 4]), (287, [8, 4]), (305, [8, 4]), (309, [8, 4]), (313, [8, 4]), (314, [8, 4]), (323, [8]), (324, [8, 4]), (325, [8, 4]), (328, [8]), (338, [8, 4]), (373, [8]), (383, [8]), (400, [8]), (401, [8, 4]), (453, [4, 8]), (466, [8]), (472, [8]), (474, [8, 4]), (475, [8, 4]), (479, [8]), (514, [8]), (523, [8]), (547, [8]), (548, [4]), (549, [4, 8]), (550, [4]), (551, [4, 8]), (552, [8]), (553, [4]), (554, [4]), (555, [8, 4]), (556, [8]), (557, [8]), (558, [8, 4]), (559, [4]), (560, [4]), (561, [8]), (562, [8, 4]), (563, [4]), (564, [8, 4]), (565, [8]), (566, [8, 4]), (567, [8, 4]), (568, [4]), (569, [8]), (570, [8, 4]), (571, [8]), (572, [8, 4]), (573, [4]), (574, [8]), (575, [8]), (576, [8]), (577, [8, 4]), (578, [8]), (579, [8]), (580, [8]), (581, [4, 8]), (582, [8]), (583, [4]), (584, [4]), (585, [8, 4]), (586, [4]), (587, [8, 4]), (588, [8, 4]), (589, [4, 8]), (590, [8]), (591, [4]), (592, [8]), (593, [8]), (594, [8]), (595, [4]), (596, [8]), (597, [4]), (598, [4]), (599, [4]), (600, [4, 8]), (601, [4]), (602, [4, 8]), (603, [8, 4]), (604, [4, 8]), (605, [4, 8]), (606, [4]), (607, [8]), (608, [4]), (609, [4]), (610, [8, 4]), (611, [8]), (612, [4]), (613, [8, 4]), (614, [8, 4])]\n",
            "\n",
            "Phi values (probability of a word in this document being associated with a given topic):\n",
            "[(48, [(4, 0.15452039), (8, 0.8454789)]), (59, [(4, 0.7926092), (8, 2.2073894)]), (60, [(4, 0.31623697), (8, 0.68376195)]), (61, [(4, 0.067252025), (8, 0.9327476)]), (65, [(4, 0.11869059), (8, 0.88130933)]), (67, [(4, 0.12229793), (8, 1.877702)]), (72, [(4, 0.3697563), (8, 2.6302423)]), (74, [(4, 0.22357973), (8, 0.776419)]), (77, [(4, 0.22339931), (8, 2.776599)]), (79, [(4, 0.11671418), (8, 0.88328576)]), (80, [(4, 0.3868782), (8, 0.613121)]), (82, [(8, 0.9999962)]), (105, [(8, 0.9999862)]), (116, [(8, 0.99999815)]), (118, [(8, 1.9999995)]), (125, [(4, 0.012051693), (8, 0.9879478)]), (129, [(4, 0.37726012), (8, 0.6227389)]), (135, [(8, 0.9999903)]), (141, [(4, 0.5648419), (8, 0.43515718)]), (147, [(8, 0.99999833)]), (148, [(4, 0.38890395), (8, 1.6110947)]), (155, [(4, 0.19751431), (8, 0.8024848)]), (159, [(4, 0.10161407), (8, 0.8983853)]), (160, [(4, 0.0703096), (8, 0.92969006)]), (163, [(4, 0.38242185), (8, 1.6175762)]), (171, [(8, 0.9999069)]), (176, [(8, 5.9999986)]), (187, [(4, 0.34803063), (8, 0.65196884)]), (193, [(4, 0.999969)]), (220, [(4, 0.51278293), (8, 0.48721635)]), (235, [(4, 0.037899297), (8, 0.9621006)]), (252, [(4, 0.4026007), (8, 0.5973988)]), (275, [(4, 0.13992108), (8, 0.8600783)]), (281, [(4, 0.1349205), (8, 0.8650776)]), (287, [(4, 0.73419994), (8, 1.2657974)]), (305, [(4, 0.33729228), (8, 0.66270745)]), (309, [(4, 0.31280538), (8, 0.6871933)]), (313, [(4, 0.4346266), (8, 0.5653727)]), (314, [(4, 0.029474324), (8, 0.97052544)]), (323, [(8, 1.9999998)]), (324, [(4, 0.16905668), (8, 0.8309428)]), (325, [(4, 0.12951973), (8, 0.87048006)]), (328, [(8, 0.9999821)]), (338, [(4, 0.16006169), (8, 0.839937)]), (373, [(8, 0.9999022)]), (383, [(8, 0.99999857)]), (400, [(8, 0.9999986)]), (401, [(4, 0.110998824), (8, 0.88899887)]), (453, [(4, 0.53608775), (8, 0.46390998)]), (466, [(8, 0.9999994)]), (472, [(8, 0.9999994)]), (474, [(4, 0.22558512), (8, 0.77441406)]), (475, [(4, 0.09909007), (8, 0.90090966)]), (479, [(8, 0.9999967)]), (514, [(8, 2.999994)]), (523, [(8, 0.99999326)]), (547, [(8, 0.9999991)]), (548, [(4, 0.9999699)]), (549, [(4, 0.7331945), (8, 0.2668028)]), (550, [(4, 0.9999694)]), (551, [(4, 0.5825566), (8, 0.41743776)]), (552, [(8, 0.9999865)]), (553, [(4, 0.9999706)]), (554, [(4, 0.99999255)]), (555, [(4, 0.27358615), (8, 0.7264133)]), (556, [(8, 0.9999712)]), (557, [(8, 0.9999847)]), (558, [(4, 0.48461425), (8, 0.5153849)]), (559, [(4, 0.9999685)]), (560, [(4, 0.9999706)]), (561, [(8, 0.9999713)]), (562, [(4, 0.22159772), (8, 0.77840185)]), (563, [(4, 1.9999913)]), (564, [(4, 0.18322404), (8, 0.81677336)]), (565, [(8, 0.9999952)]), (566, [(4, 0.4799166), (8, 0.52008146)]), (567, [(4, 0.16508237), (8, 0.8349172)]), (568, [(4, 0.9999719)]), (569, [(8, 1.999993)]), (570, [(4, 0.20850599), (8, 0.7914936)]), (571, [(8, 0.99999446)]), (572, [(4, 0.52668685), (8, 1.4733106)]), (573, [(4, 0.99998784)]), (574, [(8, 0.9999959)]), (575, [(8, 1.9999964)]), (576, [(8, 0.9999948)]), (577, [(4, 0.32927293), (8, 0.670726)]), (578, [(8, 0.9999872)]), (579, [(8, 0.9999868)]), (580, [(8, 1.9999985)]), (581, [(4, 0.6935516), (8, 0.3064483)]), (582, [(8, 0.9999879)]), (583, [(4, 0.99996626)]), (584, [(4, 0.9999699)]), (585, [(4, 0.21167043), (8, 0.7883293)]), (586, [(4, 0.9999706)]), (587, [(4, 0.30727273), (8, 0.6927267)]), (588, [(4, 0.2872301), (8, 0.71276355)]), (589, [(4, 0.65278745), (8, 0.34721005)]), (590, [(8, 0.99999785)]), (591, [(4, 0.99996716)]), (592, [(8, 0.99999493)]), (593, [(8, 0.9999802)]), (594, [(8, 0.99999225)]), (595, [(4, 0.9999706)]), (596, [(8, 0.99999166)]), (597, [(4, 0.9999871)]), (598, [(4, 0.99998236)]), (599, [(4, 0.99996996)]), (600, [(4, 0.69471836), (8, 0.30528098)]), (601, [(4, 0.99997073)]), (602, [(4, 0.60450107), (8, 0.3954983)]), (603, [(4, 0.2862925), (8, 0.7137075)]), (604, [(4, 0.81751734), (8, 0.18248157)]), (605, [(4, 0.72262526), (8, 0.27737427)]), (606, [(4, 0.99996966)]), (607, [(8, 0.999989)]), (608, [(4, 0.99998003)]), (609, [(4, 0.9999706)]), (610, [(4, 0.021281606), (8, 0.97871745)]), (611, [(8, 0.9999891)]), (612, [(4, 0.9999925)]), (613, [(4, 0.15713286), (8, 0.84286654)]), (614, [(4, 0.4278027), (8, 0.5721965)])]\n",
            "\n",
            "-------------- \n",
            "\n",
            "Document 2\n",
            "\n",
            "Document topics (what topics this document is associated with):\n",
            "[(2, 0.20529917), (8, 0.789637)]\n",
            "\n",
            "Word topics (what topics words in this document are associated with):\n",
            "[(66, [8]), (67, [8, 2]), (72, [8, 2]), (77, [8, 2]), (82, [8, 2]), (86, [8, 2]), (93, [8]), (105, [8, 2]), (107, [8, 2]), (108, [8, 2]), (110, [8]), (118, [8]), (124, [8, 2]), (132, [8]), (138, [8]), (139, [8, 2]), (162, [8]), (163, [8, 2]), (173, [8, 2]), (175, [8]), (176, [8]), (177, [8]), (186, [8, 2]), (187, [8, 2]), (195, [8, 2]), (199, [8, 2]), (216, [8, 2]), (224, [8, 2]), (230, [8, 2]), (232, [8, 2]), (233, [2, 8]), (235, [8, 2]), (250, [8]), (256, [8, 2]), (265, [8, 2]), (285, [8, 2]), (295, [8]), (299, [8, 2]), (316, [8, 2]), (324, [8, 2]), (334, [8]), (338, [8, 2]), (345, [8]), (350, [8]), (356, [8, 2]), (358, [8, 2]), (362, [8, 2]), (385, [8]), (388, [8, 2]), (398, [8, 2]), (409, [8, 2]), (412, [8, 2]), (423, [8, 2]), (447, [8, 2]), (478, [8, 2]), (489, [8, 2]), (496, [8, 2]), (502, [8, 2]), (540, [8, 2]), (575, [8]), (580, [8]), (615, [8]), (616, [8, 2]), (617, [8, 2]), (618, [8]), (619, [8]), (620, [8]), (621, [8]), (622, [8]), (623, [8]), (624, [8]), (625, [8]), (626, [2]), (627, [8, 2]), (628, [8, 2]), (629, [2]), (630, [2]), (631, [8, 2]), (632, [8]), (633, [8]), (634, [2]), (635, [8, 2]), (636, [2, 8]), (637, [8]), (638, [8]), (639, [2]), (640, [8, 2]), (641, [2]), (642, [2]), (643, [8]), (644, [2]), (645, [8]), (646, [8, 2]), (647, [8]), (648, [2, 8]), (649, [8]), (650, [2]), (651, [8, 2]), (652, [2]), (653, [8, 2]), (654, [8, 2]), (655, [8]), (656, [8, 2]), (657, [2]), (658, [8, 2]), (659, [8, 2]), (660, [2]), (661, [2]), (662, [2]), (663, [8, 2]), (664, [2]), (665, [2]), (666, [2]), (667, [8, 2]), (668, [2, 8]), (669, [8, 2]), (670, [8]), (671, [2, 8]), (672, [8, 2]), (673, [2]), (674, [8, 2]), (675, [8])]\n",
            "\n",
            "Phi values (probability of a word in this document being associated with a given topic):\n",
            "[(66, [(8, 0.9999995)]), (67, [(2, 0.03516601), (8, 0.964834)]), (72, [(2, 0.6064914), (8, 3.3935075)]), (77, [(2, 0.09158544), (8, 0.9084142)]), (82, [(2, 0.016386984), (8, 0.98361295)]), (86, [(2, 0.03739411), (8, 0.9626043)]), (93, [(8, 0.99999964)]), (105, [(2, 0.24989155), (8, 1.750108)]), (107, [(2, 0.060918264), (8, 0.9390814)]), (108, [(2, 0.2718707), (8, 1.7281272)]), (110, [(8, 0.9942571)]), (118, [(8, 3.0)]), (124, [(2, 0.10492378), (8, 0.89507574)]), (132, [(8, 1.9999994)]), (138, [(8, 0.9999962)]), (139, [(2, 0.021502119), (8, 0.97849774)]), (162, [(8, 0.9999966)]), (163, [(2, 0.1966242), (8, 0.803375)]), (173, [(2, 0.38944644), (8, 0.61055124)]), (175, [(8, 0.9999999)]), (176, [(8, 11.000001)]), (177, [(8, 0.9999998)]), (186, [(2, 0.12366556), (8, 0.87633395)]), (187, [(2, 0.2878102), (8, 1.7121881)]), (195, [(2, 0.08193152), (8, 0.9180682)]), (199, [(2, 0.12984796), (8, 0.8701519)]), (216, [(2, 0.44203684), (8, 2.5579624)]), (224, [(2, 0.09210202), (8, 0.9078971)]), (230, [(2, 0.32706586), (8, 0.6729338)]), (232, [(2, 0.16860776), (8, 0.831391)]), (233, [(2, 0.506229), (8, 0.493771)]), (235, [(2, 0.06794591), (8, 0.93205404)]), (250, [(8, 0.99999666)]), (256, [(2, 0.16108075), (8, 0.83891916)]), (265, [(2, 0.09535521), (8, 0.90464425)]), (285, [(2, 0.13318847), (8, 0.86681014)]), (295, [(8, 0.99999964)]), (299, [(2, 0.28903115), (8, 0.71096873)]), (316, [(2, 0.24898545), (8, 1.7510135)]), (324, [(2, 0.08423064), (8, 0.91576904)]), (334, [(8, 0.99999654)]), (338, [(2, 0.23625153), (8, 0.7637475)]), (345, [(8, 0.9999993)]), (350, [(8, 5.999999)]), (356, [(2, 0.02957435), (8, 0.9704252)]), (358, [(2, 0.17152384), (8, 0.82847536)]), (362, [(2, 0.082083195), (8, 0.9179167)]), (385, [(8, 0.9999974)]), (388, [(2, 0.123706035), (8, 1.8762937)]), (398, [(2, 0.39411032), (8, 0.60588926)]), (409, [(2, 0.094592094), (8, 0.9054075)]), (412, [(2, 0.25914004), (8, 0.74085957)]), (423, [(2, 0.17527995), (8, 0.82471967)]), (447, [(2, 0.23081134), (8, 0.7691877)]), (478, [(2, 0.28316647), (8, 1.716833)]), (489, [(2, 0.0756791), (8, 0.92432076)]), (496, [(2, 0.22282614), (8, 0.77717346)]), (502, [(2, 0.247771), (8, 0.75222874)]), (540, [(2, 0.07719821), (8, 1.9227992)]), (575, [(8, 0.9999995)]), (580, [(8, 2.9999995)]), (615, [(8, 0.99998283)]), (616, [(2, 0.44058403), (8, 0.5594156)]), (617, [(2, 0.21524912), (8, 0.7847506)]), (618, [(8, 0.99999446)]), (619, [(8, 0.9999962)]), (620, [(8, 0.99999803)]), (621, [(8, 0.9999978)]), (622, [(8, 0.9999964)]), (623, [(8, 0.99999744)]), (624, [(8, 0.9999945)]), (625, [(8, 0.99999833)]), (626, [(2, 0.99993867)]), (627, [(2, 0.043937564), (8, 0.95606244)]), (628, [(2, 0.10447997), (8, 0.8955192)]), (629, [(2, 0.9999388)]), (630, [(2, 0.9998468)]), (631, [(2, 0.30452368), (8, 0.69547385)]), (632, [(8, 0.99999857)]), (633, [(8, 0.9999993)]), (634, [(2, 0.99998343)]), (635, [(2, 0.19252785), (8, 0.8074716)]), (636, [(2, 0.6235615), (8, 0.3764367)]), (637, [(8, 1.9999995)]), (638, [(8, 0.99999833)]), (639, [(2, 0.9998468)]), (640, [(2, 0.3061072), (8, 0.6938925)]), (641, [(2, 0.9999618)]), (642, [(2, 0.9998468)]), (643, [(8, 1.999994)]), (644, [(2, 0.9999751)]), (645, [(8, 0.99131995)]), (646, [(2, 0.16608177), (8, 0.83391696)]), (647, [(8, 0.99999046)]), (648, [(2, 0.502845), (8, 0.4971532)]), (649, [(8, 0.99999505)]), (650, [(2, 0.9998468)]), (651, [(2, 0.32770166), (8, 0.6722981)]), (652, [(2, 0.99993795)]), (653, [(2, 0.33315176), (8, 0.6668472)]), (654, [(2, 0.03117753), (8, 0.9688223)]), (655, [(8, 0.99999803)]), (656, [(2, 0.14961772), (8, 0.8503808)]), (657, [(2, 0.9998468)]), (658, [(2, 0.058313236), (8, 0.9416862)]), (659, [(2, 0.3789918), (8, 1.621008)]), (660, [(2, 0.9998468)]), (661, [(2, 0.9999386)]), (662, [(2, 0.9998468)]), (663, [(2, 0.061133657), (8, 0.938865)]), (664, [(2, 0.9999621)]), (665, [(2, 0.9998468)]), (666, [(2, 0.99984384)]), (667, [(2, 0.18526137), (8, 0.8147369)]), (668, [(2, 0.60030746), (8, 0.39968845)]), (669, [(2, 0.43387398), (8, 0.5661255)]), (670, [(8, 0.9999815)]), (671, [(2, 0.5314652), (8, 0.4685346)]), (672, [(2, 0.083078094), (8, 0.91692144)]), (673, [(2, 0.9998468)]), (674, [(2, 0.22464605), (8, 0.7753533)]), (675, [(8, 0.9999985)])]\n",
            "\n",
            "-------------- \n",
            "\n",
            "Document 3\n",
            "\n",
            "Document topics (what topics this document is associated with):\n",
            "[(8, 0.9940389)]\n",
            "\n",
            "Word topics (what topics words in this document are associated with):\n",
            "[(3, [8]), (7, [8]), (18, [8]), (43, [8]), (48, [8]), (59, [8]), (61, [8]), (62, [8]), (67, [8]), (72, [8]), (74, [8]), (86, [8]), (92, [8]), (103, [8]), (105, [8]), (124, [8]), (126, [8]), (132, [8]), (160, [8]), (163, [8]), (165, [8]), (172, [8]), (195, [8]), (196, [8]), (198, [8]), (199, [8]), (201, [8]), (202, [8]), (203, [8]), (210, [8]), (227, [8]), (244, [8]), (249, [8]), (257, [8]), (260, [8]), (270, [8]), (273, [8]), (279, [8]), (281, [8]), (296, [8]), (301, [8]), (309, [8]), (320, [8]), (336, [8]), (344, [8]), (362, [8]), (368, [8]), (370, [8]), (388, [8]), (412, [8]), (430, [8]), (431, [8]), (450, [8]), (458, [8]), (476, [8]), (484, [8]), (488, [8]), (535, [8]), (552, [8]), (575, [8]), (582, [8]), (614, [8]), (645, [8]), (654, [8]), (676, [8]), (677, [8]), (678, [8]), (679, [8]), (680, [8]), (681, [8]), (682, [8]), (683, [8]), (684, [8]), (685, [8]), (686, [8]), (687, [8]), (688, [8]), (689, [8]), (690, [8]), (691, [8]), (692, [8]), (693, [8]), (694, [8]), (695, [8]), (696, [8]), (697, [8]), (698, [8]), (699, [8]), (700, [8]), (701, [8]), (702, [8]), (703, [8]), (704, [8]), (705, [8]), (706, [8]), (707, [8]), (708, [8]), (709, [8]), (710, [8]), (711, [8]), (712, [8]), (713, [8]), (714, [8]), (715, [8]), (716, [8]), (717, [8]), (718, [8]), (719, [8]), (720, [8]), (721, [8]), (722, [8]), (723, [8]), (724, [8]), (725, [8]), (726, [8]), (727, [8]), (728, [8]), (729, [8]), (730, [8]), (731, [8]), (732, [8]), (733, [8]), (734, [8]), (735, [8]), (736, [8]), (737, [8]), (738, [8]), (739, [8]), (740, [8]), (741, [8]), (742, [8]), (743, [8]), (744, [8])]\n",
            "\n",
            "Phi values (probability of a word in this document being associated with a given topic):\n",
            "[(3, [(8, 0.99999475)]), (7, [(8, 0.9999988)]), (18, [(8, 0.99999875)]), (43, [(8, 0.99999994)]), (48, [(8, 0.9999993)]), (59, [(8, 1.9999986)]), (61, [(8, 1.9999993)]), (62, [(8, 0.9999975)]), (67, [(8, 1.9999999)]), (72, [(8, 2.9999986)]), (74, [(8, 0.99999875)]), (86, [(8, 0.99999857)]), (92, [(8, 0.9999995)]), (103, [(8, 0.9999991)]), (105, [(8, 1.9999994)]), (124, [(8, 0.99999934)]), (126, [(8, 0.9999994)]), (132, [(8, 1.0)]), (160, [(8, 0.99999976)]), (163, [(8, 1.9999982)]), (165, [(8, 0.99999976)]), (172, [(8, 0.999998)]), (195, [(8, 0.9999996)]), (196, [(8, 0.9999995)]), (198, [(8, 0.99999875)]), (199, [(8, 0.9999997)]), (201, [(8, 0.9999979)]), (202, [(8, 0.99999505)]), (203, [(8, 0.9999993)]), (210, [(8, 0.9999993)]), (227, [(8, 0.9999993)]), (244, [(8, 0.99999994)]), (249, [(8, 1.9999979)]), (257, [(8, 0.9999994)]), (260, [(8, 2.9999993)]), (270, [(8, 0.99999934)]), (273, [(8, 0.99999756)]), (279, [(8, 1.9999973)]), (281, [(8, 0.99999845)]), (296, [(8, 0.9999994)]), (301, [(8, 0.9999995)]), (309, [(8, 0.99999845)]), (320, [(8, 0.9999966)]), (336, [(8, 0.99999976)]), (344, [(8, 0.9999971)]), (362, [(8, 0.99999976)]), (368, [(8, 0.99999994)]), (370, [(8, 0.9999986)]), (388, [(8, 0.9999999)]), (412, [(8, 0.99999917)]), (430, [(8, 0.99999976)]), (431, [(8, 0.9999998)]), (450, [(8, 1.9999994)]), (458, [(8, 0.9999999)]), (476, [(8, 0.99999976)]), (484, [(8, 0.9999994)]), (488, [(8, 0.99999976)]), (535, [(8, 1.0)]), (552, [(8, 0.99999887)]), (575, [(8, 1.9999995)]), (582, [(8, 0.9999993)]), (614, [(8, 0.9999988)]), (645, [(8, 2.0)]), (654, [(8, 0.9999998)]), (676, [(8, 0.99999946)]), (677, [(8, 0.99999505)]), (678, [(8, 0.9999958)]), (679, [(8, 0.9999998)]), (680, [(8, 1.0)]), (681, [(8, 1.0)]), (682, [(8, 0.9999995)]), (683, [(8, 0.9999978)]), (684, [(8, 0.9999999)]), (685, [(8, 0.99999994)]), (686, [(8, 0.99999994)]), (687, [(8, 1.9999999)]), (688, [(8, 0.9999984)]), (689, [(8, 0.9999999)]), (690, [(8, 0.99999833)]), (691, [(8, 1.9999985)]), (692, [(8, 1.0)]), (693, [(8, 1.0)]), (694, [(8, 0.9999942)]), (695, [(8, 1.0)]), (696, [(8, 0.99999315)]), (697, [(8, 0.9999999)]), (698, [(8, 0.99999976)]), (699, [(8, 0.9999999)]), (700, [(8, 0.99999976)]), (701, [(8, 1.0)]), (702, [(8, 0.9999982)]), (703, [(8, 0.99999964)]), (704, [(8, 0.9999998)]), (705, [(8, 0.9999994)]), (706, [(8, 1.0)]), (707, [(8, 1.0)]), (708, [(8, 0.9999988)]), (709, [(8, 0.99999976)]), (710, [(8, 1.0)]), (711, [(8, 0.9999997)]), (712, [(8, 0.9999971)]), (713, [(8, 0.9999987)]), (714, [(8, 0.9999926)]), (715, [(8, 0.99999917)]), (716, [(8, 1.0)]), (717, [(8, 0.9999981)]), (718, [(8, 0.9999998)]), (719, [(8, 0.99999994)]), (720, [(8, 1.999998)]), (721, [(8, 1.0)]), (722, [(8, 0.9999999)]), (723, [(8, 0.99999994)]), (724, [(8, 0.99999994)]), (725, [(8, 0.99999917)]), (726, [(8, 0.9999974)]), (727, [(8, 0.99999994)]), (728, [(8, 1.0)]), (729, [(8, 1.0)]), (730, [(8, 0.99999887)]), (731, [(8, 0.9999956)]), (732, [(8, 0.9999996)]), (733, [(8, 0.99999994)]), (734, [(8, 1.0)]), (735, [(8, 0.999999)]), (736, [(8, 0.99999994)]), (737, [(8, 0.9999989)]), (738, [(8, 0.9999996)]), (739, [(8, 1.0)]), (740, [(8, 0.99999994)]), (741, [(8, 0.99999875)]), (742, [(8, 0.99999887)]), (743, [(8, 0.99999946)]), (744, [(8, 1.0)])]\n",
            "\n",
            "-------------- \n",
            "\n",
            "Document 4\n",
            "\n",
            "Document topics (what topics this document is associated with):\n",
            "[(1, 0.19314617), (8, 0.80148363)]\n",
            "\n",
            "Word topics (what topics words in this document are associated with):\n",
            "[(3, [8, 1]), (7, [8, 1]), (53, [8]), (59, [8, 1]), (61, [8]), (63, [8]), (67, [8, 1]), (69, [8]), (72, [8, 1]), (95, [8]), (111, [8, 1]), (124, [8, 1]), (126, [8]), (132, [8]), (139, [8]), (145, [8]), (146, [8]), (150, [8, 1]), (165, [8]), (172, [8, 1]), (175, [8]), (195, [8, 1]), (203, [8, 1]), (214, [8, 1]), (231, [8]), (235, [8]), (252, [8]), (257, [8]), (275, [8]), (284, [8, 1]), (296, [8, 1]), (309, [8]), (316, [8, 1]), (323, [8]), (325, [8, 1]), (344, [8, 1]), (345, [8]), (347, [8, 1]), (351, [8, 1]), (356, [8]), (426, [8, 1]), (431, [8]), (481, [8]), (505, [8]), (529, [8, 1]), (538, [8]), (564, [8]), (569, [8, 1]), (587, [8, 1]), (625, [8]), (659, [8]), (679, [8]), (686, [8]), (687, [8]), (697, [8]), (711, [8]), (718, [8, 1]), (745, [8, 1]), (746, [8]), (747, [8]), (748, [8, 1]), (749, [8]), (750, [1]), (751, [8]), (752, [8, 1]), (753, [1]), (754, [8]), (755, [8]), (756, [8]), (757, [1]), (758, [1]), (759, [8]), (760, [1]), (761, [8]), (762, [1]), (763, [1]), (764, [8]), (765, [8]), (766, [8, 1]), (767, [8]), (768, [1]), (769, [8]), (770, [8, 1]), (771, [8]), (772, [1]), (773, [8]), (774, [8]), (775, [8, 1]), (776, [8, 1]), (777, [8]), (778, [8]), (779, [8]), (780, [8]), (781, [8]), (782, [8]), (783, [1]), (784, [8]), (785, [8]), (786, [1]), (787, [8]), (788, [8]), (789, [1]), (790, [1]), (791, [1]), (792, [8]), (793, [8]), (794, [8]), (795, [8, 1]), (796, [1]), (797, [8]), (798, [8]), (799, [1]), (800, [8]), (801, [1]), (802, [1]), (803, [8]), (804, [1]), (805, [8]), (806, [1]), (807, [8]), (808, [8]), (809, [1]), (810, [1]), (811, [8]), (812, [1]), (813, [8, 1]), (814, [8]), (815, [8]), (816, [8, 1]), (817, [8])]\n",
            "\n",
            "Phi values (probability of a word in this document being associated with a given topic):\n",
            "[(3, [(1, 0.4107323), (8, 0.5892642)]), (7, [(1, 0.47559398), (8, 0.5244056)]), (53, [(8, 0.999999)]), (59, [(1, 0.01733397), (8, 0.9826652)]), (61, [(8, 0.9950215)]), (63, [(8, 0.9999986)]), (67, [(1, 0.01612317), (8, 0.98387676)]), (69, [(8, 0.9999981)]), (72, [(1, 0.056704026), (8, 2.9432948)]), (95, [(8, 0.9999978)]), (111, [(1, 0.13187386), (8, 0.8681257)]), (124, [(1, 0.11701989), (8, 1.8829788)]), (126, [(8, 0.9999983)]), (132, [(8, 3.999996)]), (139, [(8, 0.9999991)]), (145, [(8, 0.9999985)]), (146, [(8, 0.99999845)]), (150, [(1, 0.20660469), (8, 0.79339486)]), (165, [(8, 0.9999974)]), (172, [(1, 0.3158308), (8, 0.68416786)]), (175, [(8, 0.9999995)]), (195, [(1, 0.017940765), (8, 0.98205876)]), (203, [(1, 0.16680393), (8, 0.8331955)]), (214, [(1, 0.057284467), (8, 0.9427144)]), (231, [(8, 1.9999975)]), (235, [(8, 1.9999988)]), (252, [(8, 0.9999971)]), (257, [(8, 0.9999972)]), (275, [(8, 0.9999967)]), (284, [(1, 0.014131685), (8, 0.98586756)]), (296, [(1, 0.18982473), (8, 0.81017476)]), (309, [(8, 0.999997)]), (316, [(1, 0.07059911), (8, 0.92940027)]), (323, [(8, 1.9999998)]), (325, [(1, 0.055612452), (8, 0.94438726)]), (344, [(1, 0.23709469), (8, 1.7628992)]), (345, [(8, 0.99999744)]), (347, [(1, 0.06748426), (8, 0.9325149)]), (351, [(1, 0.06723332), (8, 0.9327662)]), (356, [(8, 0.9999757)]), (426, [(1, 0.118523575), (8, 0.8814747)]), (431, [(8, 0.99999654)]), (481, [(8, 0.9999889)]), (505, [(8, 0.99999124)]), (529, [(1, 0.24912785), (8, 1.7508712)]), (538, [(8, 0.99999774)]), (564, [(8, 1.9999804)]), (569, [(1, 0.13007265), (8, 0.86992645)]), (587, [(1, 0.038627263), (8, 0.9613718)]), (625, [(8, 0.9999929)]), (659, [(8, 0.9999972)]), (679, [(8, 0.99999875)]), (686, [(8, 0.99999917)]), (687, [(8, 2.9999995)]), (697, [(8, 0.9999969)]), (711, [(8, 0.9999952)]), (718, [(1, 0.01314123), (8, 0.98685855)]), (745, [(1, 0.041819606), (8, 0.9581794)]), (746, [(8, 1.9999769)]), (747, [(8, 0.9999924)]), (748, [(1, 0.20843902), (8, 0.7915594)]), (749, [(8, 0.9999763)]), (750, [(1, 0.99998456)]), (751, [(8, 0.9999847)]), (752, [(1, 0.24253844), (8, 0.7574603)]), (753, [(1, 0.99996597)]), (754, [(8, 0.9999848)]), (755, [(8, 0.99999106)]), (756, [(8, 0.9999371)]), (757, [(1, 0.9999641)]), (758, [(1, 0.9999853)]), (759, [(8, 0.99998957)]), (760, [(1, 0.99998987)]), (761, [(8, 0.999994)]), (762, [(1, 0.999966)]), (763, [(1, 0.9999602)]), (764, [(8, 1.9999839)]), (765, [(8, 1.9999775)]), (766, [(1, 0.01409132), (8, 0.9859076)]), (767, [(8, 0.9999753)]), (768, [(1, 0.9999661)]), (769, [(8, 0.9999938)]), (770, [(1, 0.16271923), (8, 0.8372804)]), (771, [(8, 0.99999696)]), (772, [(1, 0.999966)]), (773, [(8, 0.99999446)]), (774, [(8, 0.9999889)]), (775, [(1, 0.15170197), (8, 0.8482968)]), (776, [(1, 0.12821792), (8, 0.87177604)]), (777, [(8, 0.9999754)]), (778, [(8, 0.9999813)]), (779, [(8, 0.99224)]), (780, [(8, 0.9999373)]), (781, [(8, 0.99996895)]), (782, [(8, 0.99998873)]), (783, [(1, 0.99997926)]), (784, [(8, 0.99997544)]), (785, [(8, 0.99181443)]), (786, [(1, 0.9999661)]), (787, [(8, 0.99998367)]), (788, [(8, 0.999938)]), (789, [(1, 0.99996567)]), (790, [(1, 0.99996525)]), (791, [(1, 0.99993247)]), (792, [(8, 0.99998885)]), (793, [(8, 0.999994)]), (794, [(8, 0.9999961)]), (795, [(1, 0.02466824), (8, 0.9753318)]), (796, [(1, 0.9999659)]), (797, [(8, 0.9999846)]), (798, [(8, 0.9999988)]), (799, [(1, 0.9999935)]), (800, [(8, 0.99999475)]), (801, [(1, 0.99996597)]), (802, [(1, 0.99996597)]), (803, [(8, 0.9999746)]), (804, [(1, 0.99996257)]), (805, [(8, 0.9999951)]), (806, [(1, 0.99996597)]), (807, [(8, 0.999993)]), (808, [(8, 0.9999978)]), (809, [(1, 0.99996597)]), (810, [(1, 0.9999661)]), (811, [(8, 0.9999987)]), (812, [(1, 1.9999707)]), (813, [(1, 0.27217624), (8, 0.7278228)]), (814, [(8, 0.9999745)]), (815, [(8, 0.99996674)]), (816, [(1, 0.17062347), (8, 0.8293762)]), (817, [(8, 0.9999843)])]\n",
            "\n",
            "-------------- \n",
            "\n"
          ]
        }
      ]
    },
    {
      "cell_type": "markdown",
      "metadata": {
        "id": "_MZ3yfFY4f_n"
      },
      "source": [
        "We can also Write out the topics and their top n words (here, n=25) to a file with the following code (**Note: this doesn't work in Google Colab**):"
      ]
    },
    {
      "cell_type": "code",
      "metadata": {
        "id": "5FjHRowD4f_n"
      },
      "source": [
        "# DOESN'T WORK FOR COLAB, SADLY!\n",
        "topics = ldamodel.show_topics(num_topics=5, num_words=25)\n",
        "\n",
        "with open('asoiaf_topics_5.tsv', 'a') as f:\n",
        "    for topic in topics:\n",
        "        topic_num = topic[0]\n",
        "        topic_words = topic[1]\n",
        "        f.write(f\"{topic_num} + '\\t' + {topic_words} + '\\n'\")"
      ],
      "execution_count": 38,
      "outputs": []
    },
    {
      "cell_type": "markdown",
      "metadata": {
        "id": "7iir2OXJ4f_o"
      },
      "source": [
        "Now, with our topic modeling results, the fun begins--interpreting what we see. For this set of books, *A Game of Thrones*, *A Clash of Kings* and *A Storm of Swords*, the results *seem* to make sense, as we see the clustering of characters that interact with each other heavily, as well as thematic elements for those characters and their narrative arcs.\n",
        "\n",
        "We can use another library called `pyLDAvis` to better visualize our topics, and see if they still make sense:"
      ]
    },
    {
      "cell_type": "code",
      "metadata": {
        "id": "lJpQQLnD4f_o",
        "colab": {
          "base_uri": "https://localhost:8080/",
          "height": 951
        },
        "outputId": "a9947528-2162-44d9-b047-b6797df00fc2"
      },
      "source": [
        "# load the dictionary, corpus, and LDA model we created earlier:\n",
        "dictionary = gensim.corpora.Dictionary.load('dictionary.gensim')\n",
        "corpus = pickle.load(open('corpus.pkl', 'rb'))\n",
        "\n",
        "# If you generate a new model and change the number of topics, you may need to change the file name for the model (here, model5.gensim)\n",
        "lda = gensim.models.ldamodel.LdaModel.load('model10.gensim')\n",
        "\n",
        "# import pyLDAvis and ready it for use in a notebook:\n",
        "import pyLDAvis\n",
        "import pyLDAvis.gensim_models as gensimvis\n",
        "pyLDAvis.enable_notebook()\n",
        "\n",
        "# feed pyLDAvis the pieces generated from Gensim and create the visualization:\n",
        "lda_display = gensimvis.prepare(lda, corpus, dictionary, sort_topics=False)\n",
        "pyLDAvis.display(lda_display)"
      ],
      "execution_count": 39,
      "outputs": [
        {
          "output_type": "stream",
          "name": "stderr",
          "text": [
            "/usr/local/lib/python3.7/dist-packages/past/types/oldstr.py:5: DeprecationWarning: Using or importing the ABCs from 'collections' instead of from 'collections.abc' is deprecated since Python 3.3,and in 3.9 it will stop working\n",
            "  from collections import Iterable\n",
            "/usr/local/lib/python3.7/dist-packages/pyLDAvis/_prepare.py:247: FutureWarning: In a future version of pandas all arguments of DataFrame.drop except for the argument 'labels' will be keyword-only\n",
            "  by='saliency', ascending=False).head(R).drop('saliency', 1)\n"
          ]
        },
        {
          "output_type": "execute_result",
          "data": {
            "text/html": [
              "\n",
              "<link rel=\"stylesheet\" type=\"text/css\" href=\"https://cdn.jsdelivr.net/gh/bmabey/pyLDAvis@3.3.1/pyLDAvis/js/ldavis.v1.0.0.css\">\n",
              "\n",
              "\n",
              "<div id=\"ldavis_el327140046023131216294464938\"></div>\n",
              "<script type=\"text/javascript\">\n",
              "\n",
              "var ldavis_el327140046023131216294464938_data = {\"mdsDat\": {\"x\": [0.09633153199537955, 0.11674869153932382, -0.1834638484097907, -0.03653620479401899, -0.06857700832650807, 0.13697183848135158, -0.08025337262357425, 0.13709655746845348, -0.18409718087199725, 0.06577899554138085], \"y\": [-0.17006308341939408, 0.09916464169288844, -0.03729457306957125, 0.1286833202831682, 0.0648311089899319, -0.05395582849282804, 0.0701889980447503, 0.061716755510523955, -0.08969408808653578, -0.0735772514529333], \"topics\": [1, 2, 3, 4, 5, 6, 7, 8, 9, 10], \"cluster\": [1, 1, 1, 1, 1, 1, 1, 1, 1, 1], \"Freq\": [20.83922503556743, 3.237939362408588, 21.189060331503924, 3.0522160085849457, 5.54467267872836, 5.377108033353189, 4.6672823277559266, 3.253299910767862, 24.53463655066259, 8.304559760667182]}, \"tinfo\": {\"Term\": [\"vader\", \"shryne\", \"montag\", \"johnny\", \"jedi\", \"darry\", \"dally\", \"soda\", \"starstone\", \"palpatine\", \"jula\", \"sidious\", \"man\", \"commander\", \"bail\", \"climber\", \"salvo\", \"troopers\", \"filli\", \"beatty\", \"like\", \"cudgel\", \"ship\", \"wookiees\", \"mildred\", \"lord\", \"chatak\", \"murkhana\", \"house\", \"emperor\", \"vader\", \"bail\", \"anakin\", \"sidious\", \"zar\", \"palpatine\", \"organa\", \"darth\", \"emperor\", \"padme\", \"mon\", \"mothma\", \"fang\", \"apprentice\", \"antilles\", \"skywalker\", \"pestage\", \"leia\", \"sith\", \"holoprojector\", \"advisers\", \"grievous\", \"masters\", \"crimson\", \"galaxy\", \"events\", \"breha\", \"holoimage\", \"senate\", \"senator\", \"lord\", \"coruscant\", \"temple\", \"jedi\", \"order\", \"force\", \"forte\", \"master\", \"power\", \"lightsaber\", \"shryne\", \"palace\", \"war\", \"troopers\", \"moment\", \"starstone\", \"perhaps\", \"side\", \"dark\", \"one\", \"even\", \"might\", \"two\", \"us\", \"know\", \"skiff\", \"del\", \"rey\", \"tarfful\", \"pod\", \"centered\", \"blunt\", \"numbered\", \"tubes\", \"implanted\", \"spiraling\", \"chuckled\", \"wolfe\", \"gossams\", \"stacks\", \"baldric\", \"debate\", \"johnson\", \"lachichuk\", \"chieftain\", \"activate\", \"proton\", \"midlevel\", \"sorosuub\", \"celana\", \"boxcar\", \"loadlifters\", \"projector\", \"sunburnt\", \"outrun\", \"neatly\", \"cudgel\", \"blackened\", \"chewbacca\", \"interceptor\", \"cloakshape\", \"librarian\", \"disable\", \"sadly\", \"pilots\", \"whistle\", \"cannons\", \"filli\", \"brain\", \"gayn\", \"interdictor\", \"wookiees\", \"kachirho\", \"vos\", \"unduli\", \"destroyer\", \"starstone\", \"droids\", \"moments\", \"kashyyyk\", \"hatch\", \"smaller\", \"cruiser\", \"returned\", \"planet\", \"control\", \"side\", \"star\", \"transport\", \"asked\", \"long\", \"droid\", \"power\", \"everyone\", \"ca\", \"toward\", \"ship\", \"well\", \"way\", \"thought\", \"back\", \"without\", \"john\", \"beatty\", \"millie\", \"senor\", \"burnt\", \"webb\", \"esposa\", \"faber\", \"hotel\", \"kerosene\", \"parlor\", \"firemen\", \"damn\", \"salamander\", \"fireman\", \"sefior\", \"bowles\", \"emptiness\", \"montag\", \"mcclellan\", \"whisper\", \"rain\", \"shout\", \"flower\", \"border\", \"thrower\", \"stoneman\", \"poetry\", \"ecclesiastes\", \"candle\", \"burn\", \"silly\", \"firehouse\", \"leonora\", \"books\", \"mildred\", \"book\", \"men\", \"god\", \"walls\", \"hour\", \"lawn\", \"single\", \"wife\", \"door\", \"man\", \"house\", \"night\", \"great\", \"fire\", \"stood\", \"away\", \"people\", \"old\", \"like\", \"go\", \"back\", \"last\", \"looking\", \"let\", \"one\", \"world\", \"car\", \"know\", \"nothing\", \"way\", \"well\", \"face\", \"long\", \"time\", \"think\", \"see\", \"prophecy\", \"helicopter\", \"critics\", \"cameras\", \"icy\", \"bushes\", \"viewer\", \"portable\", \"represent\", \"rarity\", \"montags\", \"doorknob\", \"leaden\", \"sniffing\", \"bats\", \"threshold\", \"terrace\", \"throbbing\", \"familiarity\", \"firelight\", \"bloodlust\", \"onny\", \"pump\", \"suspended\", \"togruta\", \"gum\", \"torches\", \"hops\", \"exhausted\", \"audience\", \"sieve\", \"daddy\", \"leg\", \"camera\", \"sheep\", \"porches\", \"alley\", \"mechanical\", \"slide\", \"terror\", \"glow\", \"state\", \"hound\", \"running\", \"incinerator\", \"elm\", \"sand\", \"police\", \"children\", \"carried\", \"seats\", \"pressure\", \"hung\", \"flat\", \"face\", \"street\", \"hands\", \"montag\", \"house\", \"boy\", \"hand\", \"thought\", \"river\", \"wall\", \"felt\", \"wind\", \"man\", \"everyone\", \"like\", \"looked\", \"away\", \"far\", \"across\", \"fell\", \"look\", \"right\", \"time\", \"never\", \"playground\", \"carol\", \"underhill\", \"marshall\", \"charlie\", \"tommy\", \"jim\", \"leisure\", \"strangely\", \"europe\", \"pores\", \"psychiatrist\", \"slashing\", \"square\", \"meadow\", \"frightening\", \"random\", \"numbers\", \"insanity\", \"patients\", \"glare\", \"tutor\", \"tightly\", \"chill\", \"j\", \"charles\", \"united\", \"states\", \"dim\", \"iodine\", \"boy\", \"fence\", \"children\", \"sister\", \"tom\", \"son\", \"instant\", \"legs\", \"dancing\", \"steel\", \"hello\", \"rushed\", \"childhood\", \"dust\", \"time\", \"waving\", \"beetle\", \"right\", \"day\", \"light\", \"sun\", \"left\", \"eyes\", \"see\", \"high\", \"like\", \"one\", \"know\", \"saw\", \"thought\", \"mean\", \"way\", \"think\", \"two\", \"back\", \"look\", \"hand\", \"away\", \"go\", \"corporate\", \"medcenter\", \"stairway\", \"shoreline\", \"platoon\", \"shield\", \"beetles\", \"loorne\", \"mercenaries\", \"detonators\", \"packing\", \"jen\", \"plummeting\", \"alliance\", \"salvo\", \"plato\", \"syndicates\", \"minimum\", \"ecds\", \"colt\", \"aerosols\", \"seeker\", \"commandos\", \"commenced\", \"warehouse\", \"prisoner\", \"detonated\", \"launching\", \"gunship\", \"platoons\", \"bridges\", \"towering\", \"mercenary\", \"commander\", \"positions\", \"hills\", \"cash\", \"share\", \"murkhana\", \"generator\", \"chatak\", \"climber\", \"shryne\", \"weapons\", \"padawan\", \"bay\", \"city\", \"troopers\", \"landing\", \"building\", \"garrulan\", \"starstone\", \"battle\", \"platform\", \"republic\", \"separatist\", \"jedi\", \"helmet\", \"head\", \"war\", \"three\", \"take\", \"droids\", \"way\", \"see\", \"going\", \"two\", \"script\", \"moff\", \"dollars\", \"operator\", \"phoenix\", \"helen\", \"flush\", \"letter\", \"bus\", \"snake\", \"toaster\", \"toast\", \"rat\", \"rats\", \"doorknobs\", \"arabian\", \"newspapers\", \"lady\", \"reluctantly\", \"louis\", \"camps\", \"downstream\", \"caesarians\", \"frying\", \"fourth\", \"uncle\", \"michigan\", \"amino\", \"acids\", \"dislike\", \"papers\", \"jets\", \"wad\", \"machine\", \"tarkin\", \"bottom\", \"humming\", \"hound\", \"hungry\", \"man\", \"lips\", \"last\", \"week\", \"sometimes\", \"perfect\", \"paper\", \"two\", \"goodbye\", \"fire\", \"mildred\", \"like\", \"long\", \"nothing\", \"around\", \"night\", \"turned\", \"right\", \"montag\", \"go\", \"know\", \"three\", \"people\", \"see\", \"back\", \"one\", \"let\", \"get\", \"time\", \"world\", \"say\", \"thought\", \"canopy\", \"technology\", \"hyperdrive\", \"crisscrossed\", \"booster\", \"shells\", \"picasso\", \"strips\", \"punctured\", \"glide\", \"females\", \"flattening\", \"starboard\", \"tail\", \"copilot\", \"lake\", \"bulkhead\", \"useful\", \"rendered\", \"slipping\", \"suits\", \"magnetic\", \"plastoid\", \"playroom\", \"spaces\", \"humbled\", \"terrain\", \"eagerness\", \"retrofitted\", \"verge\", \"artillery\", \"gunships\", \"turbolaser\", \"beams\", \"tipped\", \"kachirho\", \"cargo\", \"ships\", \"insects\", \"wookiee\", \"setting\", \"wookiees\", \"sheer\", \"cliffs\", \"shore\", \"ship\", \"bay\", \"ring\", \"drop\", \"starstone\", \"atmosphere\", \"chewbacca\", \"beach\", \"landing\", \"platform\", \"docking\", \"bolts\", \"filli\", \"limbs\", \"cudgel\", \"droids\", \"troopers\", \"imperial\", \"one\", \"ground\", \"high\", \"nam\", \"shryne\", \"craft\", \"jedi\", \"many\", \"time\", \"transport\", \"without\", \"much\", \"made\", \"johnny\", \"darry\", \"dally\", \"soda\", \"socs\", \"steve\", \"ponyboy\", \"cherry\", \"sodapop\", \"ai\", \"dallas\", \"gang\", \"soc\", \"shepard\", \"randy\", \"greasers\", \"tim\", \"greaser\", \"buddy\", \"tough\", \"dad\", \"marcia\", \"yeah\", \"pony\", \"scared\", \"girls\", \"guys\", \"mom\", \"tuff\", \"jeans\", \"okay\", \"bob\", \"kid\", \"na\", \"gon\", \"got\", \"hair\", \"lot\", \"get\", \"like\", \"maybe\", \"us\", \"boys\", \"anything\", \"looked\", \"hard\", \"never\", \"thought\", \"mean\", \"know\", \"one\", \"back\", \"good\", \"time\", \"see\", \"went\", \"something\", \"even\", \"knew\", \"look\", \"think\", \"around\", \"tell\", \"eyes\", \"little\", \"nullip\", \"dix\", \"ugan\", \"skeck\", \"paul\", \"swiveled\", \"brudi\", \"eyl\", \"ras\", \"updated\", \"frequency\", \"firm\", \"exit\", \"thermal\", \"helmeted\", \"antennae\", \"cannon\", \"arcs\", \"slicer\", \"recording\", \"readings\", \"squadron\", \"ensign\", \"tool\", \"portal\", \"guessing\", \"luma\", \"darrel\", \"sweeping\", \"intelligence\", \"jula\", \"archyr\", \"bitters\", \"mossak\", \"climber\", \"captive\", \"filli\", \"roan\", \"team\", \"lilies\", \"denham\", \"dancer\", \"sir\", \"shryne\", \"gate\", \"transport\", \"ship\", \"host\", \"commando\", \"starstone\", \"comlink\", \"communications\", \"drop\", \"drunk\", \"cabin\", \"ion\", \"one\", \"nodded\", \"going\", \"behind\", \"us\", \"jedi\", \"still\", \"arm\", \"get\", \"way\", \"hand\", \"back\", \"eyes\", \"took\", \"turned\", \"looked\", \"see\", \"time\"], \"Freq\": [520.0, 492.0, 425.0, 379.0, 387.0, 267.0, 237.0, 224.0, 222.0, 147.0, 99.0, 130.0, 203.0, 89.0, 116.0, 85.0, 66.0, 114.0, 78.0, 110.0, 599.0, 64.0, 82.0, 67.0, 95.0, 116.0, 80.0, 64.0, 116.0, 90.0, 516.9448090427948, 115.71183938984667, 79.98066671746645, 128.8675336141765, 56.49236240417651, 145.46003398080634, 43.332808376336146, 37.690393919079526, 88.17287443979173, 29.23338556930105, 28.293457170715712, 28.293452754464557, 28.2933776781949, 26.413200702815406, 24.531466998903337, 22.65247357883371, 20.7735088643966, 19.833662166457657, 65.38606512516219, 16.0733247766405, 16.073118316898945, 15.13314465173926, 15.115588949330451, 15.113019795220314, 33.8312925924672, 13.253691941549386, 13.253583743396058, 13.253084707015404, 29.09052867689928, 38.47209245498824, 109.12533642541555, 60.31166889162004, 66.80419844769771, 317.1276745081009, 77.58964651396664, 105.26139047128484, 34.73505410220858, 86.52510047338332, 69.84896955860792, 55.02795560202599, 228.5922965084011, 34.75993967747394, 70.58518954010978, 64.91490412180619, 65.6902255910453, 89.84237636188878, 51.20531926121067, 64.4781368824549, 61.05982158374603, 120.80876733678792, 75.30138364237001, 58.140092208073355, 59.09696134609399, 59.98447767595717, 58.70694895773374, 4.2918525327524595, 3.5855882037949187, 3.585438615571391, 7.68138478407904, 2.858425267806121, 2.1812035267556995, 2.1811762509213635, 2.1810554824473227, 1.4775923302122396, 1.4775923302122396, 1.477589928566449, 1.477589928566449, 1.477589928566449, 1.4775890708358095, 1.4775895854741932, 1.4775892423819375, 1.4775890708358095, 1.4775887277435538, 1.477586497643891, 1.4775851252748677, 1.477583409813589, 1.47758169435231, 1.4775806650755425, 1.4775794642526472, 1.4775786065220078, 1.4775774056991124, 1.477574832507194, 1.4775755186917054, 1.477574489414938, 1.4775674560236942, 2.8846294534810286, 33.14842645463869, 2.884439037279061, 14.657893390467496, 3.3336016948787486, 5.969246010497322, 2.1812028405711876, 2.181130105012959, 2.1811184398762617, 3.4866204978721207, 2.8848119785611126, 3.5884166563517126, 18.254967293709743, 4.995693601107304, 4.652574927206236, 3.2332585321024587, 12.841457315861422, 7.146824405457852, 2.108826328387837, 2.108825985295581, 5.898643799914828, 22.601622295572973, 10.23397950207479, 3.8623634712847053, 8.368188234103242, 4.332091421789143, 2.8846771433045846, 3.369045183456152, 4.7302729718231316, 3.836217096654899, 4.9381964854195015, 6.902313533703251, 4.5913247253322655, 5.460660803470297, 6.194514896177783, 6.531727236895301, 4.563981301821983, 5.089561240647674, 4.927073091394295, 5.261746549418911, 4.848830216275193, 4.842891975511852, 5.060628956900794, 4.940672925321847, 4.93923262403201, 4.8298705951275736, 4.573704193259024, 30.68305896901463, 108.22592871790087, 26.850867299421072, 25.90538461107076, 24.822473588934535, 45.975698228356855, 21.12568733319974, 80.16859960758511, 16.345780129675898, 15.389747274025146, 33.876721913366445, 25.737718002502476, 30.060626040618356, 10.61020491455032, 24.704205742005815, 9.654428011032413, 9.652989964180758, 9.65153732356714, 393.6082909739649, 8.694838206553033, 16.336262751683435, 22.207637412240715, 7.708414402917863, 7.708050681465922, 6.7870198412806, 6.7869839181742355, 6.786987285965457, 6.786955291948852, 6.783533616067627, 6.782422244964473, 35.56427270027775, 21.94916168117112, 19.242721583247675, 13.476579172397077, 92.74645562755073, 82.92145909451402, 82.88350633263985, 68.20754332389899, 51.27926441153639, 31.76643474633945, 44.72345017320639, 15.83201347543534, 30.130487501720832, 38.47721677513786, 88.41530548171832, 128.5977966063701, 79.26363369282574, 97.75574421378009, 52.76745991967758, 62.24376882078669, 73.93502012373351, 86.86860919486246, 71.58414019702403, 69.70559523434895, 182.4013327982611, 92.1348737224707, 133.62022406875232, 68.29147317153148, 55.132390271363896, 75.76912371344733, 142.47515303752047, 64.22088678732612, 54.9750784982052, 98.674163331873, 61.64119912501587, 77.73799732707609, 70.80506231813094, 64.08365154023691, 66.99001046066157, 72.34291254004454, 64.3492265752018, 63.852095686999256, 2.762606116044336, 4.784719687708593, 2.0890974163893197, 2.0890954759113334, 2.0890933737268482, 2.089035644506759, 1.4151978721265834, 1.415197225300588, 1.4151967401810914, 1.4151969018875903, 1.415196093355096, 1.4151957699420983, 1.4151910804536316, 1.4151894633886433, 1.4151878463236547, 1.4151884931496501, 1.4151868760846615, 1.4151847739001766, 1.4151804078247077, 1.4151795992922134, 1.4151802461182088, 1.4151797609987122, 1.4151786290532202, 1.415176688575234, 1.415174586390749, 1.4151763651622364, 1.4151438621559675, 1.4150466765501588, 1.4147046673050914, 2.763007794987479, 4.110759665215287, 2.763003267205511, 7.483404841822582, 4.110828228770799, 2.089092403487855, 2.0890943439658414, 7.26695228437415, 4.209743447291243, 5.216594408794786, 2.7540783621209917, 2.760892027156528, 2.6632919675912303, 8.459128272536526, 10.60364557850516, 2.0890877139993886, 2.0891029144102804, 3.3755067348109407, 5.83589504737287, 6.426665808358878, 5.026538173392605, 2.060828856499386, 2.0646003371720605, 4.6578557647529415, 3.754117275653987, 10.435904839944254, 6.420973739599364, 8.676613164273617, 14.63754679164312, 8.464661222101173, 6.619552554316927, 9.424657078736983, 11.117363192789227, 5.287265646813121, 5.994135852539346, 7.877046971972712, 5.509002772643965, 7.911910246298739, 5.720482531839767, 9.646970526529728, 7.709325638191668, 6.641851880508319, 5.520959351168921, 5.601281556451611, 5.229257644719716, 5.711061511216776, 5.5585224771997455, 5.468500469290047, 5.328962314367544, 36.0581086154651, 10.351682851251168, 29.734525373777984, 8.77081230392542, 14.468466503129243, 6.401563368964708, 32.78014787885484, 3.2404180133684233, 3.2403175484981657, 2.4500830576973414, 2.4500779169510563, 2.450070132392396, 2.450069985513931, 2.4500693980000694, 2.4500683698508126, 2.4500617603198744, 2.4500547101535406, 2.4500526538550265, 2.4499417606137333, 2.4498581867669835, 2.447543235275557, 2.4446288727672845, 2.4110747811288498, 2.410915564872476, 4.756969893230079, 4.030748709564012, 4.02075451127186, 4.015035945104281, 3.2404221259654515, 1.6597348829643837, 36.173073327816425, 7.170106701133126, 18.71106742340195, 7.8872343452561955, 4.027998263423003, 9.036289842311277, 6.943544905882629, 10.52906386118416, 4.030769272549152, 5.611490003840307, 6.280704130044387, 6.598710695242487, 3.3344313939170074, 8.077540660134655, 36.98098008868241, 5.0500705708259845, 6.814816506305962, 21.401343919834833, 14.96259856113904, 13.15306761905074, 9.266679877881076, 14.032366714269152, 16.903143919237774, 17.400797535331353, 10.206174468285978, 23.334262172988016, 22.382957378946124, 18.428342828107947, 11.748180973696149, 15.434439168228797, 11.288919038373779, 13.541874892143086, 12.798588780865835, 13.081880914549714, 14.117097963325307, 12.444786758648982, 11.534887591486036, 10.831310367056707, 10.30556653823346, 8.058534881993342, 5.666972165063742, 4.865899408172206, 4.858318198897576, 6.151414628361271, 10.118171563243658, 4.070290352343277, 4.022621490629625, 11.259260359609042, 3.951588818746119, 3.2726184851376163, 3.2725979738243827, 3.271189245436323, 7.953636037805663, 51.82763074930115, 2.4744067715628204, 2.4744036378899654, 2.474392527595297, 2.4743740104375167, 2.4743725860407646, 2.474201088671783, 2.4739461216531153, 11.891846352495149, 2.4737170786553397, 2.4730293799033123, 2.465509704568384, 2.4621766161679197, 3.0359116630758423, 9.876474224720402, 2.3910815557066614, 7.781774593014601, 4.052326430261526, 5.761260962722626, 48.31106181485743, 4.070495465475613, 6.457956774396539, 9.684961232575423, 4.05411034475415, 29.79419575095395, 8.844723262581676, 29.282960384744992, 30.283192295548044, 91.91848751125778, 13.338716667030052, 12.169383792341964, 11.104677986941208, 16.537273643029998, 26.82817553308364, 17.582552955763703, 12.502522844295536, 13.644532370721628, 30.951425811316795, 13.569944119664942, 14.308571322934101, 14.620417352716364, 10.946450298104798, 25.63094841191522, 9.492882470040415, 17.36061370947144, 14.109420145644398, 13.850933157722016, 13.030906807885206, 10.692456427297982, 12.786145307068328, 12.62557135190147, 12.276613519375164, 11.221488776289316, 4.587631781908598, 3.8355600818638393, 3.8355492018622868, 3.8351347727122405, 3.831624983120499, 3.0834972836385317, 3.083426069082915, 3.0833627672557005, 6.091566978332044, 5.339628805579066, 2.3314223690478593, 2.3314221217750966, 2.3314198963202335, 2.3314194017747085, 2.331418165410896, 2.331409016318681, 2.331386267224526, 2.331385030860713, 2.3313484344918547, 2.3312994744848683, 2.3312974963027675, 2.3312707908444117, 2.328849001407923, 2.327099546612829, 4.587639694637001, 15.116526782519704, 2.1513870269939326, 1.5793535126398692, 1.5793535126398692, 1.5793532653671067, 3.0834668690887375, 4.5737192271960625, 3.0834287890833036, 11.494880883907799, 13.74949810745043, 6.694273071608411, 3.83558431459457, 11.451349008605073, 5.738989648020733, 22.71832353271886, 7.5781465940971025, 17.989051934235214, 8.478618053499705, 10.429489371880884, 4.4429168812583875, 9.253379996782268, 21.938524148717473, 3.8348380453971713, 12.306187763314261, 11.621727854735603, 23.315603967039188, 14.855193101592118, 11.994925755262111, 13.191232369606425, 12.974935960560014, 12.354621573861927, 14.076944612357496, 17.092504199028873, 13.408337855131924, 15.934598055618691, 11.334647144679478, 11.524287549922189, 14.017699047539764, 15.631609794201715, 16.57297225580293, 11.991579660239182, 13.13196306660349, 12.160061429735372, 10.123781110075775, 10.254113637764592, 10.930659828850358, 3.6058824637520357, 3.6046300964990032, 3.5288710127668423, 2.8987586140010144, 2.8616181515157493, 2.191810399018895, 2.191808158339802, 2.1918071241802206, 2.191805917660709, 2.191802298102174, 2.191770928594873, 2.1911188909788226, 4.311762219526676, 3.605800765145108, 3.605627371055299, 5.391777126168631, 2.898495248027627, 1.4847763487915222, 1.4847758317117314, 1.4847758317117314, 1.484775314631941, 1.4847751422720106, 1.4847742804723594, 1.4847725568730572, 1.4847718674333363, 1.484771695073406, 1.4847710056336851, 1.484770143834034, 1.484770143834034, 1.4847697991141735, 2.8988106666999434, 10.878201916103187, 3.5934046389631518, 2.8535567052190824, 3.604068892566183, 11.385242085569566, 2.695248590663381, 10.369325768660024, 2.191764378917524, 9.036997986236193, 4.644290027956952, 21.978435136566453, 2.898738620249108, 3.572461873280939, 4.046124886978638, 20.225057553866705, 8.414873780796684, 5.748121974477594, 9.855881393626117, 22.811315549170285, 4.286910675346765, 8.060117056884838, 4.205710533337185, 10.150218378156321, 9.653545313773261, 5.188731612842961, 6.222121779478957, 10.78678772462833, 4.844496083792056, 9.224734490559063, 8.99350950752065, 10.86892757297751, 6.56840184202222, 12.4918879803111, 6.062848794033843, 6.790665487568248, 5.07969396322221, 9.915040837197935, 5.179227686290221, 9.126014306361727, 6.924622935901279, 7.9462347143452545, 6.125807739907595, 6.550435732335035, 5.896760007507816, 5.667698141593758, 378.99265159980376, 266.54145192244573, 236.3166053446238, 224.02950610167102, 75.68345445083479, 73.79502806539931, 70.96082867227913, 68.12480949503085, 59.6217121748809, 53.95337578123923, 46.39408610191562, 37.890024296177764, 36.94529896421255, 33.1657347149907, 33.16491581213304, 33.16400332037737, 30.330963389715972, 29.38622245960108, 28.441140969885065, 27.496075078318725, 25.60643203720902, 24.660685026440436, 50.13431961674551, 21.82662081728407, 51.99446135744673, 41.64026922340395, 18.99210166209567, 18.047479017949104, 17.10244562252791, 16.1575890061363, 72.59821323754848, 34.79462868745654, 70.71689960836235, 32.14947106925736, 31.20238261761719, 184.92303150689997, 80.84920806335475, 71.10777364093343, 221.06872772398185, 303.42067712465774, 87.19616275590626, 204.42223681382993, 42.18025896712501, 97.85704050936994, 141.24076691517988, 63.63704505605071, 120.16125067262175, 132.79583509514796, 70.96791023222914, 139.17206751462936, 173.1423521898876, 139.87850771316658, 99.04461083384992, 127.71134784240674, 107.00966037991266, 81.07487169400841, 95.81050088011672, 102.56412533147142, 85.56617171358032, 91.13294855472307, 89.91350601108483, 84.69619531452354, 80.25587524745518, 85.83026918501993, 79.45395357540697, 6.934525113267466, 12.700602884843159, 7.472267097173235, 42.803675519107856, 8.646749147401733, 4.36607554830094, 29.520945888242814, 8.492386265959757, 3.510063185760168, 3.5100191881767855, 3.5100198481405362, 3.510007968793023, 3.507911483944854, 3.507570502673641, 3.5038340079048944, 3.5018912946106466, 3.501556473001107, 7.79061865134958, 6.044959533675563, 2.6539566683909572, 2.6539564484030405, 2.6539535885601206, 2.6539384093938536, 2.6539260900705064, 2.6539243301671713, 2.653922350275919, 2.653913110783409, 2.653913110783409, 2.6538937518467205, 2.653882092487124, 75.89266350855252, 35.95591979993206, 8.037328060552774, 5.222239482516465, 53.87765254823878, 6.077995119158201, 44.701280730968655, 23.396996173193415, 12.213991372537688, 5.223340742028525, 9.50390654705003, 17.50824521958272, 19.43276463315017, 158.7725515557962, 14.111589544785147, 30.174517670064294, 32.607334124834715, 5.222285240003182, 7.486883094372852, 56.29018083735993, 11.838974450771547, 9.751577743425964, 16.101693516045668, 17.545146872717165, 10.99438540079225, 8.72541946634438, 51.654627130455424, 19.22092682858416, 29.208063233680896, 21.481154842972295, 34.70054203299343, 33.684447763134735, 22.58821851623235, 15.637693241792057, 27.871694715252037, 25.04163991925239, 19.42099967935373, 23.651501074220292, 20.014076543927814, 17.151269946858342, 17.094541222748475, 17.83705323942571, 17.669223577662066, 17.973463346944353], \"Total\": [520.0, 492.0, 425.0, 379.0, 387.0, 267.0, 237.0, 224.0, 222.0, 147.0, 99.0, 130.0, 203.0, 89.0, 116.0, 85.0, 66.0, 114.0, 78.0, 110.0, 599.0, 64.0, 82.0, 67.0, 95.0, 116.0, 80.0, 64.0, 116.0, 90.0, 520.0524652886712, 116.43040023764321, 80.70807491461386, 130.29343161885308, 57.211236356746895, 147.3303686266709, 44.05151594611133, 38.411088579046506, 90.0014232859031, 29.95175657605496, 29.011772990662344, 29.011769100186168, 29.011762285587004, 27.131751811683873, 25.2517841757197, 23.371598207073347, 21.49186019144872, 20.551906279877652, 67.89981663244272, 16.79189461586034, 16.791883907760447, 15.851869684910435, 15.84939330485266, 15.848735479894755, 35.60523951174848, 13.97199545050381, 13.972012026970448, 13.971872646670707, 30.79511409390603, 40.76860645814652, 116.8978913190053, 65.0116347235528, 75.15784066048553, 387.22325735296465, 89.92087565421988, 126.81825956689087, 38.87517494128996, 110.80138169826282, 87.53488196603432, 68.57443726537441, 492.38838668034884, 41.56332997238993, 124.36401363572374, 114.50271515279938, 124.99067950249999, 222.91609148319986, 83.2935779986352, 137.40063400693128, 128.56377203862718, 553.1697132414353, 257.1526973582474, 166.83719184741116, 240.22664975685774, 381.64201822343597, 360.49191925755235, 5.033976707290676, 4.330643589262372, 4.330662665103084, 9.551133532327272, 3.6355434153043555, 2.9230607009601584, 2.923068523161754, 2.923067147722109, 2.2194429264616033, 2.219442957162902, 2.219443435694736, 2.21944411745057, 2.2194441549862263, 2.2194430977135533, 2.2194441042634985, 2.219444006043394, 2.219444127307728, 2.2194442707529625, 2.219445067450986, 2.2194450730159483, 2.219445193075294, 2.2194463264650124, 2.2194468623032857, 2.219446725181991, 2.219447452723154, 2.2194482197971155, 2.2194467139829146, 2.2194485307973064, 2.219449397531633, 2.2194485065159317, 4.424911228573743, 64.05893892906268, 4.571567236934059, 33.63507016650054, 5.915709769287412, 13.053769178714072, 3.7212666657127307, 3.721281225962287, 3.721282777137417, 7.007072292878046, 5.538521809468811, 7.668097121125642, 78.88443581067328, 12.608631907217546, 11.788211649873475, 7.269367890523734, 67.37212991150237, 26.889003371953986, 3.887360279351362, 3.887360378922353, 21.515019215644475, 222.91609148319986, 62.410627544980585, 11.524985704771865, 57.70234471567488, 16.689595782971626, 7.157673471029502, 10.541493984480535, 25.26760908652233, 15.130923139566697, 41.03011213672448, 137.40063400693128, 34.44141997999989, 69.58933969484217, 133.92918219906295, 205.7439618911687, 43.22310929398574, 87.53488196603432, 77.39148957830051, 136.2534734584857, 75.18262467955778, 82.92890426506531, 200.47229118825064, 255.55170584122922, 293.9508802401902, 383.19085374818894, 120.57440063603245, 31.401223107497604, 110.88598065361995, 27.575311425760788, 26.62208662850115, 25.630782350230927, 47.48609467027199, 21.84247957478098, 83.06814950495884, 17.062772790091625, 16.10683389489296, 35.84848818884918, 27.250962502876963, 31.891919324793083, 11.327233829809753, 26.41367715281666, 10.371415021583662, 10.370932344127135, 10.370826083973002, 425.98665471036304, 9.414804118346366, 17.76395193363239, 24.33262747392647, 8.449465024750296, 8.449320815257792, 7.503660016544884, 7.503646797632448, 7.5036515529521575, 7.50363945956711, 7.503129331949631, 7.502862286256581, 39.350259376884615, 24.487877688312718, 21.440342352517117, 14.985158294805464, 106.18178069295648, 95.18621977948858, 97.86798034554138, 82.86691630026246, 61.966234045645564, 37.40258105622107, 54.069149955693504, 17.927260263371284, 36.67606298669111, 49.51889227888406, 129.01938742644865, 203.9404546706995, 116.52367739273024, 170.38426996037546, 78.83198538738986, 105.36193622794517, 134.6179891162683, 178.1740343749984, 135.5280956249992, 132.38973201306987, 599.9977752183048, 205.66674922842276, 383.19085374818894, 134.0309955727897, 96.69129717403288, 170.5149722200949, 553.1697132414353, 128.82115341575562, 99.00127341389096, 360.49191925755235, 134.45281738667347, 255.55170584122922, 200.47229118825064, 162.50968036036156, 205.7439618911687, 345.54343873005587, 207.83304402300246, 257.0160732670365, 3.5079022432899256, 6.2816261802462865, 2.8339270738597975, 2.833929976940522, 2.8339309137775572, 2.8339533574311657, 2.16002195324491, 2.160022176214608, 2.1600221231648824, 2.160022573278681, 2.1600222820998147, 2.1600226478456417, 2.1600235766200617, 2.160025286923314, 2.1600236572329083, 2.160025463032407, 2.160026141288393, 2.1600274090809046, 2.1600274917736586, 2.160027091480622, 2.1600289205584087, 2.160029017500913, 2.160029624536809, 2.1600281180516694, 2.160027688556532, 2.1600304316938246, 2.1600362517328344, 2.1600554431827494, 2.160221529265747, 4.259909087154153, 6.5099917817768045, 4.363946545955612, 14.854698743146942, 7.4524801409181585, 3.5409742122590013, 3.586006748117932, 19.71775592822092, 10.54966772167569, 14.793759035228666, 6.019475464688081, 6.630970410896377, 6.313038802370877, 48.69432367265779, 76.31826273632646, 4.338082175642965, 4.4224868825410235, 11.412069190130387, 33.18511673094467, 40.38905334519137, 25.51734948005742, 4.495894246095961, 4.52218922476961, 22.67562321187746, 15.53394807496838, 162.50968036036156, 56.575084370854334, 117.959149489784, 425.98665471036304, 116.52367739273024, 63.85303629031308, 169.62423811497433, 293.9508802401902, 38.965388490272666, 56.446574862804326, 132.05106924260178, 54.164984655619584, 203.9404546706995, 77.39148957830051, 599.9977752183048, 262.7619637388457, 178.1740343749984, 78.445772471557, 98.34676088757094, 75.95984435648342, 212.2806423136675, 227.0879710530198, 345.54343873005587, 228.02285450259456, 37.78708617048843, 11.086505128445252, 32.13768474286009, 9.505822603121898, 15.736468709782882, 7.135003038412207, 37.30378207298832, 3.9736156158918163, 3.973633364291895, 3.183262657089653, 3.1832639912676393, 3.1832639095093485, 3.1832641668545185, 3.183263573585849, 3.1832651922320427, 3.183261516274519, 3.1832611914599354, 3.1832639663077225, 3.1832501557978, 3.1832721861783755, 3.1837592630127363, 3.183724945066818, 3.1775216234845587, 3.1774990465991757, 6.511746293689346, 5.5621732696091195, 5.622179369960387, 5.707129082608947, 4.647527731566007, 2.392911803688019, 63.85303629031308, 11.77228979430997, 40.38905334519137, 13.757730015715333, 6.235944494247189, 18.583270319116217, 13.926605230859266, 25.247984889184515, 6.456024508909368, 10.929118902834132, 14.258023707045076, 16.168595219186656, 5.385389270292987, 24.839778229892325, 345.54343873005587, 11.185509193890985, 20.7620737469682, 227.0879710530198, 115.82275836162628, 89.81872581375588, 42.767703479791805, 114.62281551476306, 224.84970648596354, 257.0160732670365, 64.5507083799388, 599.9977752183048, 553.1697132414353, 360.49191925755235, 114.6682506464086, 293.9508802401902, 111.19319403116619, 255.55170584122922, 207.83304402300246, 240.22664975685774, 383.19085374818894, 212.2806423136675, 169.62423811497433, 178.1740343749984, 205.66674922842276, 8.793849362970805, 6.399657406606697, 5.601641730298141, 5.600168328627273, 7.220610367719542, 11.892573001861217, 4.8033156545565046, 4.812070714831865, 13.702047888338152, 4.811818244714054, 4.005014227734337, 4.005016723472615, 4.00526537057437, 9.752445001462007, 66.25465089831386, 3.2068153970932753, 3.2068141520857143, 3.20681750446077, 3.2068129306005186, 3.2068190889611365, 3.2068519036802496, 3.206771610454711, 15.414703665456742, 3.2069368466474537, 3.2070403816611894, 3.2084184897584254, 3.208987233211831, 3.9913371686922248, 13.243907035379959, 3.212862268069584, 10.723903181685154, 5.508063722641812, 8.104068243158135, 89.88791828807297, 5.5936096380539215, 9.484995361056347, 15.542062085563616, 5.751180216336138, 64.88323406660831, 16.536019294637057, 80.30579951982827, 85.06690096801604, 492.38838668034884, 32.17164870679606, 29.463771790686025, 26.896699371514874, 52.260057463542374, 114.50271515279938, 59.29419665747409, 35.13167548569764, 43.24935895501586, 222.91609148319986, 46.59867409505288, 55.393238735944834, 58.65319122117589, 35.99194050524172, 387.22325735296465, 26.577157535758644, 186.15169572782452, 124.36401363572374, 125.01440856073546, 149.77807397832814, 62.410627544980585, 255.55170584122922, 257.0160732670365, 199.12220952227332, 240.22664975685774, 5.3246571136083185, 4.572583580462544, 4.572582829763706, 4.572692755103007, 4.573567571207798, 3.8205067926805825, 3.8205260693304512, 3.82054120352834, 7.684985567899045, 6.932871477365885, 3.0684332661447424, 3.068433292270136, 3.068433590308767, 3.068433956689411, 3.068434675618913, 3.068437002054006, 3.0684388674817034, 3.0684392167116523, 3.0684528583543487, 3.0684361454059323, 3.068443340694749, 3.0684662523104222, 3.068592915341565, 3.069514001073095, 6.180775715022323, 21.77531589445373, 3.1134173124346836, 2.316358353341161, 2.3163585465027885, 2.3163586546274275, 4.52412799838772, 6.906084741888606, 4.610875893096215, 20.71288142832989, 25.59512712020724, 12.11665183783899, 6.302919134471038, 48.69432367265779, 15.22736354373022, 203.9404546706995, 26.99813172205255, 134.0309955727897, 33.526924339580795, 49.6392382414064, 10.132807909006365, 43.846345882905545, 240.22664975685774, 8.251372764560758, 105.36193622794517, 95.18621977948858, 599.9977752183048, 205.7439618911687, 134.45281738667347, 177.6343947675593, 170.38426996037546, 157.23691309319884, 227.0879710530198, 425.98665471036304, 205.66674922842276, 360.49191925755235, 125.01440856073546, 135.5280956249992, 257.0160732670365, 383.19085374818894, 553.1697132414353, 170.5149722200949, 349.8712813184378, 345.54343873005587, 128.82115341575562, 145.26509896283628, 293.9508802401902, 4.347396918001852, 4.347344069556287, 4.373142290233663, 3.640364715922369, 3.652872473579814, 2.9333221565148566, 2.9333228602363226, 2.9333235881324207, 2.933322959847843, 2.933323188402514, 2.9333360072468766, 2.933307956329804, 5.999680365540003, 5.051031397452182, 5.099545984100631, 7.97936726948254, 4.343962248031413, 2.226284574508736, 2.226284750153602, 2.226284909111184, 2.2262846993412015, 2.226284815686509, 2.22628536793059, 2.226286047588848, 2.2262860037627616, 2.2262861581722704, 2.2262863953875716, 2.226285892871301, 2.226286957988155, 2.2262867548907948, 4.430728677564937, 17.839344742464064, 5.754583571042114, 4.506045614364429, 6.044593878310621, 26.889003371953986, 4.6372826590505385, 25.16703238918973, 3.607240540656559, 21.29157361960502, 9.285174173579085, 67.37212991150237, 5.2368400331745155, 6.968313566006757, 8.373658629023728, 82.92890426506531, 26.896699371514874, 14.80168069964208, 43.96009973457645, 222.91609148319986, 10.202631229824304, 33.63507016650054, 9.859001407568705, 59.29419665747409, 55.393238735944834, 15.213794068088358, 23.22014726337985, 78.88443581067328, 13.565607737073865, 64.05893892906268, 62.410627544980585, 114.50271515279938, 41.003039879068965, 553.1697132414353, 38.2786884727302, 64.5507083799388, 20.402408769043223, 492.38838668034884, 23.996540660224927, 387.22325735296465, 105.32777691271431, 345.54343873005587, 69.58933969484217, 120.57440063603245, 180.6681810370839, 144.83259107210506, 379.7161795640413, 267.27244691270477, 237.03662539692382, 224.75275763014915, 76.40363651062647, 74.51425559770931, 71.67954775962554, 68.84451835479656, 60.340697140280426, 54.67146626354058, 47.11224951543572, 38.608134990199524, 37.663254273147935, 33.88366826277359, 33.883500930259814, 33.883316843311306, 31.048948278113322, 30.104086910982282, 29.1591513905551, 28.21423866593082, 26.324474005784513, 25.37937208661549, 51.67575178532679, 22.54482200848674, 53.737658199141734, 43.17323887489614, 19.710124894305945, 18.765300115190975, 17.82037019276802, 16.87547406824476, 75.92317962959304, 36.47230470507702, 74.74992594271775, 33.78809878735839, 32.843006252041725, 255.8867590740414, 100.59236545689346, 86.8512875600424, 349.8712813184378, 599.9977752183048, 122.15813335748811, 381.64201822343597, 48.35068259396063, 153.0773861769408, 262.7619637388457, 85.50715669464859, 228.02285450259456, 293.9508802401902, 111.19319403116619, 360.49191925755235, 553.1697132414353, 383.19085374818894, 207.1021235332919, 345.54343873005587, 257.0160732670365, 143.62439255808565, 212.46844437222776, 257.1526973582474, 171.64301916545, 212.2806423136675, 207.83304402300246, 177.6343947675593, 141.4787968586975, 224.84970648596354, 138.78420705872134, 7.661136608635896, 14.438340573528013, 8.495717103989092, 49.53355554771227, 10.047287409596528, 5.092798011435344, 34.92357205010882, 10.168485084552895, 4.236672823122749, 4.236671715537461, 4.236672591061869, 4.236679537416893, 4.236895646431664, 4.236483952607343, 4.237309773652863, 4.236120091576396, 4.237543732603521, 9.473167206016756, 7.5026836141169495, 3.3805574461378223, 3.3805573834144145, 3.3805576063873963, 3.380557465471321, 3.380555503021249, 3.3805538811099263, 3.38055350890653, 3.380555806714477, 3.380561623564608, 3.3805576684295557, 3.3805625528281924, 99.74456597558694, 47.648691792914036, 10.373036726934824, 6.739263192445348, 85.06690096801604, 8.468010330288578, 78.88443581067328, 40.01934394827852, 19.15195154430394, 7.296942772861282, 14.50603872067175, 30.12122170011829, 34.26497054008554, 492.38838668034884, 24.34052712538194, 69.58933969484217, 82.92890426506531, 7.359560533947845, 12.420879168265197, 222.91609148319986, 25.366235911967223, 19.124143530779527, 43.96009973457645, 51.76855090556012, 24.387061318880527, 16.602051641695134, 553.1697132414353, 81.98899810454222, 199.12220952227332, 106.41973246779997, 381.64201822343597, 387.22325735296465, 168.28968931353597, 64.58093502324739, 349.8712813184378, 255.55170584122922, 169.62423811497433, 383.19085374818894, 224.84970648596354, 112.13119094572659, 157.23691309319884, 262.7619637388457, 257.0160732670365, 345.54343873005587], \"Category\": [\"Default\", \"Default\", \"Default\", \"Default\", \"Default\", \"Default\", \"Default\", \"Default\", \"Default\", \"Default\", \"Default\", \"Default\", \"Default\", \"Default\", \"Default\", \"Default\", \"Default\", \"Default\", \"Default\", \"Default\", \"Default\", \"Default\", \"Default\", \"Default\", \"Default\", \"Default\", \"Default\", \"Default\", \"Default\", \"Default\", \"Topic1\", \"Topic1\", \"Topic1\", \"Topic1\", \"Topic1\", \"Topic1\", \"Topic1\", \"Topic1\", \"Topic1\", \"Topic1\", \"Topic1\", \"Topic1\", \"Topic1\", \"Topic1\", \"Topic1\", \"Topic1\", \"Topic1\", \"Topic1\", \"Topic1\", \"Topic1\", \"Topic1\", \"Topic1\", \"Topic1\", \"Topic1\", \"Topic1\", \"Topic1\", \"Topic1\", \"Topic1\", \"Topic1\", \"Topic1\", \"Topic1\", \"Topic1\", \"Topic1\", \"Topic1\", \"Topic1\", \"Topic1\", \"Topic1\", \"Topic1\", \"Topic1\", \"Topic1\", \"Topic1\", \"Topic1\", \"Topic1\", \"Topic1\", \"Topic1\", \"Topic1\", \"Topic1\", \"Topic1\", \"Topic1\", \"Topic1\", \"Topic1\", \"Topic1\", \"Topic1\", \"Topic1\", \"Topic1\", \"Topic2\", \"Topic2\", \"Topic2\", \"Topic2\", \"Topic2\", \"Topic2\", \"Topic2\", \"Topic2\", \"Topic2\", \"Topic2\", \"Topic2\", \"Topic2\", \"Topic2\", \"Topic2\", \"Topic2\", \"Topic2\", \"Topic2\", \"Topic2\", \"Topic2\", \"Topic2\", \"Topic2\", \"Topic2\", \"Topic2\", \"Topic2\", \"Topic2\", \"Topic2\", \"Topic2\", \"Topic2\", \"Topic2\", \"Topic2\", \"Topic2\", \"Topic2\", \"Topic2\", \"Topic2\", \"Topic2\", \"Topic2\", \"Topic2\", \"Topic2\", \"Topic2\", \"Topic2\", \"Topic2\", \"Topic2\", \"Topic2\", \"Topic2\", \"Topic2\", \"Topic2\", \"Topic2\", \"Topic2\", \"Topic2\", \"Topic2\", \"Topic2\", \"Topic2\", \"Topic2\", \"Topic2\", \"Topic2\", \"Topic2\", \"Topic2\", \"Topic2\", \"Topic2\", \"Topic2\", \"Topic2\", \"Topic2\", \"Topic2\", \"Topic2\", \"Topic2\", \"Topic2\", \"Topic2\", \"Topic2\", \"Topic2\", \"Topic2\", \"Topic2\", \"Topic2\", \"Topic2\", \"Topic2\", \"Topic2\", \"Topic2\", \"Topic2\", \"Topic3\", \"Topic3\", \"Topic3\", \"Topic3\", \"Topic3\", \"Topic3\", \"Topic3\", \"Topic3\", \"Topic3\", \"Topic3\", \"Topic3\", \"Topic3\", \"Topic3\", \"Topic3\", \"Topic3\", \"Topic3\", \"Topic3\", \"Topic3\", \"Topic3\", \"Topic3\", \"Topic3\", \"Topic3\", \"Topic3\", \"Topic3\", \"Topic3\", \"Topic3\", \"Topic3\", \"Topic3\", \"Topic3\", \"Topic3\", \"Topic3\", \"Topic3\", \"Topic3\", \"Topic3\", \"Topic3\", \"Topic3\", \"Topic3\", \"Topic3\", \"Topic3\", \"Topic3\", \"Topic3\", \"Topic3\", \"Topic3\", \"Topic3\", \"Topic3\", \"Topic3\", \"Topic3\", \"Topic3\", \"Topic3\", \"Topic3\", \"Topic3\", \"Topic3\", \"Topic3\", \"Topic3\", \"Topic3\", \"Topic3\", \"Topic3\", \"Topic3\", \"Topic3\", \"Topic3\", \"Topic3\", \"Topic3\", \"Topic3\", \"Topic3\", \"Topic3\", \"Topic3\", \"Topic3\", \"Topic3\", \"Topic3\", \"Topic3\", \"Topic3\", \"Topic3\", \"Topic4\", \"Topic4\", \"Topic4\", \"Topic4\", \"Topic4\", \"Topic4\", \"Topic4\", \"Topic4\", \"Topic4\", \"Topic4\", \"Topic4\", \"Topic4\", \"Topic4\", \"Topic4\", \"Topic4\", \"Topic4\", \"Topic4\", \"Topic4\", \"Topic4\", \"Topic4\", \"Topic4\", \"Topic4\", \"Topic4\", \"Topic4\", \"Topic4\", \"Topic4\", \"Topic4\", \"Topic4\", \"Topic4\", \"Topic4\", \"Topic4\", \"Topic4\", \"Topic4\", \"Topic4\", \"Topic4\", \"Topic4\", \"Topic4\", \"Topic4\", \"Topic4\", \"Topic4\", \"Topic4\", \"Topic4\", \"Topic4\", \"Topic4\", \"Topic4\", \"Topic4\", \"Topic4\", \"Topic4\", \"Topic4\", \"Topic4\", \"Topic4\", \"Topic4\", \"Topic4\", \"Topic4\", \"Topic4\", \"Topic4\", \"Topic4\", \"Topic4\", \"Topic4\", \"Topic4\", \"Topic4\", \"Topic4\", \"Topic4\", \"Topic4\", \"Topic4\", \"Topic4\", \"Topic4\", \"Topic4\", \"Topic4\", \"Topic4\", \"Topic4\", \"Topic4\", \"Topic4\", \"Topic4\", \"Topic4\", \"Topic4\", \"Topic4\", \"Topic4\", \"Topic5\", \"Topic5\", \"Topic5\", \"Topic5\", \"Topic5\", \"Topic5\", \"Topic5\", \"Topic5\", \"Topic5\", \"Topic5\", \"Topic5\", \"Topic5\", \"Topic5\", \"Topic5\", \"Topic5\", \"Topic5\", \"Topic5\", \"Topic5\", \"Topic5\", \"Topic5\", \"Topic5\", \"Topic5\", \"Topic5\", \"Topic5\", \"Topic5\", \"Topic5\", \"Topic5\", \"Topic5\", \"Topic5\", \"Topic5\", \"Topic5\", \"Topic5\", \"Topic5\", \"Topic5\", \"Topic5\", \"Topic5\", \"Topic5\", \"Topic5\", \"Topic5\", \"Topic5\", \"Topic5\", \"Topic5\", \"Topic5\", \"Topic5\", \"Topic5\", \"Topic5\", \"Topic5\", \"Topic5\", \"Topic5\", \"Topic5\", \"Topic5\", \"Topic5\", \"Topic5\", \"Topic5\", \"Topic5\", \"Topic5\", \"Topic5\", \"Topic5\", \"Topic5\", \"Topic5\", \"Topic5\", \"Topic5\", \"Topic5\", \"Topic5\", \"Topic5\", \"Topic5\", \"Topic5\", \"Topic5\", \"Topic5\", \"Topic6\", \"Topic6\", \"Topic6\", \"Topic6\", \"Topic6\", \"Topic6\", \"Topic6\", \"Topic6\", \"Topic6\", \"Topic6\", \"Topic6\", \"Topic6\", \"Topic6\", \"Topic6\", \"Topic6\", \"Topic6\", \"Topic6\", \"Topic6\", \"Topic6\", \"Topic6\", \"Topic6\", \"Topic6\", \"Topic6\", \"Topic6\", \"Topic6\", \"Topic6\", \"Topic6\", \"Topic6\", \"Topic6\", \"Topic6\", \"Topic6\", \"Topic6\", \"Topic6\", \"Topic6\", \"Topic6\", \"Topic6\", \"Topic6\", \"Topic6\", \"Topic6\", \"Topic6\", \"Topic6\", \"Topic6\", \"Topic6\", \"Topic6\", \"Topic6\", \"Topic6\", \"Topic6\", \"Topic6\", \"Topic6\", \"Topic6\", \"Topic6\", \"Topic6\", \"Topic6\", \"Topic6\", \"Topic6\", \"Topic6\", \"Topic6\", \"Topic6\", \"Topic6\", \"Topic6\", \"Topic6\", \"Topic6\", \"Topic6\", \"Topic6\", \"Topic6\", \"Topic6\", \"Topic6\", \"Topic7\", \"Topic7\", \"Topic7\", \"Topic7\", \"Topic7\", \"Topic7\", \"Topic7\", \"Topic7\", \"Topic7\", \"Topic7\", \"Topic7\", \"Topic7\", \"Topic7\", \"Topic7\", \"Topic7\", \"Topic7\", \"Topic7\", \"Topic7\", \"Topic7\", \"Topic7\", \"Topic7\", \"Topic7\", \"Topic7\", \"Topic7\", \"Topic7\", \"Topic7\", \"Topic7\", \"Topic7\", \"Topic7\", \"Topic7\", \"Topic7\", \"Topic7\", \"Topic7\", \"Topic7\", \"Topic7\", \"Topic7\", \"Topic7\", \"Topic7\", \"Topic7\", \"Topic7\", \"Topic7\", \"Topic7\", \"Topic7\", \"Topic7\", \"Topic7\", \"Topic7\", \"Topic7\", \"Topic7\", \"Topic7\", \"Topic7\", \"Topic7\", \"Topic7\", \"Topic7\", \"Topic7\", \"Topic7\", \"Topic7\", \"Topic7\", \"Topic7\", \"Topic7\", \"Topic7\", \"Topic7\", \"Topic7\", \"Topic7\", \"Topic7\", \"Topic7\", \"Topic7\", \"Topic7\", \"Topic7\", \"Topic7\", \"Topic7\", \"Topic7\", \"Topic8\", \"Topic8\", \"Topic8\", \"Topic8\", \"Topic8\", \"Topic8\", \"Topic8\", \"Topic8\", \"Topic8\", \"Topic8\", \"Topic8\", \"Topic8\", \"Topic8\", \"Topic8\", \"Topic8\", \"Topic8\", \"Topic8\", \"Topic8\", \"Topic8\", \"Topic8\", \"Topic8\", \"Topic8\", \"Topic8\", \"Topic8\", \"Topic8\", \"Topic8\", \"Topic8\", \"Topic8\", \"Topic8\", \"Topic8\", \"Topic8\", \"Topic8\", \"Topic8\", \"Topic8\", \"Topic8\", \"Topic8\", \"Topic8\", \"Topic8\", \"Topic8\", \"Topic8\", \"Topic8\", \"Topic8\", \"Topic8\", \"Topic8\", \"Topic8\", \"Topic8\", \"Topic8\", \"Topic8\", \"Topic8\", \"Topic8\", \"Topic8\", \"Topic8\", \"Topic8\", \"Topic8\", \"Topic8\", \"Topic8\", \"Topic8\", \"Topic8\", \"Topic8\", \"Topic8\", \"Topic8\", \"Topic8\", \"Topic8\", \"Topic8\", \"Topic8\", \"Topic8\", \"Topic8\", \"Topic8\", \"Topic8\", \"Topic8\", \"Topic8\", \"Topic8\", \"Topic8\", \"Topic8\", \"Topic8\", \"Topic8\", \"Topic9\", \"Topic9\", \"Topic9\", \"Topic9\", \"Topic9\", \"Topic9\", \"Topic9\", \"Topic9\", \"Topic9\", \"Topic9\", \"Topic9\", \"Topic9\", \"Topic9\", \"Topic9\", \"Topic9\", \"Topic9\", \"Topic9\", \"Topic9\", \"Topic9\", \"Topic9\", \"Topic9\", \"Topic9\", \"Topic9\", \"Topic9\", \"Topic9\", \"Topic9\", \"Topic9\", \"Topic9\", \"Topic9\", \"Topic9\", \"Topic9\", \"Topic9\", \"Topic9\", \"Topic9\", \"Topic9\", \"Topic9\", \"Topic9\", \"Topic9\", \"Topic9\", \"Topic9\", \"Topic9\", \"Topic9\", \"Topic9\", \"Topic9\", \"Topic9\", \"Topic9\", \"Topic9\", \"Topic9\", \"Topic9\", \"Topic9\", \"Topic9\", \"Topic9\", \"Topic9\", \"Topic9\", \"Topic9\", \"Topic9\", \"Topic9\", \"Topic9\", \"Topic9\", \"Topic9\", \"Topic9\", \"Topic9\", \"Topic9\", \"Topic9\", \"Topic9\", \"Topic10\", \"Topic10\", \"Topic10\", \"Topic10\", \"Topic10\", \"Topic10\", \"Topic10\", \"Topic10\", \"Topic10\", \"Topic10\", \"Topic10\", \"Topic10\", \"Topic10\", \"Topic10\", \"Topic10\", \"Topic10\", \"Topic10\", \"Topic10\", \"Topic10\", \"Topic10\", \"Topic10\", \"Topic10\", \"Topic10\", \"Topic10\", \"Topic10\", \"Topic10\", \"Topic10\", \"Topic10\", \"Topic10\", \"Topic10\", \"Topic10\", \"Topic10\", \"Topic10\", \"Topic10\", \"Topic10\", \"Topic10\", \"Topic10\", \"Topic10\", \"Topic10\", \"Topic10\", \"Topic10\", \"Topic10\", \"Topic10\", \"Topic10\", \"Topic10\", \"Topic10\", \"Topic10\", \"Topic10\", \"Topic10\", \"Topic10\", \"Topic10\", \"Topic10\", \"Topic10\", \"Topic10\", \"Topic10\", \"Topic10\", \"Topic10\", \"Topic10\", \"Topic10\", \"Topic10\", \"Topic10\", \"Topic10\", \"Topic10\", \"Topic10\", \"Topic10\", \"Topic10\", \"Topic10\", \"Topic10\", \"Topic10\", \"Topic10\", \"Topic10\", \"Topic10\", \"Topic10\", \"Topic10\"], \"logprob\": [30.0, 29.0, 28.0, 27.0, 26.0, 25.0, 24.0, 23.0, 22.0, 21.0, 20.0, 19.0, 18.0, 17.0, 16.0, 15.0, 14.0, 13.0, 12.0, 11.0, 10.0, 9.0, 8.0, 7.0, 6.0, 5.0, 4.0, 3.0, 2.0, 1.0, -3.6026, -5.0994, -5.4687, -4.9917, -5.8164, -4.8706, -6.0816, -6.2211, -5.3712, -6.4752, -6.5079, -6.5079, -6.5079, -6.5766, -6.6505, -6.7302, -6.8168, -6.8631, -5.6702, -7.0733, -7.0733, -7.1336, -7.1348, -7.1349, -6.3291, -7.2662, -7.2662, -7.2663, -6.4801, -6.2006, -5.158, -5.751, -5.6487, -4.0912, -5.4991, -5.194, -6.3027, -5.3901, -5.6042, -5.8426, -4.4186, -6.302, -5.5937, -5.6774, -5.6655, -5.3524, -5.9146, -5.6842, -5.7386, -5.0563, -5.529, -5.7876, -5.7713, -5.7564, -5.7779, -6.5319, -6.7117, -6.7117, -5.9498, -6.9383, -7.2087, -7.2087, -7.2088, -7.5982, -7.5982, -7.5982, -7.5982, -7.5982, -7.5982, -7.5982, -7.5982, -7.5982, -7.5982, -7.5982, -7.5982, -7.5982, -7.5982, -7.5982, -7.5982, -7.5982, -7.5982, -7.5982, -7.5982, -7.5982, -7.5982, -6.9292, -4.4876, -6.9293, -5.3036, -6.7845, -6.202, -7.2087, -7.2087, -7.2088, -6.7397, -6.9291, -6.7109, -5.0842, -6.38, -6.4512, -6.8151, -5.4359, -6.0219, -7.2425, -7.2425, -6.2139, -4.8706, -5.6629, -6.6373, -5.8642, -6.5225, -6.9292, -6.774, -6.4346, -6.6441, -6.3916, -6.0567, -6.4644, -6.291, -6.1649, -6.1119, -6.4704, -6.3614, -6.3938, -6.3281, -6.4099, -6.4111, -6.3671, -6.3911, -6.3914, -6.4138, -6.4683, -6.4434, -5.1829, -6.5768, -6.6127, -6.6554, -6.039, -6.8166, -5.483, -7.0732, -7.1334, -6.3444, -6.6192, -6.4639, -7.5053, -6.6602, -7.5997, -7.5999, -7.6, -3.8918, -7.7044, -7.0738, -6.7667, -7.8248, -7.8249, -7.9521, -7.9521, -7.9521, -7.9521, -7.9526, -7.9528, -6.2958, -6.7784, -6.91, -7.2662, -5.3373, -5.4492, -5.4497, -5.6446, -5.9299, -6.4087, -6.0666, -7.1051, -6.4616, -6.2171, -5.3851, -5.0104, -5.4944, -5.2847, -5.9012, -5.7361, -5.564, -5.4027, -5.5963, -5.6229, -4.6609, -5.3439, -4.9721, -5.6434, -5.8574, -5.5394, -4.908, -5.7048, -5.8603, -5.2753, -5.7458, -5.5138, -5.6072, -5.7069, -5.6626, -5.5857, -5.7028, -5.7106, -6.9133, -6.3641, -7.1928, -7.1928, -7.1928, -7.1928, -7.5823, -7.5823, -7.5823, -7.5823, -7.5823, -7.5823, -7.5823, -7.5823, -7.5823, -7.5823, -7.5823, -7.5823, -7.5823, -7.5823, -7.5823, -7.5823, -7.5823, -7.5823, -7.5823, -7.5823, -7.5823, -7.5824, -7.5826, -6.9132, -6.5159, -6.9132, -5.9168, -6.5159, -7.1928, -7.1928, -5.9462, -6.4921, -6.2777, -6.9164, -6.914, -6.95, -5.7943, -5.5683, -7.1928, -7.1928, -6.713, -6.1655, -6.0691, -6.3148, -7.2064, -7.2046, -6.391, -6.6067, -5.5843, -6.07, -5.7689, -5.2459, -5.7936, -6.0395, -5.6862, -5.521, -6.2642, -6.1387, -5.8656, -6.2231, -5.8612, -6.1855, -5.6629, -5.8871, -6.0361, -6.221, -6.2065, -6.2753, -6.1871, -6.2142, -6.2305, -6.2564, -4.9414, -6.1893, -5.1342, -6.3551, -5.8545, -6.6699, -5.0367, -7.3508, -7.3508, -7.6304, -7.6304, -7.6304, -7.6304, -7.6304, -7.6304, -7.6304, -7.6304, -7.6304, -7.6304, -7.6305, -7.6314, -7.6326, -7.6464, -7.6465, -6.9669, -7.1325, -7.135, -7.1364, -7.3508, -8.0198, -4.9382, -6.5566, -5.5974, -6.4612, -7.1332, -6.3252, -6.5887, -6.1724, -7.1325, -6.8017, -6.689, -6.6396, -7.3222, -6.4374, -4.9161, -6.9071, -6.6074, -5.463, -5.8209, -5.9498, -6.3001, -5.8851, -5.699, -5.67, -6.2035, -5.3766, -5.4182, -5.6126, -6.0628, -5.7899, -6.1027, -5.9207, -5.9772, -5.9553, -5.8791, -6.0052, -6.0811, -6.144, -6.1938, -6.4091, -6.7611, -6.9136, -6.9151, -6.6791, -6.1815, -7.0921, -7.1039, -6.0746, -7.1217, -7.3102, -7.3102, -7.3107, -6.4222, -4.5479, -7.5898, -7.5898, -7.5898, -7.5898, -7.5898, -7.5899, -7.59, -6.02, -7.5901, -7.5904, -7.5934, -7.5948, -7.3853, -6.2056, -7.6241, -6.444, -7.0965, -6.7446, -4.6181, -7.092, -6.6305, -6.2252, -7.0961, -5.1015, -6.316, -5.1188, -5.0852, -3.9749, -5.9051, -5.9969, -6.0884, -5.6902, -5.2064, -5.6289, -5.9699, -5.8825, -5.0634, -5.8879, -5.8349, -5.8134, -6.1028, -5.252, -6.2453, -5.6416, -5.849, -5.8675, -5.9285, -6.1263, -5.9474, -5.9601, -5.9881, -6.078, -6.8309, -7.0099, -7.0099, -7.01, -7.0109, -7.2282, -7.2282, -7.2282, -6.5473, -6.6791, -7.5078, -7.5078, -7.5078, -7.5078, -7.5078, -7.5078, -7.5078, -7.5078, -7.5078, -7.5078, -7.5078, -7.5078, -7.5089, -7.5096, -6.8309, -5.6384, -7.5881, -7.8972, -7.8972, -7.8972, -7.2282, -6.8339, -7.2282, -5.9123, -5.7332, -6.453, -7.0099, -5.9161, -6.6069, -5.2311, -6.329, -5.4645, -6.2167, -6.0096, -6.8629, -6.1292, -5.266, -7.0101, -5.8441, -5.9014, -5.2051, -5.6559, -5.8697, -5.7747, -5.7912, -5.8402, -5.7097, -5.5156, -5.7584, -5.5857, -5.9264, -5.9098, -5.7139, -5.6049, -5.5465, -5.87, -5.7792, -5.8561, -6.0393, -6.0266, -5.9627, -6.7108, -6.7111, -6.7323, -6.929, -6.9419, -7.2086, -7.2086, -7.2086, -7.2086, -7.2086, -7.2086, -7.2089, -6.532, -6.7108, -6.7108, -6.3084, -6.9291, -7.5981, -7.5981, -7.5981, -7.5981, -7.5981, -7.5981, -7.5981, -7.5981, -7.5981, -7.5981, -7.5981, -7.5981, -7.5981, -6.929, -5.6066, -6.7142, -6.9448, -6.7113, -5.561, -7.0018, -5.6545, -7.2086, -5.792, -6.4577, -4.9033, -6.929, -6.7201, -6.5956, -4.9864, -5.8633, -6.2445, -5.7053, -4.8661, -6.5378, -5.9064, -6.5569, -5.6758, -5.726, -6.3468, -6.1652, -5.615, -6.4155, -5.7714, -5.7968, -5.6074, -6.1111, -5.4682, -6.1911, -6.0778, -6.3681, -5.6993, -6.3487, -5.7822, -6.0582, -5.9206, -6.1808, -6.1138, -6.2189, -6.2585, -4.0762, -4.4282, -4.5486, -4.602, -5.6872, -5.7124, -5.7516, -5.7924, -5.9257, -6.0256, -6.1766, -6.3791, -6.4043, -6.5122, -6.5122, -6.5123, -6.6016, -6.6332, -6.6659, -6.6997, -6.7709, -6.8085, -6.099, -6.9306, -6.0626, -6.2847, -7.0697, -7.1207, -7.1745, -7.2313, -5.7288, -6.4643, -5.7551, -6.5433, -6.5732, -4.7938, -5.6212, -5.7495, -4.6153, -4.2986, -5.5456, -4.6936, -6.2718, -5.4302, -5.0633, -5.8605, -5.2249, -5.1249, -5.7515, -5.078, -4.8596, -5.073, -5.4182, -5.164, -5.3408, -5.6184, -5.4514, -5.3833, -5.5644, -5.5014, -5.5149, -5.5747, -5.6285, -5.5614, -5.6386, -6.9939, -6.3888, -6.9193, -5.1738, -6.7733, -7.4566, -5.5454, -6.7913, -7.6748, -7.6748, -7.6748, -7.6748, -7.6754, -7.6755, -7.6766, -7.6772, -7.6773, -6.8775, -7.1312, -7.9544, -7.9544, -7.9544, -7.9544, -7.9544, -7.9544, -7.9544, -7.9544, -7.9544, -7.9544, -7.9544, -4.6011, -5.3482, -6.8464, -7.2775, -4.9437, -7.1258, -5.1305, -5.7779, -6.4279, -7.2773, -6.6788, -6.0678, -5.9635, -3.863, -6.2835, -5.5235, -5.4459, -7.2775, -6.9173, -4.8999, -6.4591, -6.653, -6.1515, -6.0657, -6.5331, -6.7642, -4.9859, -5.9745, -5.556, -5.8633, -5.3837, -5.4134, -5.813, -6.1808, -5.6028, -5.7099, -5.9641, -5.767, -5.934, -6.0884, -6.0917, -6.0492, -6.0586, -6.0416], \"loglift\": [30.0, 29.0, 28.0, 27.0, 26.0, 25.0, 24.0, 23.0, 22.0, 21.0, 20.0, 19.0, 18.0, 17.0, 16.0, 15.0, 14.0, 13.0, 12.0, 11.0, 10.0, 9.0, 8.0, 7.0, 6.0, 5.0, 4.0, 3.0, 2.0, 1.0, 1.5623, 1.5621, 1.5593, 1.5573, 1.5557, 1.5556, 1.5519, 1.5494, 1.5478, 1.5441, 1.5433, 1.5433, 1.5433, 1.5415, 1.5394, 1.5371, 1.5343, 1.5328, 1.5306, 1.5246, 1.5246, 1.5219, 1.5209, 1.5208, 1.5172, 1.5156, 1.5155, 1.5155, 1.5114, 1.5104, 1.4995, 1.4933, 1.4505, 1.3686, 1.4208, 1.382, 1.4557, 1.321, 1.3426, 1.3483, 0.801, 1.3896, 1.0019, 1.0008, 0.925, 0.6596, 1.0818, 0.8118, 0.8238, 0.0469, 0.3402, 0.5142, 0.1659, -0.2821, -0.2466, 3.2707, 3.2414, 3.2414, 3.2124, 3.1897, 3.1375, 3.1375, 3.1374, 3.0234, 3.0234, 3.0234, 3.0234, 3.0234, 3.0234, 3.0234, 3.0234, 3.0234, 3.0234, 3.0234, 3.0234, 3.0234, 3.0234, 3.0234, 3.0234, 3.0234, 3.0234, 3.0234, 3.0234, 3.0234, 3.0234, 3.0024, 2.7714, 2.9697, 2.5996, 2.8567, 2.6478, 2.896, 2.896, 2.896, 2.7322, 2.778, 2.6709, 1.9667, 2.5044, 2.5006, 2.6201, 1.7727, 2.1052, 2.8186, 2.8186, 2.1362, 1.1415, 1.6222, 2.337, 1.4994, 2.0815, 2.5215, 2.2895, 1.7547, 2.058, 1.3129, 0.4392, 1.4151, 0.8852, 0.3566, -0.0197, 1.1821, 0.5854, 0.6761, 0.1762, 0.6891, 0.5898, -0.249, -0.5157, -0.656, -0.9435, 0.1583, 1.5285, 1.5274, 1.5251, 1.5244, 1.5196, 1.5194, 1.5183, 1.5162, 1.5088, 1.5061, 1.4951, 1.4946, 1.4925, 1.4863, 1.4848, 1.48, 1.4799, 1.4798, 1.4726, 1.4721, 1.4679, 1.4603, 1.4599, 1.4599, 1.4513, 1.4513, 1.4513, 1.4513, 1.4509, 1.4507, 1.4505, 1.4422, 1.4435, 1.4456, 1.4164, 1.4137, 1.3855, 1.357, 1.3624, 1.3884, 1.3619, 1.4274, 1.3551, 1.2994, 1.1738, 1.0905, 1.1664, 0.9961, 1.1503, 1.0253, 0.9524, 0.8333, 0.9134, 0.9102, 0.361, 0.7487, 0.4982, 0.8774, 0.9899, 0.7406, 0.1952, 0.8556, 0.9634, 0.256, 0.7718, 0.3616, 0.5109, 0.6211, 0.4296, -0.012, 0.3793, 0.1591, 3.2505, 3.2171, 3.1844, 3.1844, 3.1844, 3.1843, 3.0665, 3.0665, 3.0665, 3.0665, 3.0665, 3.0665, 3.0664, 3.0664, 3.0664, 3.0664, 3.0664, 3.0664, 3.0664, 3.0664, 3.0664, 3.0664, 3.0664, 3.0664, 3.0664, 3.0664, 3.0664, 3.0663, 3.066, 3.0564, 3.0296, 3.0322, 2.8037, 2.8944, 2.9616, 2.949, 2.4911, 2.5706, 2.4469, 2.7074, 2.6131, 2.6262, 1.739, 1.5156, 2.7586, 2.7393, 2.2712, 1.7512, 1.6512, 1.8647, 2.7092, 2.7052, 1.9066, 2.0691, 0.7438, 1.3133, 0.8796, 0.1185, 0.8671, 1.2227, 0.599, 0.2144, 1.4919, 1.2468, 0.6701, 1.2037, 0.2398, 0.8845, -0.641, -0.0395, 0.1999, 0.8354, 0.6238, 0.8134, -0.1262, -0.2207, -0.6568, -0.267, 2.8455, 2.8238, 2.8146, 2.8119, 2.8083, 2.7839, 2.7631, 2.6884, 2.6883, 2.6305, 2.6305, 2.6305, 2.6305, 2.6305, 2.6305, 2.6305, 2.6305, 2.6305, 2.6305, 2.6305, 2.6294, 2.6282, 2.6163, 2.6162, 2.5783, 2.5703, 2.5571, 2.5407, 2.5317, 2.5265, 2.3241, 2.3965, 2.1229, 2.336, 2.4553, 2.1713, 2.1963, 2.0177, 2.4213, 2.2257, 2.0725, 1.9961, 2.4129, 1.769, 0.6576, 2.0971, 1.7783, 0.5304, 0.8458, 0.9712, 1.363, 0.7921, 0.3044, 0.1997, 1.0479, -0.3547, -0.315, -0.0812, 0.614, -0.0545, 0.6049, -0.0453, 0.1049, -0.018, -0.4088, 0.0557, 0.2041, 0.092, -0.1012, 2.8357, 2.8014, 2.7822, 2.7809, 2.7628, 2.7614, 2.7574, 2.7438, 2.7267, 2.7261, 2.7211, 2.7211, 2.7206, 2.7191, 2.6774, 2.6637, 2.6637, 2.6637, 2.6637, 2.6637, 2.6636, 2.6636, 2.6636, 2.6634, 2.6631, 2.6596, 2.6581, 2.6494, 2.6296, 2.6276, 2.6023, 2.6161, 2.5818, 2.3021, 2.6052, 2.5386, 2.45, 2.5733, 2.1447, 2.2973, 1.9142, 1.8902, 1.2447, 2.0426, 2.0388, 2.0384, 1.7724, 1.4719, 1.7074, 1.8898, 1.7694, 0.9486, 1.6893, 1.5694, 1.5338, 1.7327, 0.2078, 1.8935, 0.5507, 0.7466, 0.7229, 0.4812, 1.1588, -0.072, -0.0904, 0.1368, -0.1407, 2.9156, 2.8888, 2.8888, 2.8887, 2.8876, 2.8503, 2.8502, 2.8502, 2.8322, 2.8035, 2.7899, 2.7899, 2.7899, 2.7899, 2.7899, 2.7899, 2.7899, 2.7899, 2.7899, 2.7899, 2.7898, 2.7898, 2.7887, 2.7877, 2.7665, 2.6996, 2.695, 2.6816, 2.6816, 2.6816, 2.6812, 2.6525, 2.6622, 2.4757, 2.4432, 2.4713, 2.5679, 1.6171, 2.0888, 0.8699, 1.7941, 1.0563, 1.6898, 1.5044, 2.2401, 1.5089, 0.6713, 2.2983, 0.9173, 0.9616, -0.1832, 0.4363, 0.6479, 0.4644, 0.4896, 0.5209, 0.2838, -0.1512, 0.3342, -0.0544, 0.664, 0.5999, 0.1558, -0.1346, -0.4433, 0.41, -0.2179, -0.2824, 0.5211, 0.4137, -0.2272, 3.2385, 3.2382, 3.211, 3.1977, 3.1814, 3.1341, 3.1341, 3.1341, 3.1341, 3.1341, 3.1341, 3.1338, 3.0951, 3.0885, 3.0788, 3.0335, 3.0209, 3.0204, 3.0204, 3.0204, 3.0204, 3.0204, 3.0204, 3.0204, 3.0204, 3.0204, 3.0204, 3.0204, 3.0204, 3.0204, 3.0012, 2.9309, 2.9546, 2.9686, 2.9084, 2.5661, 2.8829, 2.5388, 2.9273, 2.5685, 2.7327, 2.3053, 2.8341, 2.7574, 2.6982, 2.0144, 2.2635, 2.4796, 1.9303, 1.146, 2.5584, 1.9969, 2.5736, 1.6605, 1.6784, 2.3498, 2.1086, 1.4358, 2.3958, 1.4876, 1.4883, 1.0708, 1.5941, -0.3651, 1.5828, 1.1736, 2.0351, -0.4797, 1.8922, -0.3224, 0.7035, -0.3469, 0.9954, 0.5128, 0.0032, 0.1847, 1.4032, 1.4023, 1.402, 1.4019, 1.3956, 1.3954, 1.395, 1.3946, 1.3931, 1.3919, 1.3897, 1.3863, 1.3858, 1.3837, 1.3836, 1.3836, 1.3817, 1.3809, 1.3802, 1.3793, 1.3774, 1.3764, 1.3748, 1.3727, 1.3721, 1.3689, 1.368, 1.3661, 1.364, 1.3616, 1.3603, 1.358, 1.3496, 1.3554, 1.3538, 1.0803, 1.1866, 1.2051, 0.946, 0.7233, 1.0679, 0.7808, 1.2686, 0.9576, 0.7843, 1.1097, 0.7645, 0.6105, 0.956, 0.4533, 0.2435, 0.3973, 0.6674, 0.4097, 0.5289, 0.8333, 0.6087, 0.4859, 0.709, 0.5595, 0.5672, 0.6644, 0.8382, 0.442, 0.8473, 2.3887, 2.3601, 2.36, 2.3423, 2.3382, 2.3344, 2.3203, 2.3082, 2.3002, 2.3002, 2.3002, 2.3002, 2.2996, 2.2996, 2.2983, 2.298, 2.2976, 2.2928, 2.2723, 2.2464, 2.2464, 2.2464, 2.2464, 2.2464, 2.2464, 2.2464, 2.2464, 2.2464, 2.2464, 2.2463, 2.2151, 2.2068, 2.2333, 2.2333, 2.0316, 2.1567, 1.9204, 1.9516, 2.0385, 2.154, 2.0655, 1.9458, 1.9212, 1.3566, 1.9432, 1.6528, 1.5549, 2.1453, 1.9821, 1.1121, 1.7263, 1.8148, 1.484, 1.4064, 1.6917, 1.8451, 0.1173, 1.0378, 0.5689, 0.8882, 0.0906, 0.0464, 0.4801, 1.0701, -0.0416, 0.1655, 0.3211, -0.2967, 0.0694, 0.6108, 0.2694, -0.2016, -0.1889, -0.4679]}, \"token.table\": {\"Topic\": [7, 1, 3, 4, 5, 6, 7, 8, 9, 10, 2, 1, 6, 9, 1, 3, 4, 9, 1, 6, 7, 1, 10, 1, 1, 3, 5, 6, 7, 9, 1, 7, 1, 2, 8, 10, 3, 10, 1, 2, 3, 5, 9, 10, 1, 2, 3, 4, 5, 6, 7, 8, 9, 10, 5, 8, 1, 2, 3, 4, 5, 6, 7, 8, 9, 10, 3, 5, 8, 10, 4, 7, 1, 3, 4, 5, 6, 7, 8, 9, 10, 1, 2, 3, 4, 5, 6, 7, 8, 9, 10, 1, 2, 4, 1, 2, 6, 8, 10, 1, 2, 6, 8, 10, 6, 8, 8, 10, 3, 4, 3, 4, 5, 7, 6, 1, 3, 4, 5, 6, 7, 8, 9, 10, 1, 10, 2, 9, 4, 2, 7, 9, 1, 5, 6, 8, 3, 4, 9, 10, 2, 3, 4, 5, 7, 9, 8, 3, 4, 5, 7, 8, 9, 3, 2, 1, 2, 4, 5, 7, 9, 10, 3, 5, 9, 2, 4, 5, 7, 10, 1, 1, 6, 2, 8, 10, 9, 1, 3, 4, 6, 9, 2, 8, 2, 3, 4, 9, 3, 7, 10, 4, 1, 2, 3, 5, 9, 10, 1, 4, 8, 10, 7, 4, 8, 9, 4, 7, 3, 10, 2, 3, 4, 7, 8, 3, 8, 10, 3, 5, 7, 9, 1, 8, 5, 1, 2, 4, 6, 8, 9, 10, 1, 6, 8, 10, 2, 2, 5, 6, 4, 5, 1, 6, 8, 10, 9, 2, 8, 10, 2, 4, 5, 7, 1, 2, 4, 5, 6, 7, 10, 5, 2, 2, 3, 4, 6, 7, 8, 9, 10, 3, 6, 8, 10, 6, 10, 2, 6, 7, 8, 6, 1, 6, 10, 1, 6, 8, 10, 6, 8, 10, 1, 6, 10, 6, 1, 6, 8, 10, 1, 2, 3, 6, 8, 10, 7, 8, 6, 1, 2, 6, 10, 1, 2, 7, 8, 10, 1, 8, 4, 1, 2, 10, 1, 2, 6, 8, 10, 9, 4, 10, 9, 9, 3, 4, 1, 2, 5, 6, 8, 10, 1, 5, 7, 1, 3, 4, 5, 6, 7, 9, 10, 10, 9, 1, 1, 3, 5, 7, 9, 10, 2, 2, 4, 5, 10, 1, 2, 6, 8, 10, 6, 6, 4, 5, 2, 6, 7, 6, 10, 2, 4, 6, 8, 10, 7, 3, 4, 6, 7, 9, 10, 4, 7, 7, 1, 2, 6, 8, 10, 1, 2, 6, 8, 10, 1, 3, 5, 6, 7, 8, 10, 1, 2, 3, 6, 8, 9, 10, 3, 4, 5, 7, 9, 8, 3, 6, 4, 5, 6, 1, 10, 3, 10, 3, 5, 1, 2, 3, 5, 6, 7, 8, 9, 10, 1, 1, 2, 3, 4, 7, 8, 9, 10, 4, 10, 1, 2, 3, 4, 5, 7, 9, 10, 6, 10, 3, 4, 1, 3, 4, 5, 7, 8, 9, 10, 4, 1, 1, 2, 3, 4, 5, 6, 7, 8, 9, 10, 1, 2, 3, 4, 5, 6, 8, 9, 10, 1, 2, 3, 4, 5, 6, 8, 9, 10, 8, 4, 5, 9, 1, 2, 8, 10, 1, 2, 3, 4, 5, 7, 8, 9, 10, 3, 7, 4, 3, 5, 3, 4, 10, 4, 5, 8, 9, 8, 3, 7, 1, 2, 3, 5, 6, 8, 10, 1, 6, 10, 7, 10, 10, 5, 7, 1, 3, 9, 1, 6, 10, 1, 4, 5, 10, 2, 8, 10, 6, 9, 10, 1, 2, 3, 5, 6, 7, 8, 9, 10, 5, 9, 5, 8, 2, 4, 8, 10, 1, 2, 3, 4, 5, 6, 7, 8, 9, 10, 3, 5, 9, 1, 2, 3, 4, 5, 6, 7, 8, 9, 10, 9, 10, 1, 2, 3, 4, 5, 6, 7, 8, 9, 10, 1, 4, 7, 2, 1, 3, 5, 6, 7, 8, 9, 10, 9, 9, 1, 3, 4, 5, 7, 8, 9, 1, 1, 4, 6, 7, 8, 9, 10, 4, 6, 8, 6, 8, 10, 9, 2, 3, 5, 9, 10, 1, 2, 3, 4, 5, 6, 7, 9, 10, 1, 2, 3, 4, 6, 7, 8, 9, 10, 1, 3, 4, 5, 6, 7, 9, 10, 1, 2, 6, 8, 1, 2, 3, 4, 5, 6, 7, 8, 9, 10, 7, 4, 7, 3, 4, 5, 10, 1, 2, 3, 4, 6, 8, 10, 10, 1, 3, 4, 5, 6, 7, 8, 9, 10, 5, 6, 8, 1, 1, 4, 2, 8, 10, 3, 3, 4, 7, 3, 5, 7, 1, 3, 4, 7, 9, 8, 1, 5, 7, 1, 4, 5, 6, 7, 8, 10, 2, 3, 7, 9, 8, 4, 1, 2, 6, 8, 10, 2, 4, 7, 5, 4, 8, 1, 3, 4, 5, 8, 10, 10, 2, 8, 10, 1, 2, 5, 3, 4, 6, 10, 5, 9, 9, 1, 2, 6, 8, 10, 6, 5, 7, 4, 5, 3, 9, 2, 1, 2, 8, 10, 1, 2, 5, 6, 8, 1, 2, 6, 8, 10, 3, 2, 6, 7, 9, 10, 1, 2, 3, 4, 5, 6, 7, 8, 9, 10, 1, 2, 3, 4, 5, 6, 7, 9, 10, 2, 7, 2, 6, 8, 1, 4, 6, 8, 10, 1, 3, 4, 5, 6, 7, 8, 9, 10, 6, 3, 9, 4, 1, 3, 4, 5, 6, 7, 8, 9, 10, 1, 3, 4, 1, 3, 4, 5, 7, 8, 9, 1, 5, 3, 5, 1, 2, 3, 4, 5, 6, 7, 9, 10, 7, 2, 6, 1, 2, 3, 4, 5, 7, 8, 9, 10, 1, 2, 8, 10, 1, 2, 3, 4, 5, 6, 7, 8, 9, 10, 4, 10, 1, 2, 5, 6, 8, 1, 3, 6, 7, 10, 1, 2, 3, 4, 5, 6, 9, 10, 2, 1, 2, 3, 4, 5, 6, 7, 8, 9, 10, 1, 3, 4, 5, 6, 7, 8, 9, 10, 1, 2, 3, 4, 5, 6, 7, 8, 9, 10, 1, 3, 4, 5, 7, 9, 10, 6, 1, 3, 6, 8, 2, 5, 6, 7, 9, 10, 7, 10, 1, 3, 5, 7, 8, 9, 1, 2, 3, 4, 5, 6, 7, 8, 9, 10, 8, 1, 3, 4, 5, 7, 9, 10, 1, 2, 3, 4, 6, 7, 8, 9, 10, 9, 5, 1, 2, 3, 6, 7, 10, 1, 1, 2, 3, 4, 7, 9, 10, 3, 5, 1, 3, 5, 6, 9, 10, 3, 4, 6, 1, 3, 4, 7, 6, 10, 6, 10, 7, 2, 1, 2, 3, 4, 5, 6, 7, 8, 9, 10, 3, 7, 3, 6, 7, 9, 1, 2, 3, 4, 5, 6, 7, 8, 9, 10, 1, 2, 5, 1, 3, 4, 7, 4, 5, 10, 1, 1, 2, 3, 5, 6, 7, 8, 9, 10, 1, 6, 10, 9, 10, 1, 8, 10, 2, 6, 1, 3, 4, 5, 6, 7, 9, 10, 7, 2, 3, 4, 5, 7, 8, 9, 10, 1, 3, 5, 6, 7, 8, 9, 10, 1, 2, 3, 4, 5, 6, 7, 8, 9, 10, 10, 2, 5, 4, 9, 10, 1, 3, 4, 5, 6, 7, 9, 10, 1, 2, 3, 4, 5, 6, 7, 8, 9, 10, 4, 7, 1, 2, 5, 6, 10, 1, 2, 6, 1, 6, 10, 1, 1, 10, 1, 10, 2, 3, 5, 7, 9, 2, 7, 3, 7, 5, 4, 10, 3, 4, 5, 6, 7, 9, 10, 2, 5, 6, 7, 8, 9, 1, 3, 5, 6, 7, 8, 10, 1, 7, 8, 2, 7, 9, 1, 2, 8, 10, 8, 1, 6, 8, 10, 6, 6, 6, 4, 5, 8, 6, 2, 3, 1, 3, 4, 5, 9, 9, 9, 4, 7, 5, 4, 10, 5, 6, 1, 2, 4, 5, 10, 1, 2, 4, 6, 2, 4, 2, 5, 4, 8, 3, 7, 5, 9, 4, 10, 7, 7, 10, 10, 7, 8, 4, 1, 6, 8, 10, 8, 1, 2, 6, 7, 9, 10, 2, 1, 3, 4, 5, 6, 7, 9, 10, 3, 8, 9, 10, 2, 3, 4, 5, 7, 1, 6, 10, 1, 2, 3, 4, 5, 8, 9, 2, 3, 4, 5, 6, 9, 2, 6, 3, 1, 6, 8, 10, 1, 4, 6, 8, 10, 1, 2, 3, 4, 5, 6, 7, 8, 9, 10, 1, 3, 5, 6, 7, 9, 10, 3, 9, 7, 4, 6, 10, 1, 2, 3, 4, 5, 6, 7, 8, 9, 10, 6, 3, 1, 10, 1, 2, 7, 3, 1, 6, 8, 10, 1, 3, 4, 8, 6, 9, 4, 8, 6, 8, 8, 9, 6, 8, 1, 2, 6, 8, 10, 1, 2, 7, 8, 10, 1, 2, 5, 8, 6, 3, 1, 2, 5, 6, 8, 10, 1, 2, 3, 5, 6, 8, 9, 10, 1, 2, 4, 6, 10, 3, 7, 9, 1, 3, 4, 1, 4, 6, 9, 10, 3, 4, 5, 1, 8, 1, 6, 8, 10, 2, 1, 5, 2, 10, 3, 4, 5, 9, 8, 2, 3, 5, 7, 10, 4, 9, 9, 9, 9, 1, 3, 4, 5, 6, 7, 8, 9, 10, 1, 2, 3, 5, 7, 8, 9, 10, 1, 5, 9, 10, 2, 8, 2, 10, 5, 2, 6, 1, 2, 6, 8, 9, 8, 9, 1, 2, 6, 8, 10, 3, 4, 10, 1, 5, 4, 5, 6, 7, 10, 9, 1, 2, 3, 4, 5, 6, 7, 8, 9, 10, 3, 1, 2, 3, 4, 5, 7, 8, 9, 10, 5, 1, 3, 4, 5, 6, 9, 8, 8, 3, 4, 5, 6, 9, 2, 4, 10, 10, 6, 2, 8, 1, 2, 3, 4, 5, 6, 7, 8, 9, 10, 2, 3, 1, 7, 1, 8, 9, 10, 8, 1, 3, 5, 6, 7, 9, 10, 1, 6, 9, 10, 4, 8, 4, 8, 9, 10, 10, 1, 2, 3, 4, 5, 7, 8, 9, 10, 1, 2, 3, 4, 5, 6, 7, 8, 9, 10, 1, 3, 4, 5, 6, 7, 8, 9, 10, 4, 4, 3, 5, 9, 1, 2, 3, 4, 5, 6, 7, 8, 9, 10, 7, 8, 9, 7, 7, 4, 4, 5, 6, 5, 1, 3, 5, 6, 7, 8, 9, 10, 10, 4, 9, 1, 2, 3, 4, 5, 7, 8, 9, 10, 6, 8, 1, 2, 6, 8, 10, 1, 6, 8, 10, 2, 9, 2, 8, 1, 2, 3, 4, 5, 6, 7, 8, 9, 10, 5, 1, 2, 3, 5, 6, 7, 8, 9, 10, 10, 1, 4, 5, 7, 4, 5, 1, 2, 5, 10, 10, 1, 2, 3, 5, 6, 7, 8, 9, 10, 8, 1, 2, 6, 8, 4, 1, 2, 5, 7, 1, 3, 4, 7, 9, 3, 7, 9, 10, 1, 2, 3, 5, 6, 7, 8, 9, 10, 6, 1, 3, 4, 5, 1, 2, 3, 4, 5, 6, 7, 8, 9, 10, 1, 2, 6, 8, 9, 3, 5, 3, 5, 6, 7, 8, 9, 10, 1, 2, 3, 4, 5, 6, 7, 8, 9, 10, 1, 2, 3, 6, 7, 9, 10, 2, 3, 2, 3, 1, 3, 5, 7, 9, 1, 3, 4, 5, 6, 9, 10, 1, 2, 3, 4, 5, 6, 7, 8, 9, 10, 2, 1, 2, 8, 10, 1, 2, 6, 8, 1, 2, 3, 4, 5, 6, 7, 8, 9, 10, 5, 9, 1], \"Freq\": [0.8634241892385689, 0.17285775196434008, 0.3355474008719543, 0.06100861834035533, 0.06100861834035533, 0.020336206113451775, 0.04067241222690355, 0.010168103056725887, 0.2542025764181472, 0.04067241222690355, 0.4505630520276043, 0.9528412706930117, 0.6236645969540279, 0.9877181588599835, 0.05071571043075728, 0.35500997301530096, 0.35500997301530096, 0.20286284172302912, 0.10253838907577414, 0.8203071126061932, 0.8634242612397001, 0.9912267153520515, 0.9442602932702675, 0.990029054027723, 0.10452229685647847, 0.19597930660589713, 0.026130574214119618, 0.0065326435535299045, 0.026130574214119618, 0.6401990682459306, 0.9582868139315464, 0.6517976411642813, 0.08394774021046367, 0.041973870105231834, 0.10493467526307959, 0.755529661894173, 0.10556131632141606, 0.8444905305713285, 0.17032890583018498, 0.030968891969124543, 0.2167822437838718, 0.030968891969124543, 0.3096889196912454, 0.24775113575299634, 0.045036323120127016, 0.005629540390015877, 0.2251816156006351, 0.005629540390015877, 0.05066586351014289, 0.03377724234009526, 0.07318402507020641, 0.005629540390015877, 0.47851093315134957, 0.07881356546022228, 0.22569651016175182, 0.6770895304852554, 0.2911986720118483, 0.044799795694130506, 0.14186601969807994, 0.014933265231376834, 0.022399897847065253, 0.059733060925507335, 0.03733316307844209, 0.03733316307844209, 0.27626540678047146, 0.0821329587725726, 0.1960278632980094, 0.1960278632980094, 0.3920557265960188, 0.0980139316490047, 0.7042403813373774, 0.23474679377912583, 0.08979984124019555, 0.48828663674356326, 0.03928743054258555, 0.06173739085263444, 0.016837470232536664, 0.028062450387561107, 0.011224980155024444, 0.19082466263541553, 0.07296237100765889, 0.09133829698085642, 0.013048328140122346, 0.3496951941552789, 0.007828996884073408, 0.03653531879234257, 0.02870632190826916, 0.0417546500483915, 0.005219331256048938, 0.3653531879234257, 0.06263197507258726, 0.9963033689073925, 0.45056329300359393, 0.46295789245245905, 0.3004377328728824, 0.08583935224939496, 0.3004377328728824, 0.06437951418704622, 0.2575180567481849, 0.11153784925659577, 0.11153784925659577, 0.40897211394085115, 0.2974342646842554, 0.03717928308553192, 0.5071507542499716, 0.40572060339997723, 0.6657722217539392, 0.22192407391797975, 0.9739734397747265, 0.018036545181013455, 0.5779769471126318, 0.04816474559271932, 0.33715321914903523, 0.04816474559271932, 0.8327580962132968, 0.17853831765409614, 0.291299360382999, 0.04698376780370951, 0.037587014242967606, 0.06577727492519331, 0.037587014242967606, 0.018793507121483803, 0.11276104272890282, 0.19733182477557995, 0.19280756953330377, 0.7712302781332151, 0.6562300945204872, 0.2187433648401624, 0.46295676436659977, 0.6842124925065692, 0.027418064421379926, 0.9596322547482974, 0.47372653907961804, 0.129198147021714, 0.08613209801447601, 0.258396294043428, 0.8480812591304411, 0.03065353948664245, 0.10217846495547483, 0.010217846495547484, 0.009417811544258031, 0.8758564736159968, 0.02825343463277409, 0.047089057721290156, 0.009417811544258031, 0.037671246177032124, 0.821271484755667, 0.9328780867690755, 0.08253105011048584, 0.08253105011048584, 0.5777173507734008, 0.08253105011048584, 0.08253105011048584, 0.9642334621595341, 0.45056243758253217, 0.06264384957065583, 0.015660962392663957, 0.1096267367486477, 0.5637946461359025, 0.031321924785327915, 0.1879315487119675, 0.031321924785327915, 0.04136446256189598, 0.08272892512379196, 0.8686537137998156, 0.3965537289686326, 0.07931074579372652, 0.15862149158745303, 0.31724298317490607, 0.07931074579372652, 0.9304314922507829, 0.18649925928235767, 0.7459970371294307, 0.02863395527139052, 0.11453582108556208, 0.8590186581417156, 0.9602474236979832, 0.4554294601324584, 0.1138573650331146, 0.02846434125827865, 0.37003643635762246, 0.02846434125827865, 0.23020457888490578, 0.6906137366547174, 0.025412793100607272, 0.9148605516218619, 0.025412793100607272, 0.025412793100607272, 0.9753896567958159, 0.7807431708216345, 0.13012386180360574, 0.7057279170652611, 0.12476746147084194, 0.03669631219730645, 0.3009097600179129, 0.05137483707622904, 0.4330164839282162, 0.05137483707622904, 0.45105885683256847, 0.04100535062114259, 0.04100535062114259, 0.45105885683256847, 0.6517645237336345, 0.5367340703181254, 0.13418351757953134, 0.2683670351590627, 0.7057337394621079, 0.651796294712473, 0.9329772735962778, 0.9439430605102982, 0.5216418019771791, 0.26082090098858957, 0.13041045049429478, 0.13041045049429478, 0.9200908211156569, 0.1180914950496903, 0.1180914950496903, 0.7085489702981418, 0.5555484096660407, 0.010100880175746195, 0.02020176035149239, 0.4040352070298478, 0.21564352952441015, 0.6469305885732305, 0.9019975081545268, 0.23513413901742347, 0.07837804633914117, 0.1959451158478529, 0.07837804633914117, 0.03918902316957058, 0.27432316218699404, 0.07837804633914117, 0.1286830530588163, 0.6434152652940816, 0.06434152652940815, 0.1286830530588163, 0.450562593303594, 0.6842143234805373, 0.7191433646728339, 0.17978584116820848, 0.06354665830322724, 0.8896532162451813, 0.5479056340026349, 0.3611196224108275, 0.012452400772787156, 0.06226200386393578, 0.987732961534508, 0.4459630952380032, 0.23784698412693503, 0.29730873015866877, 0.4505630764005009, 0.18568759839074658, 0.5570627951722398, 0.18568759839074658, 0.09903673566729514, 0.024759183916823784, 0.1485551035009427, 0.4704244944196519, 0.04951836783364757, 0.17331428741776647, 0.024759183916823784, 0.6294258379528286, 0.4505632703871272, 0.019135072721602333, 0.4209715998752513, 0.07654029088640933, 0.32529623626723964, 0.057405218164806995, 0.019135072721602333, 0.038270145443204666, 0.019135072721602333, 0.14350674528744797, 0.14350674528744797, 0.5740269811497919, 0.14350674528744797, 0.35266360545189696, 0.6347944898134145, 0.4596373597431007, 0.07660622662385011, 0.15321245324770022, 0.22981867987155036, 0.6236709787853698, 0.3548023455759946, 0.15768993136710874, 0.47306979410132616, 0.35599889962348824, 0.5339983494352324, 0.011124965613234008, 0.08899972490587206, 0.3220383956571951, 0.08050959891429878, 0.5635671924000915, 0.06487312514744796, 0.7784775017693756, 0.06487312514744796, 0.6236480777882512, 0.15686977015057552, 0.2091596935341007, 0.10457984676705034, 0.5228992338352517, 0.3899575011319312, 0.12186171910372849, 0.0243723438207457, 0.12186171910372849, 0.0243723438207457, 0.3168404696696941, 0.19609588836296424, 0.784383553451857, 0.9097267498902641, 0.922911725803179, 0.015381862096719651, 0.015381862096719651, 0.030763724193439302, 0.4167267333068277, 0.08334534666136553, 0.041672673330682766, 0.20836336665341385, 0.20836336665341385, 0.9464477477732255, 0.8240932527662636, 0.7057344624172025, 0.18972642805132295, 0.28458964207698445, 0.4743160701283074, 0.062442495409259016, 0.515150587126387, 0.15610623852314753, 0.1404956146708328, 0.10927436696620328, 0.9876740554924968, 0.6874511336029813, 0.22915037786766043, 0.976391500578394, 0.9956267290120758, 0.9406771569460767, 0.03135590523153589, 0.16599592306643937, 0.03319918461328787, 0.03319918461328787, 0.09959755383986363, 0.09959755383986363, 0.5975853230391818, 0.15489408359896892, 0.6195763343958757, 0.15489408359896892, 0.47447269967835465, 0.2644601932633452, 0.03111296391333473, 0.015556481956667366, 0.015556481956667366, 0.023334722935001048, 0.12445185565333892, 0.046669445870002095, 0.8874265089824549, 0.998980639733531, 0.989297658716427, 0.07770493577695545, 0.4489618511557426, 0.12950822629492575, 0.0690710540239604, 0.2244809255778713, 0.04316940876497525, 0.45056326838605254, 0.9236502421759697, 0.20681042273276623, 0.1378736151551775, 0.6893680757758874, 0.1859166361836866, 0.2788749542755299, 0.2788749542755299, 0.04647915904592165, 0.23239579522960824, 0.6232495970381994, 0.8312865940840837, 0.2151681620333323, 0.645504486099997, 0.5374493026881675, 0.26872465134408374, 0.8634241489350396, 0.06926003683785177, 0.900380478892073, 0.13145964714975952, 0.06572982357487976, 0.19718947072463927, 0.3286491178743988, 0.26291929429951905, 0.8747791235105313, 0.6820680345437776, 0.01550154623963131, 0.01550154623963131, 0.007750773119815655, 0.26352628607373224, 0.023252319359446962, 0.46295810879454324, 0.6517981353461904, 0.6517914278816287, 0.439579667227775, 0.11567885979678288, 0.1850861756748526, 0.06940731587806973, 0.1850861756748526, 0.40057280279679935, 0.16022912111871973, 0.17625203323059171, 0.14420620900684775, 0.1121603847831038, 0.04549580214957785, 0.22747901074788923, 0.04549580214957785, 0.04549580214957785, 0.04549580214957785, 0.22747901074788923, 0.3639664171966228, 0.057950240976858976, 0.03863349398457265, 0.03863349398457265, 0.03863349398457265, 0.057950240976858976, 0.40565168683801284, 0.34770144586115387, 0.48309610049413143, 0.0805160167490219, 0.3220640669960876, 0.04025800837451095, 0.04025800837451095, 0.4491786087321754, 0.9329440677761985, 0.6236721764825469, 0.45223424130335965, 0.22611712065167983, 0.22611712065167983, 0.9777623151631138, 0.01111093539958084, 0.9642433417578882, 0.8874276005190572, 0.9614293069659685, 0.6282862004948504, 0.29165550573834803, 0.015554960306045229, 0.1594383431369636, 0.003888740076511307, 0.03499866068860177, 0.015554960306045229, 0.015554960306045229, 0.4005402278806646, 0.062219841224180915, 0.9304325961207809, 0.27134766515578357, 0.06460658694185323, 0.20674107821393034, 0.07752790433022387, 0.051685269553482585, 0.012921317388370646, 0.1421344912720771, 0.15505580866044774, 0.4629154864223101, 0.9440874484054902, 0.12452762530845432, 0.004447415189587654, 0.2757397417544346, 0.017789660758350617, 0.07560605822299013, 0.026684491137525926, 0.3824777063045383, 0.08894830379175309, 0.09834306602063228, 0.7867445281650582, 0.9630646701143176, 0.02407661675285794, 0.1292230712252524, 0.393822693257912, 0.061534795821548756, 0.061534795821548756, 0.030767397910774378, 0.006153479582154875, 0.23383222412188526, 0.0738417549858585, 0.46295707059675995, 0.9651257901665061, 0.2804485099305612, 0.012747659542298237, 0.31869148855745594, 0.07648595725378941, 0.03824297862689471, 0.06373829771149118, 0.025495319084596475, 0.05099063816919295, 0.05099063816919295, 0.08923361679608766, 0.19747275849597895, 0.05265940226559439, 0.34228611472636356, 0.06582425283199299, 0.11848365509758738, 0.026329701132797194, 0.05265940226559439, 0.07898910339839159, 0.039494551699195794, 0.12116524380885622, 0.015145655476107028, 0.44679683654515734, 0.06058262190442811, 0.053009794166374594, 0.007572827738053514, 0.015145655476107028, 0.24990331535576596, 0.02271848321416054, 0.681817560299588, 0.16989048307039487, 0.594616690746382, 0.16989048307039487, 0.050707087638938136, 0.2281818943752216, 0.13944449100707987, 0.5704547359380541, 0.03796437445251769, 0.03796437445251769, 0.5884478040140243, 0.02847328083938827, 0.009491093613129423, 0.11389312335755308, 0.04745546806564712, 0.02847328083938827, 0.11389312335755308, 0.8861798793884176, 0.09328209256720185, 0.4629571563912818, 0.9464793506546698, 0.03785917402618679, 0.9540947405896252, 0.03669595156113943, 0.9441356054130078, 0.2575005388646596, 0.1287502694323298, 0.0643751347161649, 0.5150010777293192, 0.6818240804495782, 0.9468216647134041, 0.7852321762918244, 0.8279564816501622, 0.01577059965047928, 0.01577059965047928, 0.00788529982523964, 0.03154119930095856, 0.0394264991261982, 0.055197098776677486, 0.9003174918918737, 0.025723356911196392, 0.051446713822392784, 0.8089599478343054, 0.16179198956686108, 0.944137153396942, 0.6282864256596389, 0.6515689452143906, 0.9549156378734988, 0.028085754055102906, 0.9842485271470923, 0.6011649797409226, 0.3237042198604968, 0.06936518997010646, 0.16433497842488626, 0.041083744606221564, 0.20541872303110784, 0.5751724244871019, 0.4241525473504428, 0.3393220378803542, 0.1696610189401771, 0.5442664186367314, 0.06047404651519237, 0.36284427909115424, 0.022865552067758154, 0.0028581940084697693, 0.1657752524912466, 0.025723746076227922, 0.03144013409316746, 0.037156522110107, 0.0028581940084697693, 0.631660875871819, 0.08002943223715353, 0.023162496631251542, 0.9728248585125647, 0.628188199791034, 0.6818205398939347, 0.15080748940709263, 0.45242246822127785, 0.15080748940709263, 0.30161497881418525, 0.004862234676979092, 0.009724469353958183, 0.4473255902820764, 0.014586704030937276, 0.048622346769790915, 0.004862234676979092, 0.0632090508007282, 0.009724469353958183, 0.3452186620655155, 0.053484581446770006, 0.82302887670134, 0.14524039000611882, 0.01613782111179098, 0.09039674701875264, 0.005022041501041814, 0.23101390904792343, 0.01506612450312544, 0.03515429050729269, 0.06026449801250176, 0.025110207505209068, 0.010044083002083627, 0.38167515407917785, 0.1456392035302126, 0.9438843619278259, 0.03044788264283309, 0.09174217857281279, 0.024142678571792843, 0.23176971428921128, 0.019314142857434272, 0.02897121428615141, 0.02897121428615141, 0.02897121428615141, 0.009657071428717136, 0.47802503572149824, 0.06759950000101995, 0.12119195539134422, 0.36357586617403265, 0.4847678215653769, 0.4505634774012406, 0.007815957368162593, 0.17976701946773962, 0.015631914736325185, 0.011723936052243889, 0.01953989342040648, 0.011723936052243889, 0.7229760565550398, 0.03517180815673167, 0.9633243514660629, 0.9739306264674122, 0.038055618988379385, 0.6723159354613691, 0.012685206329459795, 0.10148165063567836, 0.02537041265891959, 0.02537041265891959, 0.12685206329459794, 0.9462606177161966, 0.3134903644504126, 0.026124197037534387, 0.07837259111260315, 0.026124197037534387, 0.1567451822252063, 0.3918629555630158, 0.8874286391551236, 0.4629564404867356, 0.7550641946735098, 0.22651925840205295, 0.2802793528676084, 0.6166145763087385, 0.056055870573521675, 0.9639715680081209, 0.009941112284793888, 0.09941112284793889, 0.029823336854381665, 0.805230095068305, 0.049705561423969445, 0.20633843599802273, 0.017686151656973376, 0.3714091847964409, 0.053058454970920134, 0.0707446066278935, 0.03537230331394675, 0.02947691942828896, 0.10611690994184027, 0.11201229382749806, 0.2543253332171422, 0.025432533321714218, 0.46626311089809397, 0.07629759996514265, 0.03391004442895229, 0.025432533321714218, 0.008477511107238073, 0.04238755553619036, 0.06782008885790458, 0.05847463760086554, 0.05847463760086554, 0.011694927520173109, 0.023389855040346217, 0.023389855040346217, 0.03508478256051933, 0.7484753612910789, 0.046779710080692434, 0.41942298010249546, 0.23967027434428312, 0.05991756858607078, 0.23967027434428312, 0.20413458954228614, 0.021487851530766964, 0.18801870089421094, 0.010743925765383482, 0.005371962882691741, 0.09132336900575959, 0.03223177729615045, 0.005371962882691741, 0.3706654389057301, 0.06983551747499263, 0.7852361382389036, 0.7959722302042435, 0.1591944460408487, 0.35067973673865016, 0.07013594734773003, 0.42081568408638015, 0.14027189469546006, 0.22575777684002543, 0.07525259228000847, 0.11287888842001272, 0.037626296140004234, 0.33863666526003816, 0.07525259228000847, 0.11287888842001272, 0.9439951794111372, 0.2788505417175883, 0.061966787048352956, 0.030983393524176478, 0.1549169676208824, 0.12393357409670591, 0.015491696762088239, 0.10844187733461767, 0.17040866438297061, 0.04647509028626472, 0.21085935457719185, 0.6325780637315755, 0.10542967728859592, 0.930440774028792, 0.9528406630713144, 0.4629510798697568, 0.13587767848192098, 0.13587767848192098, 0.6793883924096049, 0.9377139458418635, 0.5750156874182483, 0.1642901964052138, 0.22589902005716897, 0.8322675691568087, 0.05548450461045391, 0.11096900922090781, 0.01716389359442562, 0.677973796979812, 0.06865557437770248, 0.025745840391638432, 0.19738477633589463, 0.44917855520468086, 0.1586566444317746, 0.1586566444317746, 0.6346265777270984, 0.39690199100176493, 0.22050110611209162, 0.132300663667255, 0.132300663667255, 0.04410022122241832, 0.04410022122241832, 0.04410022122241832, 0.0656712501233836, 0.2626850004935344, 0.3940275007403015, 0.2626850004935344, 0.9146741026316512, 0.7057335061616062, 0.6828761985106696, 0.02438843566109534, 0.04877687132219068, 0.1707190496276674, 0.07316530698328602, 0.4505635059340713, 0.4610332213689732, 0.4610332213689732, 0.6282886679067016, 0.277220215488593, 0.554440430977186, 0.14361001599789017, 0.14361001599789017, 0.07180500799894508, 0.5026350559926156, 0.07180500799894508, 0.07180500799894508, 0.8874262650428366, 0.5071242702904559, 0.16904142343015197, 0.16904142343015197, 0.41269062801330586, 0.41269062801330586, 0.8358018030240593, 0.06023351942169336, 0.06023351942169336, 0.36140111653016016, 0.5421016747952403, 0.7678431828410748, 0.15356863656821496, 0.9481215126339962, 0.8186491745537015, 0.0025824895096331272, 0.06714472725046132, 0.023242405586698146, 0.08780464332752633, 0.7490605425983843, 0.28959968994719576, 0.7239992248679894, 0.10722773342857375, 0.8846288007857335, 0.987222691736431, 0.9981139082225479, 0.4505632392656306, 0.2105377851374868, 0.010025608816070801, 0.020051217632141603, 0.7619462700213808, 0.14875969721407065, 0.26032947012462365, 0.03718992430351766, 0.14875969721407065, 0.4090891673386943, 0.6932127315986515, 0.1386425463197303, 0.05199095486989886, 0.08665159144983144, 0.017330318289966288, 0.9312817216520803, 0.01337793967536929, 0.01337793967536929, 0.01337793967536929, 0.9498337169512195, 0.01337793967536929, 0.18060740338130796, 0.01747813581109432, 0.15730322229984886, 0.01747813581109432, 0.05826045270364773, 0.03495627162218864, 0.005826045270364772, 0.005826045270364772, 0.5010398932513704, 0.029130226351823864, 0.16366524975514812, 0.008321961851956685, 0.2746247411145706, 0.0027739872839855615, 0.04993177111174011, 0.024965885555870055, 0.044383796543768984, 0.38558423247399304, 0.044383796543768984, 0.4505630775302277, 0.6517971707268608, 0.12532322002830304, 0.12532322002830304, 0.6266161001415151, 0.42162642230264075, 0.01686505689210563, 0.3035710240579013, 0.16865056892105632, 0.08432528446052816, 0.09699249001653462, 0.5073453323941811, 0.007460960770502663, 0.029843843082010654, 0.029843843082010654, 0.13429729386904793, 0.007460960770502663, 0.1417582546395506, 0.04476576462301598, 0.7516278062228855, 0.8924955495118775, 0.05578097184449234, 0.4629579097302119, 0.27045226433133024, 0.16576106523533143, 0.017448533182666467, 0.12213973227866527, 0.0523455995479994, 0.008724266591333234, 0.017448533182666467, 0.25300373114866376, 0.09596693250466556, 0.26927506704539245, 0.20195630028404435, 0.4712313673294368, 0.11882136388972217, 0.11882136388972217, 0.03960712129657406, 0.4356783342623146, 0.03960712129657406, 0.03960712129657406, 0.23764272777944434, 0.9731457378035038, 0.7549799200511488, 0.867525036722928, 0.06673269513253292, 0.0938334023791632, 0.0117291752973954, 0.4457086613010252, 0.0117291752973954, 0.0293229382434885, 0.0410521135408839, 0.0703750517843724, 0.234583505947908, 0.0703750517843724, 0.7852290657746198, 0.5374514055731994, 0.2687257027865997, 0.12246889387864522, 0.011133535807149566, 0.3228725384073374, 0.044534143228598264, 0.14473596549294435, 0.044534143228598264, 0.022267071614299132, 0.11133535807149565, 0.16700303710724348, 0.8020481420380738, 0.014582693491601342, 0.014582693491601342, 0.14582693491601342, 0.06000022247899446, 0.006666691386554941, 0.30333445808824977, 0.01666672846638735, 0.038333475472690906, 0.005000018539916206, 0.038333475472690906, 0.008333364233193676, 0.5050018725315367, 0.018333401313026087, 0.13704369502789446, 0.6852184751394722, 0.3685791375446709, 0.07371582750893418, 0.07371582750893418, 0.07371582750893418, 0.3685791375446709, 0.2222376000595291, 0.4074356001091367, 0.037039600009921514, 0.2963168000793721, 0.07407920001984303, 0.07205430799319172, 0.021616292397957516, 0.2305737855782135, 0.021616292397957516, 0.050438015595234205, 0.007205430799319172, 0.5692290331462146, 0.02882172319727669, 0.45056274327282547, 0.11178942890273585, 0.034022869666050046, 0.32564746680362183, 0.009720819904585726, 0.04374368957063577, 0.024302049761464318, 0.07290614928439296, 0.009720819904585726, 0.28676418718527896, 0.08262696918897867, 0.09421490241417231, 0.26851247188039107, 0.028264470724251693, 0.056528941448503386, 0.018842980482834462, 0.047107451207086155, 0.018842980482834462, 0.428677805984484, 0.037685960965668924, 0.09133742060115353, 0.011417177575144192, 0.18267484120230706, 0.030445806867051176, 0.022834355150288383, 0.019028629291906986, 0.034251532725432576, 0.003805725858381397, 0.536607346031777, 0.06850306545086515, 0.031026577237870286, 0.5688205826942886, 0.010342192412623429, 0.010342192412623429, 0.05171096206311714, 0.29992357996607943, 0.031026577237870286, 0.8312429797989286, 0.9324376921611651, 0.04277237120005345, 0.00855447424001069, 0.00855447424001069, 0.01151393408311507, 0.05756967041557535, 0.01151393408311507, 0.04605573633246028, 0.81748931990117, 0.05756967041557535, 0.6517978231335866, 0.8874280359582838, 0.048279135061926125, 0.14483740518577837, 0.048279135061926125, 0.5310704856811873, 0.09655827012385225, 0.048279135061926125, 0.15880403595451403, 0.020713569907110527, 0.20713569907110527, 0.020713569907110527, 0.06214070972133158, 0.06904523302370175, 0.03452261651185087, 0.04142713981422105, 0.28998997869954735, 0.09666332623318245, 0.4491788260666166, 0.044130528268813585, 0.6325375718529948, 0.03922713623894541, 0.019613568119472704, 0.11277801668696806, 0.14219836886617712, 0.014710176089604529, 0.2753309796335344, 0.009494171711501187, 0.33229600990254154, 0.018988343423002374, 0.06645920198050831, 0.05696503026900712, 0.06645920198050831, 0.08544754540351068, 0.08544754540351068, 0.9850519514304469, 0.9467881293139454, 0.7851887644950191, 0.009025158212586426, 0.027075474637759278, 0.06317610748810498, 0.009025158212586426, 0.10830189855103711, 0.9464084657049555, 0.06548888543170926, 0.008186110678963658, 0.1146055495054912, 0.016372221357927316, 0.03274444271585463, 0.7121916290698382, 0.0573027747527456, 0.9559412906384267, 0.6282857001296959, 0.0989269181072074, 0.0989269181072074, 0.0989269181072074, 0.026980068574692928, 0.638528289601066, 0.026980068574692928, 0.5687382918868815, 0.379158861257921, 0.9375501872656323, 0.04827016834446066, 0.8205928618558312, 0.02413508417223033, 0.09654033668892131, 0.8027997048063252, 0.14596358269205914, 0.7403688888066193, 0.24678962960220643, 0.6423809593439967, 0.4505627131627857, 0.34764430734992613, 0.017981602104306525, 0.34764430734992613, 0.029969336840510875, 0.017981602104306525, 0.0239754694724087, 0.01198773473620435, 0.01198773473620435, 0.17382215367496306, 0.017981602104306525, 0.8719749580588496, 0.1260686686350144, 0.9791367206383268, 0.6236712869435026, 0.874778979894639, 0.9592172728124159, 0.5280393727172266, 0.024001789668964844, 0.21601610702068358, 0.024001789668964844, 0.01600119311264323, 0.01600119311264323, 0.024001789668964844, 0.01600119311264323, 0.0560041758942513, 0.08800656211953777, 0.5206080210160893, 0.34707201401072624, 0.08676800350268156, 0.9651254340440348, 0.924911603786951, 0.035212370702548894, 0.03990735346288875, 0.46295818718493664, 0.14838417367658097, 0.7419208683829048, 0.965125563467287, 0.19926032239517952, 0.011070017910843307, 0.2380053850831311, 0.027675044777108266, 0.01660502686626496, 0.01660502686626496, 0.03321005373252992, 0.42066068061204565, 0.038745062687951574, 0.49319366490192523, 0.4623690608455549, 0.030824604056370327, 0.9470790351771021, 0.02959621984928444, 0.5391520248672994, 0.24506910221240882, 0.19605528176992706, 0.6779797028757509, 0.22599323429191695, 0.13595128465356207, 0.24558941743869278, 0.02192762655702614, 0.02192762655702614, 0.008771050622810457, 0.008771050622810457, 0.5262630373686273, 0.02631315186843137, 0.6517972449102167, 0.005869086390619039, 0.5751704662806658, 0.023476345562476155, 0.011738172781238078, 0.07629812307804751, 0.01760725917185712, 0.29345431953095197, 0.005869086390619039, 0.3415092347426647, 0.13416434222033255, 0.024393516767333194, 0.024393516767333194, 0.06098379191833298, 0.024393516767333194, 0.14636110060399915, 0.23173840928966533, 0.20081393997383168, 0.02231265999709241, 0.46112830660657644, 0.02231265999709241, 0.037187766661820686, 0.007437553332364137, 0.08925063998836964, 0.014875106664728273, 0.11156329998546205, 0.02231265999709241, 0.9137025427936319, 0.6842128144605102, 0.6282859420922626, 0.013171208119558575, 0.9614981927277759, 0.02634241623911715, 0.04532073529242935, 0.5287419117450092, 0.015106911764143117, 0.052874191174500915, 0.007553455882071559, 0.06042764705657247, 0.27947786763664767, 0.022660367646214676, 0.21873937980257535, 0.005423290408328315, 0.25670241266087357, 0.009038817347213858, 0.03977079632774097, 0.009038817347213858, 0.030731978980527114, 0.02169316163331326, 0.3127430802135995, 0.09400370041102411, 0.462956743589014, 0.8747580942402272, 0.8674292752657324, 0.011120888144432467, 0.055604440722162335, 0.04448355257772987, 0.022241776288864933, 0.9761298578828103, 0.4505623793767534, 0.7490610093780166, 0.4751598030102048, 0.4072798311516041, 0.06787997185860069, 0.9682236808502962, 0.842088447274319, 0.1443580195327404, 0.9841827000882897, 0.006787466897160618, 0.022806917654450923, 0.2508760941989601, 0.06842075296335277, 0.2052622588900583, 0.43333143543456754, 0.22103707064795108, 0.6631112119438533, 0.9484360908300685, 0.027895179142060838, 0.6282843197273265, 0.0995293514789737, 0.8957641633107633, 0.5312551590721167, 0.036892719380008106, 0.04427126325600973, 0.0073785438760016215, 0.08854252651201946, 0.2508704917840551, 0.04427126325600973, 0.09868932767502361, 0.09868932767502361, 0.19737865535004723, 0.39475731070009445, 0.09868932767502361, 0.09868932767502361, 0.6122921025296291, 0.21610309501045732, 0.04802291000232385, 0.036017182501742885, 0.024011455001161926, 0.012005727500580963, 0.036017182501742885, 0.9771141172952342, 0.8745907735530998, 0.6818206161727695, 0.4281388680760701, 0.14271295602535672, 0.28542591205071344, 0.3304491043857873, 0.26435928350862986, 0.19826946263147238, 0.13217964175431493, 0.44917871464498504, 0.4152131293430805, 0.2527384265566577, 0.1805274475404698, 0.14442195803237584, 0.6236716967907918, 0.8309546831142695, 0.622497895374046, 0.02646406752529641, 0.9527064309106709, 0.44917857751614526, 0.7490140408773436, 0.8251861296363724, 0.9328806424827659, 0.06026798146335966, 0.12053596292671932, 0.180803944390079, 0.06026798146335966, 0.5725458239019168, 0.9758338296801967, 0.9905196422010868, 0.5577234345835165, 0.27886171729175824, 0.6282859371658837, 0.4629582098793441, 0.8874285414480717, 0.17877543566803333, 0.7151017426721333, 0.7996812062551443, 0.05712008616108173, 0.022848034464432693, 0.022848034464432693, 0.09139213785773077, 0.22113183467039607, 0.22113183467039607, 0.44226366934079214, 0.6233600779898847, 0.4505623744474776, 0.8552119734061963, 0.4505628219416029, 0.6282859533026495, 0.4629566134836865, 0.6818205930191007, 0.9041358161412701, 0.04109708255187591, 0.6282864897689223, 0.9739253351630263, 0.46295812477649617, 0.94413710168247, 0.6517983658882923, 0.6517982880615218, 0.8874276220597547, 0.8874276055942795, 0.6517942729850593, 0.44917883928864233, 0.46295822124950814, 0.6649254573878942, 0.25574056053380545, 0.017049370702253697, 0.051148112106761096, 0.4491783938327866, 0.47491632306440756, 0.1978818012768365, 0.1583054410214692, 0.0791527205107346, 0.0395763602553673, 0.0395763602553673, 0.9236461736519916, 0.1497217128777895, 0.2686183672219164, 0.02642147874313932, 0.09247517560098763, 0.03963221811470898, 0.06165011706732508, 0.2862326863840093, 0.07486085643889474, 0.20267968623810018, 0.40535937247620035, 0.20267968623810018, 0.13511979082540013, 0.025663801613312297, 0.5902674371061828, 0.1283190080665615, 0.07699140483993688, 0.17964661129318607, 0.2748670746381183, 0.12493957938096287, 0.5747220651524292, 0.01310302362954619, 0.02620604725909238, 0.3668846616272933, 0.14413325992500808, 0.03930907088863857, 0.05241209451818476, 0.3537816379977471, 0.06184829210229335, 0.18554487630688005, 0.1236965842045867, 0.4329380447160534, 0.1236965842045867, 0.06184829210229335, 0.537449078658433, 0.2687245393292165, 0.97111087890244, 0.015093280040593338, 0.7848505621108536, 0.015093280040593338, 0.18111936048712005, 0.1752530559251849, 0.2628795838877773, 0.08762652796259245, 0.2628795838877773, 0.08762652796259245, 0.026162429295715082, 0.03488323906095344, 0.3575532003747728, 0.0436040488261918, 0.10464971718286033, 0.00872080976523836, 0.061045668356668525, 0.00872080976523836, 0.3052283417833426, 0.0436040488261918, 0.15144725165972828, 0.27535863938132416, 0.06195569386079793, 0.020651897953599313, 0.06883965984533104, 0.33731433324212207, 0.08260759181439725, 0.018608924049019527, 0.9676640505490154, 0.9390276018377621, 0.44485032132077235, 0.22242516066038617, 0.22242516066038617, 0.07781614490398135, 0.0038908072451990672, 0.2490116636927403, 0.011672421735597202, 0.06614372316838414, 0.05058049418758787, 0.054471301432786945, 0.0038908072451990672, 0.4163163752363002, 0.07003453041358321, 0.6236802126723349, 0.9641885874964293, 0.9417078277926803, 0.03247268371698898, 0.9320897450593804, 0.02452867750156264, 0.02452867750156264, 0.9766326870924101, 0.4445439666602534, 0.3056239770789242, 0.08335199374879751, 0.16670398749759502, 0.21539714415815586, 0.10769857207907793, 0.10769857207907793, 0.5384928603953897, 0.695509417117214, 0.1738773542793035, 0.5648163132834789, 0.28240815664173946, 0.3819096988508969, 0.5728645482763453, 0.6818207797455985, 0.9739205254897259, 0.840860930467694, 0.0840860930467694, 0.2652874796184632, 0.06029260900419618, 0.036175565402517706, 0.24117043601678473, 0.39793121942769477, 0.35761069723365035, 0.11920356574455011, 0.03973452191485004, 0.3973452191485004, 0.03973452191485004, 0.11942211216181241, 0.11942211216181241, 0.23884422432362482, 0.47768844864724963, 0.8928303055536212, 0.9468055050309437, 0.46508001852745434, 0.0020309171114736, 0.0040618342229472, 0.18684437425557118, 0.020309171114736, 0.32291582072430236, 0.4657911549139684, 0.05094590756871529, 0.0655018811597768, 0.014555973591061512, 0.08005785475083832, 0.03638993397765378, 0.18922765668379965, 0.10189181513743058, 0.9900729330497892, 0.007674983977130148, 0.6144400997858495, 0.15361002494646236, 0.15361002494646236, 0.8984037032535448, 0.04083653196607022, 0.04083653196607022, 0.13632870032463365, 0.8179722019478018, 0.02726574006492673, 0.20429026757256114, 0.029184323938937305, 0.17510594363362383, 0.029184323938937305, 0.5545021548398088, 0.2907456386650149, 0.14537281933250745, 0.5814912773300298, 0.9572927177677063, 0.029455160546698656, 0.060565004204277365, 0.04037666946951825, 0.020188334734759124, 0.8680983935946422, 0.7946004188312643, 0.9841004366162309, 0.6282859025100206, 0.13328564170271198, 0.799713850216272, 0.06759607193943612, 0.3379803596971806, 0.3379803596971806, 0.20278821581830836, 0.44917880721710385, 0.4191306032808597, 0.2794204021872398, 0.1397102010936199, 0.7212018881820854, 0.14424037763641706, 0.4629575431611613, 0.9823898840939828, 0.9947170510585536, 0.996650730170849, 0.9943537752060044, 0.16473034432672173, 0.2823948759886658, 0.009413162532955528, 0.014119743799433291, 0.014119743799433291, 0.023532906332388817, 0.004706581266477764, 0.4518318015818653, 0.03765265013182211, 0.04029070692570997, 0.020145353462854985, 0.1208721207771299, 0.04029070692570997, 0.20145353462854984, 0.020145353462854985, 0.4834884831085196, 0.06043606038856495, 0.2690592083168809, 0.48430657497038565, 0.10762368332675236, 0.16143552499012853, 0.45056274099933696, 0.44917858635855773, 0.450563408788554, 0.8874275635272857, 0.6282860196044215, 0.45056327306419847, 0.8925954641040352, 0.5806961504959431, 0.14517403762398579, 0.14517403762398579, 0.05806961504959431, 0.05806961504959431, 0.6667021834987336, 0.1666755458746834, 0.40373935951045004, 0.10317783631933723, 0.1390657793869328, 0.10317783631933723, 0.2512156014731689, 0.31680464236159855, 0.4752069635423978, 0.15840232118079928, 0.1752194466824398, 0.7008777867297592, 0.09149868428466641, 0.5489921057079985, 0.09149868428466641, 0.18299736856933282, 0.09149868428466641, 0.993098560891681, 0.1604376364953472, 0.005942134685012859, 0.1604376364953472, 0.01782640405503858, 0.01782640405503858, 0.05942134685012859, 0.011884269370025718, 0.01782640405503858, 0.4159494279509001, 0.13666909775529576, 0.9328791389901353, 0.2079959757519232, 0.0074284277054258285, 0.5497036502015114, 0.022285283116277484, 0.0519989939379808, 0.05942742164340663, 0.014856855410851657, 0.05942742164340663, 0.037142138527129144, 0.7549765479016716, 0.05302687628947671, 0.31816125773686027, 0.10605375257895341, 0.035351250859651136, 0.017675625429825568, 0.4595662611754648, 0.6818204469808781, 0.44917884954063525, 0.5144068586800606, 0.023382129940002754, 0.2104391694600248, 0.07014638982000827, 0.1636749095800193, 0.45056219849488477, 0.462956936367103, 0.8874275472406467, 0.7854228640166798, 0.6236719389239312, 0.19797936724456225, 0.791917468978249, 0.1335308931993201, 0.01335308931993201, 0.20697288445894615, 0.033382723299830025, 0.046735812619762035, 0.08679508057955806, 0.020029633979898015, 0.006676544659966005, 0.34718032231823226, 0.10014816989949007, 0.8375969169442324, 0.10469961461802905, 0.42976930524074436, 0.5469791157609474, 0.10442800021571838, 0.05221400010785919, 0.20885600043143676, 0.6265680012943103, 0.9201020061907043, 0.11309115114952568, 0.15550033283059783, 0.02827278778738142, 0.02827278778738142, 0.007068196946845355, 0.5654557557476284, 0.09895475725583498, 0.8914572240395068, 0.03991599510624657, 0.01330533170208219, 0.05322132680832876, 0.4629573600454339, 0.44917850734380077, 0.4983822955336948, 0.16612743184456494, 0.16612743184456494, 0.16612743184456494, 0.9441791931108817, 0.08660797942221259, 0.009623108824690288, 0.3079394823900892, 0.004811554412345144, 0.06255020736048687, 0.04811554412345144, 0.004811554412345144, 0.43303989711106294, 0.03849243529876115, 0.13267522780721974, 0.017009644590669195, 0.21432152184243186, 0.037421218099472235, 0.05102893377200759, 0.003401928918133839, 0.037421218099472235, 0.013607715672535357, 0.45245654611180064, 0.037421218099472235, 0.1599815591679054, 0.24797141671025338, 0.01599815591679054, 0.05599354570876689, 0.11198709141753378, 0.08798985754234798, 0.03199631183358108, 0.19197787100148647, 0.09598893550074324, 0.46295750541575764, 0.4629570883202365, 0.9328797301878123, 0.629421365764537, 0.966216302442272, 0.15627557622989818, 0.011575968609622088, 0.2083674349731976, 0.01446996076202761, 0.10707770963900431, 0.017363952914433132, 0.034727905828866264, 0.023151937219244176, 0.3704309955079068, 0.0520918587432994, 0.16543708644979901, 0.6617483457991961, 0.16543708644979901, 0.6517984291978298, 0.6517984347474015, 0.46295702842043823, 0.16036063196561876, 0.641442527862475, 0.16036063196561876, 0.8409246594147511, 0.16944437885437535, 0.22295313007154652, 0.044590626014309305, 0.02675437560858558, 0.05350875121717116, 0.008918125202861862, 0.321052507303027, 0.15160812844865165, 0.8874281156806504, 0.4629551930889009, 0.9569636210883465, 0.26601891175313036, 0.06650472793828259, 0.27931985734078685, 0.05320378235062607, 0.013300945587656517, 0.03990283676296955, 0.06650472793828259, 0.05320378235062607, 0.17291229263953473, 0.7262080109126796, 0.1815520027281699, 0.34488040991972274, 0.07185008539994224, 0.05748006831995379, 0.08622010247993069, 0.4311005123996534, 0.5676721282395797, 0.2358022686533639, 0.09606759093285196, 0.09606759093285196, 0.45056351216666446, 0.953964469655016, 0.17377452037227206, 0.6950980814890882, 0.1526359143528499, 0.012719659529404157, 0.3434308072939123, 0.025439319058808314, 0.0317991488235104, 0.05723846788231871, 0.07631795717642495, 0.012719659529404157, 0.1780752334116582, 0.10811710599993535, 0.628194971145042, 0.24560139376591264, 0.016650941950231365, 0.23727592279079696, 0.05411556133825194, 0.045790090363136256, 0.09158018072627251, 0.016650941950231365, 0.24560139376591264, 0.041627354875578414, 0.823944572814602, 0.04592355880608393, 0.1377706764182518, 0.09184711761216786, 0.688853382091259, 0.06223223657840917, 0.9334835486761376, 0.2572439657053916, 0.5144879314107832, 0.711467873361035, 0.17786696834025875, 0.9441373485064947, 0.1572153933136168, 0.005240513110453894, 0.1624559064240707, 0.005240513110453894, 0.013101282776134733, 0.018341795886588626, 0.010481026220907788, 0.5345323372662971, 0.09170897943294314, 0.44917887472703955, 0.9941304666501738, 0.0019228829142169705, 0.0019228829142169705, 0.4491784348099635, 0.4629582576685122, 0.2572439722944481, 0.5144879445888962, 0.2168785330998136, 0.6506355992994408, 0.1240110674033594, 0.58462360347298, 0.10629520063145093, 0.1240110674033594, 0.05314760031572546, 0.8555559294664647, 0.05347224559165405, 0.05347224559165405, 0.026736122795827023, 0.5709047008402851, 0.03216364511776254, 0.12061366919160954, 0.01608182255888127, 0.11257275791216889, 0.03216364511776254, 0.040204556397203176, 0.024122733838321905, 0.04824546767664381, 0.6236279441433276, 0.17880276752106278, 0.08940138376053139, 0.17880276752106278, 0.4470069188026569, 0.18782891643001492, 0.019565512128126555, 0.30522198919877425, 0.007826204851250622, 0.05478343395875435, 0.05087033153312904, 0.015652409702501244, 0.003913102425625311, 0.25826476009127053, 0.09782756064063278, 0.24866614928286374, 0.09324980598107391, 0.40408249258465356, 0.12433307464143187, 0.12433307464143187, 0.968704634891731, 0.021058796410689803, 0.1491338707170691, 0.059653548286827646, 0.029826774143413823, 0.23861419314731058, 0.029826774143413823, 0.4175748380077935, 0.029826774143413823, 0.21449348308999705, 0.024941102684883375, 0.35416365812534395, 0.004988220536976676, 0.04489398483279008, 0.04988220536976675, 0.039905764295813405, 0.004988220536976676, 0.2244699241639504, 0.039905764295813405, 0.0557008448043711, 0.006962605600546387, 0.2854668296224019, 0.02088781680163916, 0.013925211201092774, 0.5639710536442574, 0.0557008448043711, 0.056293779882769526, 0.9007004781243124, 0.5416607721704944, 0.3611071814469962, 0.12116587677706457, 0.7673838862547423, 0.02019431279617743, 0.060582938388532286, 0.02019431279617743, 0.01846211175647865, 0.49847701742492356, 0.1107726705388719, 0.1107726705388719, 0.01846211175647865, 0.24000745283422245, 0.0369242235129573, 0.2239281294999141, 0.04146817212961372, 0.2819835704813733, 0.008293634425922744, 0.024880903277768235, 0.04976180655553647, 0.01658726885184549, 0.05805544098145921, 0.24051539835175959, 0.05805544098145921, 0.45056326276711656, 0.3287685600445467, 0.14090081144766287, 0.4227024343429886, 0.09393387429844191, 0.40075918685465695, 0.1929581270040941, 0.07421466423234388, 0.32654452262231304, 0.14749130477569675, 0.015525400502704921, 0.4968128160865575, 0.0077627002513524605, 0.05433890175946722, 0.0077627002513524605, 0.0776270025135246, 0.0077627002513524605, 0.1552540050270492, 0.015525400502704921, 0.019351435933709003, 0.9675717966854501, 0.978828698104091], \"Term\": [\"acids\", \"across\", \"across\", \"across\", \"across\", \"across\", \"across\", \"across\", \"across\", \"across\", \"activate\", \"advisers\", \"aerosols\", \"ai\", \"alley\", \"alley\", \"alley\", \"alley\", \"alliance\", \"alliance\", \"amino\", \"anakin\", \"antennae\", \"antilles\", \"anything\", \"anything\", \"anything\", \"anything\", \"anything\", \"anything\", \"apprentice\", \"arabian\", \"archyr\", \"archyr\", \"archyr\", \"archyr\", \"arcs\", \"arcs\", \"arm\", \"arm\", \"arm\", \"arm\", \"arm\", \"arm\", \"around\", \"around\", \"around\", \"around\", \"around\", \"around\", \"around\", \"around\", \"around\", \"around\", \"artillery\", \"artillery\", \"asked\", \"asked\", \"asked\", \"asked\", \"asked\", \"asked\", \"asked\", \"asked\", \"asked\", \"asked\", \"atmosphere\", \"atmosphere\", \"atmosphere\", \"atmosphere\", \"audience\", \"audience\", \"away\", \"away\", \"away\", \"away\", \"away\", \"away\", \"away\", \"away\", \"away\", \"back\", \"back\", \"back\", \"back\", \"back\", \"back\", \"back\", \"back\", \"back\", \"back\", \"bail\", \"baldric\", \"bats\", \"battle\", \"battle\", \"battle\", \"battle\", \"battle\", \"bay\", \"bay\", \"bay\", \"bay\", \"bay\", \"beach\", \"beach\", \"beams\", \"beams\", \"beatty\", \"beatty\", \"beetle\", \"beetle\", \"beetle\", \"beetle\", \"beetles\", \"behind\", \"behind\", \"behind\", \"behind\", \"behind\", \"behind\", \"behind\", \"behind\", \"behind\", \"bitters\", \"bitters\", \"blackened\", \"blackened\", \"bloodlust\", \"blunt\", \"bob\", \"bob\", \"bolts\", \"bolts\", \"bolts\", \"bolts\", \"book\", \"book\", \"book\", \"book\", \"books\", \"books\", \"books\", \"books\", \"books\", \"books\", \"booster\", \"border\", \"bottom\", \"bottom\", \"bottom\", \"bottom\", \"bottom\", \"bowles\", \"boxcar\", \"boy\", \"boy\", \"boy\", \"boy\", \"boy\", \"boy\", \"boy\", \"boys\", \"boys\", \"boys\", \"brain\", \"brain\", \"brain\", \"brain\", \"brain\", \"breha\", \"bridges\", \"bridges\", \"brudi\", \"brudi\", \"brudi\", \"buddy\", \"building\", \"building\", \"building\", \"building\", \"building\", \"bulkhead\", \"bulkhead\", \"burn\", \"burn\", \"burn\", \"burn\", \"burnt\", \"bus\", \"bus\", \"bushes\", \"ca\", \"ca\", \"ca\", \"ca\", \"ca\", \"ca\", \"cabin\", \"cabin\", \"cabin\", \"cabin\", \"caesarians\", \"camera\", \"camera\", \"camera\", \"cameras\", \"camps\", \"candle\", \"cannon\", \"cannons\", \"cannons\", \"cannons\", \"cannons\", \"canopy\", \"captive\", \"captive\", \"captive\", \"car\", \"car\", \"car\", \"car\", \"cargo\", \"cargo\", \"carol\", \"carried\", \"carried\", \"carried\", \"carried\", \"carried\", \"carried\", \"carried\", \"cash\", \"cash\", \"cash\", \"cash\", \"celana\", \"centered\", \"charles\", \"charles\", \"charlie\", \"charlie\", \"chatak\", \"chatak\", \"chatak\", \"chatak\", \"cherry\", \"chewbacca\", \"chewbacca\", \"chewbacca\", \"chieftain\", \"childhood\", \"childhood\", \"childhood\", \"children\", \"children\", \"children\", \"children\", \"children\", \"children\", \"children\", \"chill\", \"chuckled\", \"city\", \"city\", \"city\", \"city\", \"city\", \"city\", \"city\", \"city\", \"cliffs\", \"cliffs\", \"cliffs\", \"cliffs\", \"climber\", \"climber\", \"cloakshape\", \"cloakshape\", \"cloakshape\", \"cloakshape\", \"colt\", \"comlink\", \"comlink\", \"comlink\", \"commander\", \"commander\", \"commander\", \"commander\", \"commando\", \"commando\", \"commando\", \"commandos\", \"commandos\", \"commandos\", \"commenced\", \"communications\", \"communications\", \"communications\", \"communications\", \"control\", \"control\", \"control\", \"control\", \"control\", \"control\", \"copilot\", \"copilot\", \"corporate\", \"coruscant\", \"coruscant\", \"coruscant\", \"coruscant\", \"craft\", \"craft\", \"craft\", \"craft\", \"craft\", \"crimson\", \"crisscrossed\", \"critics\", \"cruiser\", \"cruiser\", \"cruiser\", \"cudgel\", \"cudgel\", \"cudgel\", \"cudgel\", \"cudgel\", \"dad\", \"daddy\", \"daddy\", \"dallas\", \"dally\", \"damn\", \"damn\", \"dancer\", \"dancer\", \"dancer\", \"dancer\", \"dancer\", \"dancer\", \"dancing\", \"dancing\", \"dancing\", \"dark\", \"dark\", \"dark\", \"dark\", \"dark\", \"dark\", \"dark\", \"dark\", \"darrel\", \"darry\", \"darth\", \"day\", \"day\", \"day\", \"day\", \"day\", \"day\", \"debate\", \"del\", \"denham\", \"denham\", \"denham\", \"destroyer\", \"destroyer\", \"destroyer\", \"destroyer\", \"destroyer\", \"detonated\", \"detonators\", \"dim\", \"dim\", \"disable\", \"disable\", \"dislike\", \"dix\", \"dix\", \"docking\", \"docking\", \"docking\", \"docking\", \"docking\", \"dollars\", \"door\", \"door\", \"door\", \"door\", \"door\", \"door\", \"doorknob\", \"doorknobs\", \"downstream\", \"droid\", \"droid\", \"droid\", \"droid\", \"droid\", \"droids\", \"droids\", \"droids\", \"droids\", \"droids\", \"drop\", \"drop\", \"drop\", \"drop\", \"drop\", \"drop\", \"drop\", \"drunk\", \"drunk\", \"drunk\", \"drunk\", \"drunk\", \"drunk\", \"drunk\", \"dust\", \"dust\", \"dust\", \"dust\", \"dust\", \"eagerness\", \"ecclesiastes\", \"ecds\", \"elm\", \"elm\", \"elm\", \"emperor\", \"emperor\", \"emptiness\", \"ensign\", \"esposa\", \"europe\", \"even\", \"even\", \"even\", \"even\", \"even\", \"even\", \"even\", \"even\", \"even\", \"events\", \"everyone\", \"everyone\", \"everyone\", \"everyone\", \"everyone\", \"everyone\", \"everyone\", \"everyone\", \"exhausted\", \"exit\", \"eyes\", \"eyes\", \"eyes\", \"eyes\", \"eyes\", \"eyes\", \"eyes\", \"eyes\", \"eyl\", \"eyl\", \"faber\", \"faber\", \"face\", \"face\", \"face\", \"face\", \"face\", \"face\", \"face\", \"face\", \"familiarity\", \"fang\", \"far\", \"far\", \"far\", \"far\", \"far\", \"far\", \"far\", \"far\", \"far\", \"far\", \"fell\", \"fell\", \"fell\", \"fell\", \"fell\", \"fell\", \"fell\", \"fell\", \"fell\", \"felt\", \"felt\", \"felt\", \"felt\", \"felt\", \"felt\", \"felt\", \"felt\", \"felt\", \"females\", \"fence\", \"fence\", \"fence\", \"filli\", \"filli\", \"filli\", \"filli\", \"fire\", \"fire\", \"fire\", \"fire\", \"fire\", \"fire\", \"fire\", \"fire\", \"fire\", \"firehouse\", \"firehouse\", \"firelight\", \"fireman\", \"fireman\", \"firemen\", \"firemen\", \"firm\", \"flat\", \"flat\", \"flat\", \"flat\", \"flattening\", \"flower\", \"flush\", \"force\", \"force\", \"force\", \"force\", \"force\", \"force\", \"force\", \"forte\", \"forte\", \"forte\", \"fourth\", \"fourth\", \"frequency\", \"frightening\", \"frying\", \"galaxy\", \"galaxy\", \"gang\", \"garrulan\", \"garrulan\", \"garrulan\", \"gate\", \"gate\", \"gate\", \"gate\", \"gayn\", \"gayn\", \"gayn\", \"generator\", \"generator\", \"generator\", \"get\", \"get\", \"get\", \"get\", \"get\", \"get\", \"get\", \"get\", \"get\", \"girls\", \"girls\", \"glare\", \"glide\", \"glow\", \"glow\", \"glow\", \"glow\", \"go\", \"go\", \"go\", \"go\", \"go\", \"go\", \"go\", \"go\", \"go\", \"go\", \"god\", \"god\", \"god\", \"going\", \"going\", \"going\", \"going\", \"going\", \"going\", \"going\", \"going\", \"going\", \"going\", \"gon\", \"gon\", \"good\", \"good\", \"good\", \"good\", \"good\", \"good\", \"good\", \"good\", \"good\", \"good\", \"goodbye\", \"goodbye\", \"goodbye\", \"gossams\", \"got\", \"got\", \"got\", \"got\", \"got\", \"got\", \"got\", \"got\", \"greaser\", \"greasers\", \"great\", \"great\", \"great\", \"great\", \"great\", \"great\", \"great\", \"grievous\", \"ground\", \"ground\", \"ground\", \"ground\", \"ground\", \"ground\", \"guessing\", \"gum\", \"gunship\", \"gunship\", \"gunships\", \"gunships\", \"gunships\", \"guys\", \"hair\", \"hair\", \"hair\", \"hair\", \"hair\", \"hand\", \"hand\", \"hand\", \"hand\", \"hand\", \"hand\", \"hand\", \"hand\", \"hand\", \"hands\", \"hands\", \"hands\", \"hands\", \"hands\", \"hands\", \"hands\", \"hands\", \"hands\", \"hard\", \"hard\", \"hard\", \"hard\", \"hard\", \"hard\", \"hard\", \"hard\", \"hatch\", \"hatch\", \"hatch\", \"hatch\", \"head\", \"head\", \"head\", \"head\", \"head\", \"head\", \"head\", \"head\", \"head\", \"head\", \"helen\", \"helicopter\", \"helicopter\", \"hello\", \"hello\", \"hello\", \"hello\", \"helmet\", \"helmet\", \"helmet\", \"helmet\", \"helmet\", \"helmet\", \"helmet\", \"helmeted\", \"high\", \"high\", \"high\", \"high\", \"high\", \"high\", \"high\", \"high\", \"high\", \"hills\", \"hills\", \"hills\", \"holoimage\", \"holoprojector\", \"hops\", \"host\", \"host\", \"host\", \"hotel\", \"hound\", \"hound\", \"hound\", \"hour\", \"hour\", \"hour\", \"house\", \"house\", \"house\", \"house\", \"house\", \"humbled\", \"humming\", \"humming\", \"humming\", \"hung\", \"hung\", \"hung\", \"hung\", \"hung\", \"hung\", \"hung\", \"hungry\", \"hungry\", \"hungry\", \"hungry\", \"hyperdrive\", \"icy\", \"imperial\", \"imperial\", \"imperial\", \"imperial\", \"imperial\", \"implanted\", \"incinerator\", \"incinerator\", \"insanity\", \"insects\", \"insects\", \"instant\", \"instant\", \"instant\", \"instant\", \"instant\", \"instant\", \"intelligence\", \"interceptor\", \"interceptor\", \"interceptor\", \"interdictor\", \"interdictor\", \"iodine\", \"ion\", \"ion\", \"ion\", \"ion\", \"j\", \"j\", \"jeans\", \"jedi\", \"jedi\", \"jedi\", \"jedi\", \"jedi\", \"jen\", \"jets\", \"jets\", \"jim\", \"jim\", \"john\", \"johnny\", \"johnson\", \"jula\", \"jula\", \"jula\", \"jula\", \"kachirho\", \"kachirho\", \"kachirho\", \"kachirho\", \"kachirho\", \"kashyyyk\", \"kashyyyk\", \"kashyyyk\", \"kashyyyk\", \"kashyyyk\", \"kerosene\", \"kid\", \"kid\", \"kid\", \"kid\", \"kid\", \"knew\", \"knew\", \"knew\", \"knew\", \"knew\", \"knew\", \"knew\", \"knew\", \"knew\", \"knew\", \"know\", \"know\", \"know\", \"know\", \"know\", \"know\", \"know\", \"know\", \"know\", \"lachichuk\", \"lady\", \"lake\", \"lake\", \"lake\", \"landing\", \"landing\", \"landing\", \"landing\", \"landing\", \"last\", \"last\", \"last\", \"last\", \"last\", \"last\", \"last\", \"last\", \"last\", \"launching\", \"lawn\", \"lawn\", \"leaden\", \"left\", \"left\", \"left\", \"left\", \"left\", \"left\", \"left\", \"left\", \"left\", \"leg\", \"leg\", \"leg\", \"legs\", \"legs\", \"legs\", \"legs\", \"legs\", \"legs\", \"legs\", \"leia\", \"leisure\", \"leonora\", \"leonora\", \"let\", \"let\", \"let\", \"let\", \"let\", \"let\", \"let\", \"let\", \"let\", \"letter\", \"librarian\", \"librarian\", \"light\", \"light\", \"light\", \"light\", \"light\", \"light\", \"light\", \"light\", \"light\", \"lightsaber\", \"lightsaber\", \"lightsaber\", \"lightsaber\", \"like\", \"like\", \"like\", \"like\", \"like\", \"like\", \"like\", \"like\", \"like\", \"like\", \"lilies\", \"lilies\", \"limbs\", \"limbs\", \"limbs\", \"limbs\", \"limbs\", \"lips\", \"lips\", \"lips\", \"lips\", \"lips\", \"little\", \"little\", \"little\", \"little\", \"little\", \"little\", \"little\", \"little\", \"loadlifters\", \"long\", \"long\", \"long\", \"long\", \"long\", \"long\", \"long\", \"long\", \"long\", \"long\", \"look\", \"look\", \"look\", \"look\", \"look\", \"look\", \"look\", \"look\", \"look\", \"looked\", \"looked\", \"looked\", \"looked\", \"looked\", \"looked\", \"looked\", \"looked\", \"looked\", \"looked\", \"looking\", \"looking\", \"looking\", \"looking\", \"looking\", \"looking\", \"looking\", \"loorne\", \"lord\", \"lord\", \"lord\", \"lord\", \"lot\", \"lot\", \"lot\", \"lot\", \"lot\", \"lot\", \"louis\", \"luma\", \"machine\", \"machine\", \"machine\", \"machine\", \"machine\", \"machine\", \"made\", \"made\", \"made\", \"made\", \"made\", \"made\", \"made\", \"made\", \"made\", \"made\", \"magnetic\", \"man\", \"man\", \"man\", \"man\", \"man\", \"man\", \"man\", \"many\", \"many\", \"many\", \"many\", \"many\", \"many\", \"many\", \"many\", \"many\", \"marcia\", \"marshall\", \"master\", \"master\", \"master\", \"master\", \"master\", \"master\", \"masters\", \"maybe\", \"maybe\", \"maybe\", \"maybe\", \"maybe\", \"maybe\", \"maybe\", \"mcclellan\", \"meadow\", \"mean\", \"mean\", \"mean\", \"mean\", \"mean\", \"mean\", \"mechanical\", \"mechanical\", \"medcenter\", \"men\", \"men\", \"men\", \"men\", \"mercenaries\", \"mercenaries\", \"mercenary\", \"mercenary\", \"michigan\", \"midlevel\", \"might\", \"might\", \"might\", \"might\", \"might\", \"might\", \"might\", \"might\", \"might\", \"might\", \"mildred\", \"mildred\", \"millie\", \"minimum\", \"moff\", \"mom\", \"moment\", \"moment\", \"moment\", \"moment\", \"moment\", \"moment\", \"moment\", \"moment\", \"moment\", \"moment\", \"moments\", \"moments\", \"moments\", \"mon\", \"montag\", \"montag\", \"montag\", \"montags\", \"mossak\", \"mossak\", \"mothma\", \"much\", \"much\", \"much\", \"much\", \"much\", \"much\", \"much\", \"much\", \"much\", \"murkhana\", \"murkhana\", \"murkhana\", \"na\", \"na\", \"nam\", \"nam\", \"nam\", \"neatly\", \"neatly\", \"never\", \"never\", \"never\", \"never\", \"never\", \"never\", \"never\", \"never\", \"newspapers\", \"night\", \"night\", \"night\", \"night\", \"night\", \"night\", \"night\", \"night\", \"nodded\", \"nodded\", \"nodded\", \"nodded\", \"nodded\", \"nodded\", \"nodded\", \"nodded\", \"nothing\", \"nothing\", \"nothing\", \"nothing\", \"nothing\", \"nothing\", \"nothing\", \"nothing\", \"nothing\", \"nothing\", \"nullip\", \"numbered\", \"numbers\", \"okay\", \"okay\", \"okay\", \"old\", \"old\", \"old\", \"old\", \"old\", \"old\", \"old\", \"old\", \"one\", \"one\", \"one\", \"one\", \"one\", \"one\", \"one\", \"one\", \"one\", \"one\", \"onny\", \"operator\", \"order\", \"order\", \"order\", \"order\", \"order\", \"organa\", \"outrun\", \"packing\", \"padawan\", \"padawan\", \"padawan\", \"padme\", \"palace\", \"palace\", \"palpatine\", \"palpatine\", \"paper\", \"paper\", \"paper\", \"paper\", \"paper\", \"papers\", \"papers\", \"parlor\", \"parlor\", \"patients\", \"paul\", \"paul\", \"people\", \"people\", \"people\", \"people\", \"people\", \"people\", \"people\", \"perfect\", \"perfect\", \"perfect\", \"perfect\", \"perfect\", \"perfect\", \"perhaps\", \"perhaps\", \"perhaps\", \"perhaps\", \"perhaps\", \"perhaps\", \"perhaps\", \"pestage\", \"phoenix\", \"picasso\", \"pilots\", \"pilots\", \"pilots\", \"planet\", \"planet\", \"planet\", \"planet\", \"plastoid\", \"platform\", \"platform\", \"platform\", \"platform\", \"plato\", \"platoon\", \"platoons\", \"playground\", \"playground\", \"playroom\", \"plummeting\", \"pod\", \"poetry\", \"police\", \"police\", \"police\", \"police\", \"police\", \"pony\", \"ponyboy\", \"porches\", \"porches\", \"pores\", \"portable\", \"portal\", \"positions\", \"positions\", \"power\", \"power\", \"power\", \"power\", \"power\", \"pressure\", \"pressure\", \"pressure\", \"prisoner\", \"projector\", \"prophecy\", \"proton\", \"psychiatrist\", \"pump\", \"punctured\", \"rain\", \"rain\", \"random\", \"randy\", \"rarity\", \"ras\", \"rat\", \"rats\", \"readings\", \"recording\", \"reluctantly\", \"rendered\", \"represent\", \"republic\", \"republic\", \"republic\", \"republic\", \"retrofitted\", \"returned\", \"returned\", \"returned\", \"returned\", \"returned\", \"returned\", \"rey\", \"right\", \"right\", \"right\", \"right\", \"right\", \"right\", \"right\", \"right\", \"ring\", \"ring\", \"ring\", \"ring\", \"river\", \"river\", \"river\", \"river\", \"river\", \"roan\", \"roan\", \"roan\", \"running\", \"running\", \"running\", \"running\", \"running\", \"running\", \"running\", \"rushed\", \"rushed\", \"rushed\", \"rushed\", \"rushed\", \"rushed\", \"sadly\", \"sadly\", \"salamander\", \"salvo\", \"salvo\", \"salvo\", \"salvo\", \"sand\", \"sand\", \"sand\", \"sand\", \"sand\", \"saw\", \"saw\", \"saw\", \"saw\", \"saw\", \"saw\", \"saw\", \"saw\", \"saw\", \"saw\", \"say\", \"say\", \"say\", \"say\", \"say\", \"say\", \"say\", \"scared\", \"scared\", \"script\", \"seats\", \"seats\", \"seats\", \"see\", \"see\", \"see\", \"see\", \"see\", \"see\", \"see\", \"see\", \"see\", \"see\", \"seeker\", \"sefior\", \"senate\", \"senate\", \"senator\", \"senator\", \"senator\", \"senor\", \"separatist\", \"separatist\", \"separatist\", \"separatist\", \"setting\", \"setting\", \"setting\", \"setting\", \"share\", \"share\", \"sheep\", \"sheep\", \"sheer\", \"sheer\", \"shells\", \"shepard\", \"shield\", \"shield\", \"ship\", \"ship\", \"ship\", \"ship\", \"ship\", \"ships\", \"ships\", \"ships\", \"ships\", \"ships\", \"shore\", \"shore\", \"shore\", \"shore\", \"shoreline\", \"shout\", \"shryne\", \"shryne\", \"shryne\", \"shryne\", \"shryne\", \"shryne\", \"side\", \"side\", \"side\", \"side\", \"side\", \"side\", \"side\", \"side\", \"sidious\", \"sidious\", \"sieve\", \"sieve\", \"sieve\", \"silly\", \"silly\", \"silly\", \"single\", \"single\", \"single\", \"sir\", \"sir\", \"sir\", \"sir\", \"sir\", \"sister\", \"sister\", \"sister\", \"sith\", \"sith\", \"skeck\", \"skeck\", \"skeck\", \"skeck\", \"skiff\", \"skywalker\", \"slashing\", \"slicer\", \"slicer\", \"slide\", \"slide\", \"slide\", \"slide\", \"slipping\", \"smaller\", \"smaller\", \"smaller\", \"snake\", \"snake\", \"sniffing\", \"soc\", \"socs\", \"soda\", \"sodapop\", \"something\", \"something\", \"something\", \"something\", \"something\", \"something\", \"something\", \"something\", \"something\", \"sometimes\", \"sometimes\", \"sometimes\", \"sometimes\", \"sometimes\", \"sometimes\", \"sometimes\", \"sometimes\", \"son\", \"son\", \"son\", \"son\", \"sorosuub\", \"spaces\", \"spiraling\", \"squadron\", \"square\", \"stacks\", \"stairway\", \"star\", \"star\", \"star\", \"star\", \"star\", \"starboard\", \"starboard\", \"starstone\", \"starstone\", \"starstone\", \"starstone\", \"starstone\", \"state\", \"state\", \"state\", \"states\", \"states\", \"steel\", \"steel\", \"steel\", \"steel\", \"steel\", \"steve\", \"still\", \"still\", \"still\", \"still\", \"still\", \"still\", \"still\", \"still\", \"still\", \"still\", \"stoneman\", \"stood\", \"stood\", \"stood\", \"stood\", \"stood\", \"stood\", \"stood\", \"stood\", \"stood\", \"strangely\", \"street\", \"street\", \"street\", \"street\", \"street\", \"street\", \"strips\", \"suits\", \"sun\", \"sun\", \"sun\", \"sun\", \"sun\", \"sunburnt\", \"suspended\", \"sweeping\", \"swiveled\", \"syndicates\", \"tail\", \"tail\", \"take\", \"take\", \"take\", \"take\", \"take\", \"take\", \"take\", \"take\", \"take\", \"take\", \"tarfful\", \"tarfful\", \"tarkin\", \"tarkin\", \"team\", \"team\", \"team\", \"team\", \"technology\", \"tell\", \"tell\", \"tell\", \"tell\", \"tell\", \"tell\", \"tell\", \"temple\", \"temple\", \"temple\", \"temple\", \"terrace\", \"terrain\", \"terror\", \"terror\", \"terror\", \"terror\", \"thermal\", \"think\", \"think\", \"think\", \"think\", \"think\", \"think\", \"think\", \"think\", \"think\", \"thought\", \"thought\", \"thought\", \"thought\", \"thought\", \"thought\", \"thought\", \"thought\", \"thought\", \"thought\", \"three\", \"three\", \"three\", \"three\", \"three\", \"three\", \"three\", \"three\", \"three\", \"threshold\", \"throbbing\", \"thrower\", \"tightly\", \"tim\", \"time\", \"time\", \"time\", \"time\", \"time\", \"time\", \"time\", \"time\", \"time\", \"time\", \"tipped\", \"tipped\", \"tipped\", \"toast\", \"toaster\", \"togruta\", \"tom\", \"tom\", \"tom\", \"tommy\", \"took\", \"took\", \"took\", \"took\", \"took\", \"took\", \"took\", \"took\", \"tool\", \"torches\", \"tough\", \"toward\", \"toward\", \"toward\", \"toward\", \"toward\", \"toward\", \"toward\", \"toward\", \"toward\", \"towering\", \"towering\", \"transport\", \"transport\", \"transport\", \"transport\", \"transport\", \"troopers\", \"troopers\", \"troopers\", \"troopers\", \"tubes\", \"tuff\", \"turbolaser\", \"turbolaser\", \"turned\", \"turned\", \"turned\", \"turned\", \"turned\", \"turned\", \"turned\", \"turned\", \"turned\", \"turned\", \"tutor\", \"two\", \"two\", \"two\", \"two\", \"two\", \"two\", \"two\", \"two\", \"two\", \"ugan\", \"uncle\", \"uncle\", \"uncle\", \"uncle\", \"underhill\", \"underhill\", \"unduli\", \"unduli\", \"united\", \"united\", \"updated\", \"us\", \"us\", \"us\", \"us\", \"us\", \"us\", \"us\", \"us\", \"us\", \"useful\", \"vader\", \"vader\", \"vader\", \"verge\", \"viewer\", \"vos\", \"vos\", \"wad\", \"wad\", \"wall\", \"wall\", \"wall\", \"wall\", \"wall\", \"walls\", \"walls\", \"walls\", \"walls\", \"war\", \"war\", \"war\", \"war\", \"war\", \"war\", \"war\", \"war\", \"war\", \"warehouse\", \"waving\", \"waving\", \"waving\", \"waving\", \"way\", \"way\", \"way\", \"way\", \"way\", \"way\", \"way\", \"way\", \"way\", \"way\", \"weapons\", \"weapons\", \"weapons\", \"weapons\", \"weapons\", \"webb\", \"webb\", \"week\", \"week\", \"week\", \"week\", \"week\", \"week\", \"week\", \"well\", \"well\", \"well\", \"well\", \"well\", \"well\", \"well\", \"well\", \"well\", \"well\", \"went\", \"went\", \"went\", \"went\", \"went\", \"went\", \"went\", \"whisper\", \"whisper\", \"whistle\", \"whistle\", \"wife\", \"wife\", \"wife\", \"wife\", \"wife\", \"wind\", \"wind\", \"wind\", \"wind\", \"wind\", \"wind\", \"wind\", \"without\", \"without\", \"without\", \"without\", \"without\", \"without\", \"without\", \"without\", \"without\", \"without\", \"wolfe\", \"wookiee\", \"wookiee\", \"wookiee\", \"wookiee\", \"wookiees\", \"wookiees\", \"wookiees\", \"wookiees\", \"world\", \"world\", \"world\", \"world\", \"world\", \"world\", \"world\", \"world\", \"world\", \"world\", \"yeah\", \"yeah\", \"zar\"]}, \"R\": 30, \"lambda.step\": 0.01, \"plot.opts\": {\"xlab\": \"PC1\", \"ylab\": \"PC2\"}, \"topic.order\": [1, 2, 3, 4, 5, 6, 7, 8, 9, 10]};\n",
              "\n",
              "function LDAvis_load_lib(url, callback){\n",
              "  var s = document.createElement('script');\n",
              "  s.src = url;\n",
              "  s.async = true;\n",
              "  s.onreadystatechange = s.onload = callback;\n",
              "  s.onerror = function(){console.warn(\"failed to load library \" + url);};\n",
              "  document.getElementsByTagName(\"head\")[0].appendChild(s);\n",
              "}\n",
              "\n",
              "if(typeof(LDAvis) !== \"undefined\"){\n",
              "   // already loaded: just create the visualization\n",
              "   !function(LDAvis){\n",
              "       new LDAvis(\"#\" + \"ldavis_el327140046023131216294464938\", ldavis_el327140046023131216294464938_data);\n",
              "   }(LDAvis);\n",
              "}else if(typeof define === \"function\" && define.amd){\n",
              "   // require.js is available: use it to load d3/LDAvis\n",
              "   require.config({paths: {d3: \"https://d3js.org/d3.v5\"}});\n",
              "   require([\"d3\"], function(d3){\n",
              "      window.d3 = d3;\n",
              "      LDAvis_load_lib(\"https://cdn.jsdelivr.net/gh/bmabey/pyLDAvis@3.3.1/pyLDAvis/js/ldavis.v3.0.0.js\", function(){\n",
              "        new LDAvis(\"#\" + \"ldavis_el327140046023131216294464938\", ldavis_el327140046023131216294464938_data);\n",
              "      });\n",
              "    });\n",
              "}else{\n",
              "    // require.js not available: dynamically load d3 & LDAvis\n",
              "    LDAvis_load_lib(\"https://d3js.org/d3.v5.js\", function(){\n",
              "         LDAvis_load_lib(\"https://cdn.jsdelivr.net/gh/bmabey/pyLDAvis@3.3.1/pyLDAvis/js/ldavis.v3.0.0.js\", function(){\n",
              "                 new LDAvis(\"#\" + \"ldavis_el327140046023131216294464938\", ldavis_el327140046023131216294464938_data);\n",
              "            })\n",
              "         });\n",
              "}\n",
              "</script>"
            ],
            "text/plain": [
              "<IPython.core.display.HTML object>"
            ]
          },
          "metadata": {},
          "execution_count": 39
        }
      ]
    },
    {
      "cell_type": "markdown",
      "metadata": {
        "id": "QbSieLnJ4f_p"
      },
      "source": [
        "That's it! You've topic modeled 3 books, tens of thousands of words, using Gensim and HTRC Extracted Features. However, since topic modeling has a random seed, you should continue to explore by tweaking the inputs: stop words, number of topics, passes, and the random seed itself. We could also topic model while retaining the structure of the original pages/documents, or chunking our text into smaller pieces and reviewing how the results might change. Since topic modeling is really great for exploring data, we shouldn't be shy when it comes to experimenting with inputs and data. You'll never know how good results can be until you try different methods of generating them."
      ]
    },
    {
      "cell_type": "markdown",
      "metadata": {
        "id": "ZqONZLwF4f_q"
      },
      "source": [
        "**Questions about this notebook?** Contact HTRC at htrc-help@hathitrust.org\n",
        "\n",
        "CC-BY-NC 4.0 (2021)"
      ]
    }
  ]
}