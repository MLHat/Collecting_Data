{
 "cells": [
  {
   "cell_type": "markdown",
   "id": "a26026d1-889d-482d-a05b-95b8e6a9897d",
   "metadata": {},
   "source": [
    "Following Melanie Walsh Reddit tutorial"
   ]
  },
  {
   "cell_type": "code",
   "execution_count": 1,
   "id": "db90380e-194a-4e51-8919-42b8acab451c",
   "metadata": {},
   "outputs": [
    {
     "name": "stdout",
     "output_type": "stream",
     "text": [
      "Requirement already satisfied: psaw in c:\\users\\lazza\\anaconda3\\lib\\site-packages (0.1.0)\n",
      "Requirement already satisfied: requests in c:\\users\\lazza\\anaconda3\\lib\\site-packages (from psaw) (2.25.1)\n",
      "Requirement already satisfied: Click in c:\\users\\lazza\\anaconda3\\lib\\site-packages (from psaw) (7.1.2)\n",
      "Requirement already satisfied: idna<3,>=2.5 in c:\\users\\lazza\\anaconda3\\lib\\site-packages (from requests->psaw) (2.10)\n",
      "Requirement already satisfied: urllib3<1.27,>=1.21.1 in c:\\users\\lazza\\anaconda3\\lib\\site-packages (from requests->psaw) (1.26.4)\n",
      "Requirement already satisfied: certifi>=2017.4.17 in c:\\users\\lazza\\anaconda3\\lib\\site-packages (from requests->psaw) (2020.12.5)\n",
      "Requirement already satisfied: chardet<5,>=3.0.2 in c:\\users\\lazza\\anaconda3\\lib\\site-packages (from requests->psaw) (4.0.0)\n"
     ]
    }
   ],
   "source": [
    "import sys\n",
    "import csv\n",
    "import requests\n",
    "import re\n",
    "from bs4 import BeautifulSoup\n",
    "!pip install psaw"
   ]
  },
  {
   "cell_type": "code",
   "execution_count": 2,
   "id": "0069bce6-3407-4605-a62a-339a887ea180",
   "metadata": {},
   "outputs": [],
   "source": [
    "import pandas as pd\n",
    "pd.set_option('max_colwidth', 500)\n",
    "pd.set_option('max_columns', 50)"
   ]
  },
  {
   "cell_type": "code",
   "execution_count": 3,
   "id": "d75ae4a7-742c-42a3-a38f-807715df71b4",
   "metadata": {},
   "outputs": [],
   "source": [
    "from psaw import PushshiftAPI\n",
    "\n",
    "# Initialize PushShift\n",
    "api = PushshiftAPI()"
   ]
  },
  {
   "cell_type": "code",
   "execution_count": 4,
   "id": "95d1abb4-219a-4bfd-8e48-e40986671842",
   "metadata": {},
   "outputs": [],
   "source": [
    "api_request_generator = api.search_submissions(subreddit='wow',\n",
    "                                               score = \">2000\")"
   ]
  },
  {
   "cell_type": "code",
   "execution_count": 5,
   "id": "adca0adf-6702-49c1-835e-03eb62114b70",
   "metadata": {},
   "outputs": [
    {
     "name": "stderr",
     "output_type": "stream",
     "text": [
      "C:\\Users\\Lazza\\anaconda3\\lib\\site-packages\\psaw\\PushshiftAPI.py:252: UserWarning: Not all PushShift shards are active. Query results may be incomplete\n",
      "  warnings.warn(shards_down_message)\n"
     ]
    }
   ],
   "source": [
    "wow_submissions = pd.DataFrame([submission.d_ for submission in api_request_generator])"
   ]
  },
  {
   "cell_type": "code",
   "execution_count": 6,
   "id": "8f0e67f7-74a2-4f74-90c5-afde8c15a202",
   "metadata": {},
   "outputs": [
    {
     "data": {
      "text/plain": [
       "(3198, 97)"
      ]
     },
     "execution_count": 6,
     "metadata": {},
     "output_type": "execute_result"
    }
   ],
   "source": [
    "wow_submissions.shape"
   ]
  },
  {
   "cell_type": "code",
   "execution_count": 7,
   "id": "063d3fb9-fbe0-4d29-b400-15102cadd181",
   "metadata": {},
   "outputs": [
    {
     "data": {
      "text/plain": [
       "Index(['all_awardings', 'allow_live_comments', 'author',\n",
       "       'author_flair_css_class', 'author_flair_richtext',\n",
       "       'author_flair_template_id', 'author_flair_text',\n",
       "       'author_flair_text_color', 'author_flair_type', 'author_fullname',\n",
       "       'author_is_blocked', 'author_patreon_flair', 'author_premium',\n",
       "       'awarders', 'can_mod_post', 'contest_mode', 'created_utc', 'domain',\n",
       "       'full_link', 'gilded', 'gildings', 'id', 'is_created_from_ads_ui',\n",
       "       'is_crosspostable', 'is_meta', 'is_original_content',\n",
       "       'is_reddit_media_domain', 'is_robot_indexable', 'is_self', 'is_video',\n",
       "       'link_flair_background_color', 'link_flair_css_class',\n",
       "       'link_flair_richtext', 'link_flair_template_id', 'link_flair_text',\n",
       "       'link_flair_text_color', 'link_flair_type', 'locked', 'media_only',\n",
       "       'no_follow', 'num_comments', 'num_crossposts', 'over_18',\n",
       "       'parent_whitelist_status', 'permalink', 'pinned', 'post_hint',\n",
       "       'preview', 'pwls', 'retrieved_on', 'score', 'selftext', 'send_replies',\n",
       "       'spoiler', 'stickied', 'subreddit', 'subreddit_id',\n",
       "       'subreddit_subscribers', 'subreddit_type', 'thumbnail',\n",
       "       'thumbnail_height', 'thumbnail_width', 'title', 'total_awards_received',\n",
       "       'treatment_tags', 'upvote_ratio', 'url', 'url_overridden_by_dest',\n",
       "       'whitelist_status', 'wls', 'created', 'author_flair_background_color',\n",
       "       'media', 'secure_media', 'removed_by_category', 'media_embed',\n",
       "       'secure_media_embed', 'steward_reports', 'updated_utc',\n",
       "       'author_cakeday', 'og_description', 'og_title', 'crosspost_parent',\n",
       "       'crosspost_parent_list', 'edited', 'rte_mode', 'previous_visits',\n",
       "       'author_id', 'brand_safe', 'suggested_sort', 'approved_at_utc',\n",
       "       'banned_at_utc', 'view_count', 'author_created_utc', 'distinguished',\n",
       "       'mod_reports', 'user_reports'],\n",
       "      dtype='object')"
      ]
     },
     "execution_count": 7,
     "metadata": {},
     "output_type": "execute_result"
    }
   ],
   "source": [
    "wow_submissions.columns"
   ]
  },
  {
   "cell_type": "code",
   "execution_count": 8,
   "id": "3bb6df42-be59-40a7-80dd-36695849f9c0",
   "metadata": {},
   "outputs": [
    {
     "data": {
      "text/html": [
       "<div>\n",
       "<style scoped>\n",
       "    .dataframe tbody tr th:only-of-type {\n",
       "        vertical-align: middle;\n",
       "    }\n",
       "\n",
       "    .dataframe tbody tr th {\n",
       "        vertical-align: top;\n",
       "    }\n",
       "\n",
       "    .dataframe thead th {\n",
       "        text-align: right;\n",
       "    }\n",
       "</style>\n",
       "<table border=\"1\" class=\"dataframe\">\n",
       "  <thead>\n",
       "    <tr style=\"text-align: right;\">\n",
       "      <th></th>\n",
       "      <th>title</th>\n",
       "      <th>score</th>\n",
       "    </tr>\n",
       "  </thead>\n",
       "  <tbody>\n",
       "    <tr>\n",
       "      <th>2905</th>\n",
       "      <td>Draenor's Moon, it spins!</td>\n",
       "      <td>2022</td>\n",
       "    </tr>\n",
       "    <tr>\n",
       "      <th>898</th>\n",
       "      <td>Oh DBM....You sly dogs...</td>\n",
       "      <td>5682</td>\n",
       "    </tr>\n",
       "    <tr>\n",
       "      <th>250</th>\n",
       "      <td>SMH</td>\n",
       "      <td>2667</td>\n",
       "    </tr>\n",
       "    <tr>\n",
       "      <th>774</th>\n",
       "      <td>\"And as for \"this conversation should have happened during beta,\" you're right. It should have. I'm sorry it didn't.\"</td>\n",
       "      <td>3733</td>\n",
       "    </tr>\n",
       "    <tr>\n",
       "      <th>2028</th>\n",
       "      <td>me irl</td>\n",
       "      <td>3473</td>\n",
       "    </tr>\n",
       "    <tr>\n",
       "      <th>1527</th>\n",
       "      <td>Productivity.</td>\n",
       "      <td>3157</td>\n",
       "    </tr>\n",
       "    <tr>\n",
       "      <th>593</th>\n",
       "      <td>When they tell you you have to work with the Horde again</td>\n",
       "      <td>5039</td>\n",
       "    </tr>\n",
       "    <tr>\n",
       "      <th>1467</th>\n",
       "      <td>Over at r/AskReddit</td>\n",
       "      <td>6710</td>\n",
       "    </tr>\n",
       "    <tr>\n",
       "      <th>2778</th>\n",
       "      <td>What Warcraft 1's map might look like in WoW</td>\n",
       "      <td>2251</td>\n",
       "    </tr>\n",
       "    <tr>\n",
       "      <th>3013</th>\n",
       "      <td>TIL people don't like monks</td>\n",
       "      <td>3324</td>\n",
       "    </tr>\n",
       "  </tbody>\n",
       "</table>\n",
       "</div>"
      ],
      "text/plain": [
       "                                                                                                                      title  \\\n",
       "2905                                                                                              Draenor's Moon, it spins!   \n",
       "898                                                                                               Oh DBM....You sly dogs...   \n",
       "250                                                                                                                     SMH   \n",
       "774   \"And as for \"this conversation should have happened during beta,\" you're right. It should have. I'm sorry it didn't.\"   \n",
       "2028                                                                                                                 me irl   \n",
       "1527                                                                                                          Productivity.   \n",
       "593                                                                When they tell you you have to work with the Horde again   \n",
       "1467                                                                                                    Over at r/AskReddit   \n",
       "2778                                                                           What Warcraft 1's map might look like in WoW   \n",
       "3013                                                                                            TIL people don't like monks   \n",
       "\n",
       "      score  \n",
       "2905   2022  \n",
       "898    5682  \n",
       "250    2667  \n",
       "774    3733  \n",
       "2028   3473  \n",
       "1527   3157  \n",
       "593    5039  \n",
       "1467   6710  \n",
       "2778   2251  \n",
       "3013   3324  "
      ]
     },
     "execution_count": 8,
     "metadata": {},
     "output_type": "execute_result"
    }
   ],
   "source": [
    "wow_submissions[['title', 'score']].sample(10)"
   ]
  },
  {
   "cell_type": "code",
   "execution_count": 9,
   "id": "00e734a1-48f8-44af-9a92-a6adfcefc3d8",
   "metadata": {},
   "outputs": [],
   "source": [
    "wow_submissions['date'] = pd.to_datetime(wow_submissions['created_utc'], utc=True, unit='s')"
   ]
  },
  {
   "cell_type": "code",
   "execution_count": 10,
   "id": "b7debe63-ec8c-4dc1-8069-818b4599efbe",
   "metadata": {},
   "outputs": [
    {
     "data": {
      "text/html": [
       "<div>\n",
       "<style scoped>\n",
       "    .dataframe tbody tr th:only-of-type {\n",
       "        vertical-align: middle;\n",
       "    }\n",
       "\n",
       "    .dataframe tbody tr th {\n",
       "        vertical-align: top;\n",
       "    }\n",
       "\n",
       "    .dataframe thead th {\n",
       "        text-align: right;\n",
       "    }\n",
       "</style>\n",
       "<table border=\"1\" class=\"dataframe\">\n",
       "  <thead>\n",
       "    <tr style=\"text-align: right;\">\n",
       "      <th></th>\n",
       "      <th>author</th>\n",
       "      <th>date</th>\n",
       "      <th>title</th>\n",
       "      <th>selftext</th>\n",
       "      <th>url</th>\n",
       "      <th>subreddit</th>\n",
       "      <th>score</th>\n",
       "      <th>num_comments</th>\n",
       "      <th>num_crossposts</th>\n",
       "    </tr>\n",
       "  </thead>\n",
       "  <tbody>\n",
       "    <tr>\n",
       "      <th>0</th>\n",
       "      <td>shabadabadabada</td>\n",
       "      <td>2021-10-05 15:59:50+00:00</td>\n",
       "      <td>Great Work</td>\n",
       "      <td></td>\n",
       "      <td>https://i.redd.it/n2blkk3jmnr71.png</td>\n",
       "      <td>wow</td>\n",
       "      <td>2739</td>\n",
       "      <td>1321</td>\n",
       "      <td>0.0</td>\n",
       "    </tr>\n",
       "    <tr>\n",
       "      <th>1</th>\n",
       "      <td>akaval</td>\n",
       "      <td>2021-10-05 09:11:08+00:00</td>\n",
       "      <td>Suggestive Player Character Joke and Flirt Voice Lines Removed in Patch 9.1.5</td>\n",
       "      <td></td>\n",
       "      <td>https://www.wowhead.com/news/suggestive-player-character-joke-and-flirt-voice-lines-removed-in-patch-9-1-5-324416</td>\n",
       "      <td>wow</td>\n",
       "      <td>2474</td>\n",
       "      <td>3935</td>\n",
       "      <td>0.0</td>\n",
       "    </tr>\n",
       "    <tr>\n",
       "      <th>2</th>\n",
       "      <td>Bluffy_Disaster</td>\n",
       "      <td>2021-08-20 13:08:30+00:00</td>\n",
       "      <td>Getting legendary powers from Sire Denathrius is not very alt friendly.</td>\n",
       "      <td></td>\n",
       "      <td>https://i.redd.it/z5gz1ur1iii71.png</td>\n",
       "      <td>wow</td>\n",
       "      <td>2522</td>\n",
       "      <td>1026</td>\n",
       "      <td>0.0</td>\n",
       "    </tr>\n",
       "    <tr>\n",
       "      <th>3</th>\n",
       "      <td>DSjaha</td>\n",
       "      <td>2021-06-16 14:21:17+00:00</td>\n",
       "      <td>Flash concentration go brrrr</td>\n",
       "      <td></td>\n",
       "      <td>https://v.redd.it/r9y2ihjizm571</td>\n",
       "      <td>wow</td>\n",
       "      <td>2356</td>\n",
       "      <td>504</td>\n",
       "      <td>0.0</td>\n",
       "    </tr>\n",
       "    <tr>\n",
       "      <th>4</th>\n",
       "      <td>Flappycunt</td>\n",
       "      <td>2021-06-15 18:14:43+00:00</td>\n",
       "      <td>Jaina should've been voiced by JK Simmons</td>\n",
       "      <td></td>\n",
       "      <td>https://i.redd.it/rprzobkpzg571.png</td>\n",
       "      <td>wow</td>\n",
       "      <td>3118</td>\n",
       "      <td>305</td>\n",
       "      <td>0.0</td>\n",
       "    </tr>\n",
       "    <tr>\n",
       "      <th>...</th>\n",
       "      <td>...</td>\n",
       "      <td>...</td>\n",
       "      <td>...</td>\n",
       "      <td>...</td>\n",
       "      <td>...</td>\n",
       "      <td>...</td>\n",
       "      <td>...</td>\n",
       "      <td>...</td>\n",
       "      <td>...</td>\n",
       "    </tr>\n",
       "    <tr>\n",
       "      <th>3193</th>\n",
       "      <td>Hadrron</td>\n",
       "      <td>2012-11-18 01:11:18+00:00</td>\n",
       "      <td>My go on the then/now screenshot thing. This one is \\nsad. Way too sad.</td>\n",
       "      <td></td>\n",
       "      <td>http://i.imgur.com/PRMeh.jpg</td>\n",
       "      <td>wow</td>\n",
       "      <td>2203</td>\n",
       "      <td>425</td>\n",
       "      <td>NaN</td>\n",
       "    </tr>\n",
       "    <tr>\n",
       "      <th>3194</th>\n",
       "      <td>pastisset</td>\n",
       "      <td>2012-11-01 15:52:16+00:00</td>\n",
       "      <td>My friend's wedding proposal</td>\n",
       "      <td></td>\n",
       "      <td>http://imgur.com/a/Lmdm8#0</td>\n",
       "      <td>wow</td>\n",
       "      <td>2423</td>\n",
       "      <td>157</td>\n",
       "      <td>NaN</td>\n",
       "    </tr>\n",
       "    <tr>\n",
       "      <th>3195</th>\n",
       "      <td>Weison</td>\n",
       "      <td>2012-10-25 12:13:11+00:00</td>\n",
       "      <td>Oppa Warcraft Style</td>\n",
       "      <td></td>\n",
       "      <td>http://imgur.com/sbTLV</td>\n",
       "      <td>wow</td>\n",
       "      <td>2041</td>\n",
       "      <td>97</td>\n",
       "      <td>NaN</td>\n",
       "    </tr>\n",
       "    <tr>\n",
       "      <th>3196</th>\n",
       "      <td>cerlynn</td>\n",
       "      <td>2012-10-14 16:14:02+00:00</td>\n",
       "      <td>Dedication.</td>\n",
       "      <td></td>\n",
       "      <td>http://i.imgur.com/Z2qWx.jpg</td>\n",
       "      <td>wow</td>\n",
       "      <td>2917</td>\n",
       "      <td>158</td>\n",
       "      <td>NaN</td>\n",
       "    </tr>\n",
       "    <tr>\n",
       "      <th>3197</th>\n",
       "      <td>dave_casa</td>\n",
       "      <td>2012-08-16 12:48:01+00:00</td>\n",
       "      <td>Mists of Pandaria Opening Cinematic</td>\n",
       "      <td></td>\n",
       "      <td>http://www.youtube.com/watch?v=wvYXoyxLv64</td>\n",
       "      <td>wow</td>\n",
       "      <td>2003</td>\n",
       "      <td>1085</td>\n",
       "      <td>NaN</td>\n",
       "    </tr>\n",
       "  </tbody>\n",
       "</table>\n",
       "<p>3198 rows × 9 columns</p>\n",
       "</div>"
      ],
      "text/plain": [
       "               author                      date  \\\n",
       "0     shabadabadabada 2021-10-05 15:59:50+00:00   \n",
       "1              akaval 2021-10-05 09:11:08+00:00   \n",
       "2     Bluffy_Disaster 2021-08-20 13:08:30+00:00   \n",
       "3              DSjaha 2021-06-16 14:21:17+00:00   \n",
       "4          Flappycunt 2021-06-15 18:14:43+00:00   \n",
       "...               ...                       ...   \n",
       "3193          Hadrron 2012-11-18 01:11:18+00:00   \n",
       "3194        pastisset 2012-11-01 15:52:16+00:00   \n",
       "3195           Weison 2012-10-25 12:13:11+00:00   \n",
       "3196          cerlynn 2012-10-14 16:14:02+00:00   \n",
       "3197        dave_casa 2012-08-16 12:48:01+00:00   \n",
       "\n",
       "                                                                              title  \\\n",
       "0                                                                        Great Work   \n",
       "1     Suggestive Player Character Joke and Flirt Voice Lines Removed in Patch 9.1.5   \n",
       "2           Getting legendary powers from Sire Denathrius is not very alt friendly.   \n",
       "3                                                      Flash concentration go brrrr   \n",
       "4                                         Jaina should've been voiced by JK Simmons   \n",
       "...                                                                             ...   \n",
       "3193        My go on the then/now screenshot thing. This one is \\nsad. Way too sad.   \n",
       "3194                                                  My friend's wedding proposal    \n",
       "3195                                                            Oppa Warcraft Style   \n",
       "3196                                                                    Dedication.   \n",
       "3197                                            Mists of Pandaria Opening Cinematic   \n",
       "\n",
       "     selftext  \\\n",
       "0               \n",
       "1               \n",
       "2               \n",
       "3               \n",
       "4               \n",
       "...       ...   \n",
       "3193            \n",
       "3194            \n",
       "3195            \n",
       "3196            \n",
       "3197            \n",
       "\n",
       "                                                                                                                    url  \\\n",
       "0                                                                                   https://i.redd.it/n2blkk3jmnr71.png   \n",
       "1     https://www.wowhead.com/news/suggestive-player-character-joke-and-flirt-voice-lines-removed-in-patch-9-1-5-324416   \n",
       "2                                                                                   https://i.redd.it/z5gz1ur1iii71.png   \n",
       "3                                                                                       https://v.redd.it/r9y2ihjizm571   \n",
       "4                                                                                   https://i.redd.it/rprzobkpzg571.png   \n",
       "...                                                                                                                 ...   \n",
       "3193                                                                                       http://i.imgur.com/PRMeh.jpg   \n",
       "3194                                                                                         http://imgur.com/a/Lmdm8#0   \n",
       "3195                                                                                             http://imgur.com/sbTLV   \n",
       "3196                                                                                       http://i.imgur.com/Z2qWx.jpg   \n",
       "3197                                                                         http://www.youtube.com/watch?v=wvYXoyxLv64   \n",
       "\n",
       "     subreddit  score  num_comments  num_crossposts  \n",
       "0          wow   2739          1321             0.0  \n",
       "1          wow   2474          3935             0.0  \n",
       "2          wow   2522          1026             0.0  \n",
       "3          wow   2356           504             0.0  \n",
       "4          wow   3118           305             0.0  \n",
       "...        ...    ...           ...             ...  \n",
       "3193       wow   2203           425             NaN  \n",
       "3194       wow   2423           157             NaN  \n",
       "3195       wow   2041            97             NaN  \n",
       "3196       wow   2917           158             NaN  \n",
       "3197       wow   2003          1085             NaN  \n",
       "\n",
       "[3198 rows x 9 columns]"
      ]
     },
     "execution_count": 10,
     "metadata": {},
     "output_type": "execute_result"
    }
   ],
   "source": [
    "wow_submissions[['author', 'date', 'title', 'selftext', 'url', 'subreddit', 'score', 'num_comments', 'num_crossposts']]"
   ]
  },
  {
   "cell_type": "markdown",
   "id": "0a2d9b18-23c3-4eec-a900-aaeae88f49ba",
   "metadata": {},
   "source": [
    "Creating a Visualisation myself\n",
    "\n",
    "Comparing the Reddit score to the amount of comments left on the post"
   ]
  },
  {
   "cell_type": "code",
   "execution_count": 11,
   "id": "9ff3598f-9782-4057-81a8-2e9e3d77cf05",
   "metadata": {},
   "outputs": [
    {
     "name": "stdout",
     "output_type": "stream",
     "text": [
      "      score  num_comments\n",
      "251   59409          2210\n",
      "1900  53491         10476\n",
      "472   30418          1260\n",
      "1690  29083          1928\n",
      "785   26636          1222\n"
     ]
    }
   ],
   "source": [
    "print(wow_submissions[['score', 'num_comments']].nlargest(5, ['score', 'num_comments']))\n",
    "to_plot = wow_submissions[['score', 'num_comments']].nlargest(5, ['score', 'num_comments'])"
   ]
  },
  {
   "cell_type": "code",
   "execution_count": 12,
   "id": "2a718ba3-9edd-4e97-9bbc-4f09ed4bd64c",
   "metadata": {},
   "outputs": [
    {
     "data": {
      "text/plain": [
       "<AxesSubplot:>"
      ]
     },
     "execution_count": 12,
     "metadata": {},
     "output_type": "execute_result"
    },
    {
     "data": {
      "image/png": "[encoded data removed]",
      "text/plain": [
       "<Figure size 432x288 with 1 Axes>"
      ]
     },
     "metadata": {
      "needs_background": "light"
     },
     "output_type": "display_data"
    }
   ],
   "source": [
    "to_plot.plot(kind='bar')"
   ]
  }
 ],
 "metadata": {
  "kernelspec": {
   "display_name": "Python 3",
   "language": "python",
   "name": "python3"
  },
  "language_info": {
   "codemirror_mode": {
    "name": "ipython",
    "version": 3
   },
   "file_extension": ".py",
   "mimetype": "text/x-python",
   "name": "python",
   "nbconvert_exporter": "python",
   "pygments_lexer": "ipython3",
   "version": "3.8.8"
  }
 },
 "nbformat": 4,
 "nbformat_minor": 5
}
